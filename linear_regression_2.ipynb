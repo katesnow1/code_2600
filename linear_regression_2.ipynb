{
 "cells": [
  {
   "cell_type": "markdown",
   "id": "d0a93dea",
   "metadata": {},
   "source": [
    "# Linear Regression: Demo"
   ]
  },
  {
   "cell_type": "code",
   "execution_count": 22,
   "id": "c649aa19",
   "metadata": {},
   "outputs": [],
   "source": [
    "# Start with importing the usual stuff\n",
    "\n",
    "import numpy as np\n",
    "import pandas as pd\n",
    "from matplotlib.pyplot import subplots\n",
    "import statsmodels.api as sm\n",
    "from sklearn.model_selection import train_test_split \n",
    "\n",
    "pd.options.mode.copy_on_write = True"
   ]
  },
  {
   "cell_type": "code",
   "execution_count": 23,
   "id": "5690ce37",
   "metadata": {},
   "outputs": [],
   "source": [
    "# This contains some functions written by the authors of the textbook (ISLP)\n",
    "# we'll be adapting most of the this demo from their material\n",
    "\n",
    "from ISLP import load_data\n",
    "from ISLP.models import (ModelSpec as MS,\n",
    "                         summarize,\n",
    "                         poly)"
   ]
  },
  {
   "cell_type": "markdown",
   "id": "182764f9",
   "metadata": {},
   "source": [
    "## Set up data"
   ]
  },
  {
   "cell_type": "code",
   "execution_count": 24,
   "id": "61981e59",
   "metadata": {},
   "outputs": [
    {
     "data": {
      "text/html": [
       "<div>\n",
       "<style scoped>\n",
       "    .dataframe tbody tr th:only-of-type {\n",
       "        vertical-align: middle;\n",
       "    }\n",
       "\n",
       "    .dataframe tbody tr th {\n",
       "        vertical-align: top;\n",
       "    }\n",
       "\n",
       "    .dataframe thead th {\n",
       "        text-align: right;\n",
       "    }\n",
       "</style>\n",
       "<table border=\"1\" class=\"dataframe\">\n",
       "  <thead>\n",
       "    <tr style=\"text-align: right;\">\n",
       "      <th></th>\n",
       "      <th>Unnamed: 0</th>\n",
       "      <th>TV</th>\n",
       "      <th>radio</th>\n",
       "      <th>newspaper</th>\n",
       "      <th>sales</th>\n",
       "    </tr>\n",
       "  </thead>\n",
       "  <tbody>\n",
       "    <tr>\n",
       "      <th>0</th>\n",
       "      <td>1</td>\n",
       "      <td>230.1</td>\n",
       "      <td>37.8</td>\n",
       "      <td>69.2</td>\n",
       "      <td>22.1</td>\n",
       "    </tr>\n",
       "    <tr>\n",
       "      <th>1</th>\n",
       "      <td>2</td>\n",
       "      <td>44.5</td>\n",
       "      <td>39.3</td>\n",
       "      <td>45.1</td>\n",
       "      <td>10.4</td>\n",
       "    </tr>\n",
       "    <tr>\n",
       "      <th>2</th>\n",
       "      <td>3</td>\n",
       "      <td>17.2</td>\n",
       "      <td>45.9</td>\n",
       "      <td>69.3</td>\n",
       "      <td>9.3</td>\n",
       "    </tr>\n",
       "    <tr>\n",
       "      <th>3</th>\n",
       "      <td>4</td>\n",
       "      <td>151.5</td>\n",
       "      <td>41.3</td>\n",
       "      <td>58.5</td>\n",
       "      <td>18.5</td>\n",
       "    </tr>\n",
       "    <tr>\n",
       "      <th>4</th>\n",
       "      <td>5</td>\n",
       "      <td>180.8</td>\n",
       "      <td>10.8</td>\n",
       "      <td>58.4</td>\n",
       "      <td>12.9</td>\n",
       "    </tr>\n",
       "    <tr>\n",
       "      <th>...</th>\n",
       "      <td>...</td>\n",
       "      <td>...</td>\n",
       "      <td>...</td>\n",
       "      <td>...</td>\n",
       "      <td>...</td>\n",
       "    </tr>\n",
       "    <tr>\n",
       "      <th>195</th>\n",
       "      <td>196</td>\n",
       "      <td>38.2</td>\n",
       "      <td>3.7</td>\n",
       "      <td>13.8</td>\n",
       "      <td>7.6</td>\n",
       "    </tr>\n",
       "    <tr>\n",
       "      <th>196</th>\n",
       "      <td>197</td>\n",
       "      <td>94.2</td>\n",
       "      <td>4.9</td>\n",
       "      <td>8.1</td>\n",
       "      <td>9.7</td>\n",
       "    </tr>\n",
       "    <tr>\n",
       "      <th>197</th>\n",
       "      <td>198</td>\n",
       "      <td>177.0</td>\n",
       "      <td>9.3</td>\n",
       "      <td>6.4</td>\n",
       "      <td>12.8</td>\n",
       "    </tr>\n",
       "    <tr>\n",
       "      <th>198</th>\n",
       "      <td>199</td>\n",
       "      <td>283.6</td>\n",
       "      <td>42.0</td>\n",
       "      <td>66.2</td>\n",
       "      <td>25.5</td>\n",
       "    </tr>\n",
       "    <tr>\n",
       "      <th>199</th>\n",
       "      <td>200</td>\n",
       "      <td>232.1</td>\n",
       "      <td>8.6</td>\n",
       "      <td>8.7</td>\n",
       "      <td>13.4</td>\n",
       "    </tr>\n",
       "  </tbody>\n",
       "</table>\n",
       "<p>200 rows × 5 columns</p>\n",
       "</div>"
      ],
      "text/plain": [
       "     Unnamed: 0     TV  radio  newspaper  sales\n",
       "0             1  230.1   37.8       69.2   22.1\n",
       "1             2   44.5   39.3       45.1   10.4\n",
       "2             3   17.2   45.9       69.3    9.3\n",
       "3             4  151.5   41.3       58.5   18.5\n",
       "4             5  180.8   10.8       58.4   12.9\n",
       "..          ...    ...    ...        ...    ...\n",
       "195         196   38.2    3.7       13.8    7.6\n",
       "196         197   94.2    4.9        8.1    9.7\n",
       "197         198  177.0    9.3        6.4   12.8\n",
       "198         199  283.6   42.0       66.2   25.5\n",
       "199         200  232.1    8.6        8.7   13.4\n",
       "\n",
       "[200 rows x 5 columns]"
      ]
     },
     "execution_count": 24,
     "metadata": {},
     "output_type": "execute_result"
    }
   ],
   "source": [
    "# First we'll load the \"Advertising\" data\n",
    "\n",
    "Advertising = pd.read_csv('../data/Advertising.csv')\n",
    "#Advertising = pd.read_csv('Advertising.csv')\n",
    "Advertising"
   ]
  },
  {
   "cell_type": "code",
   "execution_count": 25,
   "id": "0c4916de",
   "metadata": {},
   "outputs": [],
   "source": [
    "# Identify predictors and target\n",
    "\n",
    "X = Advertising[['TV', 'radio', 'newspaper']]\n",
    "y = Advertising['sales']"
   ]
  },
  {
   "cell_type": "code",
   "execution_count": 26,
   "id": "914dd466",
   "metadata": {},
   "outputs": [
    {
     "data": {
      "text/html": [
       "<div>\n",
       "<style scoped>\n",
       "    .dataframe tbody tr th:only-of-type {\n",
       "        vertical-align: middle;\n",
       "    }\n",
       "\n",
       "    .dataframe tbody tr th {\n",
       "        vertical-align: top;\n",
       "    }\n",
       "\n",
       "    .dataframe thead th {\n",
       "        text-align: right;\n",
       "    }\n",
       "</style>\n",
       "<table border=\"1\" class=\"dataframe\">\n",
       "  <thead>\n",
       "    <tr style=\"text-align: right;\">\n",
       "      <th></th>\n",
       "      <th>TV</th>\n",
       "      <th>radio</th>\n",
       "      <th>newspaper</th>\n",
       "      <th>intercept</th>\n",
       "    </tr>\n",
       "  </thead>\n",
       "  <tbody>\n",
       "    <tr>\n",
       "      <th>0</th>\n",
       "      <td>230.1</td>\n",
       "      <td>37.8</td>\n",
       "      <td>69.2</td>\n",
       "      <td>1.0</td>\n",
       "    </tr>\n",
       "    <tr>\n",
       "      <th>1</th>\n",
       "      <td>44.5</td>\n",
       "      <td>39.3</td>\n",
       "      <td>45.1</td>\n",
       "      <td>1.0</td>\n",
       "    </tr>\n",
       "    <tr>\n",
       "      <th>2</th>\n",
       "      <td>17.2</td>\n",
       "      <td>45.9</td>\n",
       "      <td>69.3</td>\n",
       "      <td>1.0</td>\n",
       "    </tr>\n",
       "    <tr>\n",
       "      <th>3</th>\n",
       "      <td>151.5</td>\n",
       "      <td>41.3</td>\n",
       "      <td>58.5</td>\n",
       "      <td>1.0</td>\n",
       "    </tr>\n",
       "    <tr>\n",
       "      <th>4</th>\n",
       "      <td>180.8</td>\n",
       "      <td>10.8</td>\n",
       "      <td>58.4</td>\n",
       "      <td>1.0</td>\n",
       "    </tr>\n",
       "    <tr>\n",
       "      <th>...</th>\n",
       "      <td>...</td>\n",
       "      <td>...</td>\n",
       "      <td>...</td>\n",
       "      <td>...</td>\n",
       "    </tr>\n",
       "    <tr>\n",
       "      <th>195</th>\n",
       "      <td>38.2</td>\n",
       "      <td>3.7</td>\n",
       "      <td>13.8</td>\n",
       "      <td>1.0</td>\n",
       "    </tr>\n",
       "    <tr>\n",
       "      <th>196</th>\n",
       "      <td>94.2</td>\n",
       "      <td>4.9</td>\n",
       "      <td>8.1</td>\n",
       "      <td>1.0</td>\n",
       "    </tr>\n",
       "    <tr>\n",
       "      <th>197</th>\n",
       "      <td>177.0</td>\n",
       "      <td>9.3</td>\n",
       "      <td>6.4</td>\n",
       "      <td>1.0</td>\n",
       "    </tr>\n",
       "    <tr>\n",
       "      <th>198</th>\n",
       "      <td>283.6</td>\n",
       "      <td>42.0</td>\n",
       "      <td>66.2</td>\n",
       "      <td>1.0</td>\n",
       "    </tr>\n",
       "    <tr>\n",
       "      <th>199</th>\n",
       "      <td>232.1</td>\n",
       "      <td>8.6</td>\n",
       "      <td>8.7</td>\n",
       "      <td>1.0</td>\n",
       "    </tr>\n",
       "  </tbody>\n",
       "</table>\n",
       "<p>200 rows × 4 columns</p>\n",
       "</div>"
      ],
      "text/plain": [
       "        TV  radio  newspaper  intercept\n",
       "0    230.1   37.8       69.2        1.0\n",
       "1     44.5   39.3       45.1        1.0\n",
       "2     17.2   45.9       69.3        1.0\n",
       "3    151.5   41.3       58.5        1.0\n",
       "4    180.8   10.8       58.4        1.0\n",
       "..     ...    ...        ...        ...\n",
       "195   38.2    3.7       13.8        1.0\n",
       "196   94.2    4.9        8.1        1.0\n",
       "197  177.0    9.3        6.4        1.0\n",
       "198  283.6   42.0       66.2        1.0\n",
       "199  232.1    8.6        8.7        1.0\n",
       "\n",
       "[200 rows x 4 columns]"
      ]
     },
     "execution_count": 26,
     "metadata": {},
     "output_type": "execute_result"
    }
   ],
   "source": [
    "# Create a column for the intercept in the features matrix\n",
    "\n",
    "X['intercept'] = np.ones(Advertising.shape[0])\n",
    "X"
   ]
  },
  {
   "cell_type": "code",
   "execution_count": 27,
   "id": "fabfed92",
   "metadata": {},
   "outputs": [],
   "source": [
    "# Create training and testing sets\n",
    "\n",
    "X_train, X_test, y_train, y_test = train_test_split(X,\n",
    "                                                    y,\n",
    "                                                    random_state=314,\n",
    "                                                    test_size=0.25,\n",
    "                                                    shuffle=True) \n",
    "Train = pd.merge_ordered(X_train,y_train,left_on=X_train.index,right_on=y_train.index).drop(columns=['key_0'])\n",
    "Test = pd.merge_ordered(X_test,y_test,left_on=X_test.index,right_on=y_test.index).drop(columns=['key_0'])"
   ]
  },
  {
   "cell_type": "code",
   "execution_count": 28,
   "id": "21c5de7c",
   "metadata": {},
   "outputs": [
    {
     "name": "stdout",
     "output_type": "stream",
     "text": [
      "        TV  radio  newspaper  intercept\n",
      "178  276.7    2.3       23.7        1.0\n",
      "167  206.8    5.2       19.4        1.0\n",
      "116  139.2   14.3       25.6        1.0\n",
      "76    27.5    1.6       20.7        1.0\n",
      "11   214.7   24.0        4.0        1.0\n",
      "(150, 4)\n",
      "\n",
      "178    11.8\n",
      "167    12.2\n",
      "116    12.2\n",
      "76      6.9\n",
      "11     17.4\n",
      "Name: sales, dtype: float64\n",
      "(150,)\n",
      "\n",
      "        TV  radio  newspaper  intercept\n",
      "148   38.0   40.3       11.9        1.0\n",
      "34    95.7    1.4        7.4        1.0\n",
      "171  164.5   20.9       47.4        1.0\n",
      "96   197.6    3.5        5.9        1.0\n",
      "92   217.7   33.5       59.0        1.0\n",
      "(50, 4)\n",
      "\n",
      "148    10.9\n",
      "34      9.5\n",
      "171    14.5\n",
      "96     11.7\n",
      "92     19.4\n",
      "Name: sales, dtype: float64\n",
      "(50,)\n",
      "\n",
      "      TV  radio  newspaper  intercept  sales\n",
      "0  230.1   37.8       69.2        1.0   22.1\n",
      "1   44.5   39.3       45.1        1.0   10.4\n",
      "2  151.5   41.3       58.5        1.0   18.5\n",
      "3  180.8   10.8       58.4        1.0   12.9\n",
      "4    8.7   48.9       75.0        1.0    7.2\n",
      "(150, 5)\n",
      "\n",
      "      TV  radio  newspaper  intercept  sales\n",
      "0   17.2   45.9       69.3        1.0    9.3\n",
      "1   23.8   35.1       65.9        1.0    9.2\n",
      "2  281.4   39.6       55.8        1.0   24.4\n",
      "3  147.3   23.9       19.1        1.0   14.6\n",
      "4  237.4    5.1       23.5        1.0   12.5\n",
      "(50, 5)\n"
     ]
    }
   ],
   "source": [
    "# Spot check the train and test sets\n",
    "\n",
    "print(X_train.head()) \n",
    "print(X_train.shape)\n",
    "print()\n",
    "print(y_train.head()) \n",
    "print(y_train.shape)\n",
    "print() \n",
    "print(X_test.head()) \n",
    "print(X_test.shape)\n",
    "print() \n",
    "print(y_test.head())\n",
    "print(y_test.shape)\n",
    "print() \n",
    "print(Train.head())\n",
    "print(Train.shape)\n",
    "print() \n",
    "print(Test.head())\n",
    "print(Test.shape)"
   ]
  },
  {
   "cell_type": "code",
   "execution_count": 29,
   "id": "461035e1",
   "metadata": {},
   "outputs": [
    {
     "name": "stdout",
     "output_type": "stream",
     "text": [
      "Sales\n",
      "[ 4.8  5.3  5.6  5.7  5.9  6.6  6.7  6.9  7.   7.2  7.3  7.6  8.   8.1\n",
      "  8.4  8.5  8.6  8.7  8.8  9.3  9.4  9.5  9.6  9.7  9.9 10.1 10.3 10.4\n",
      " 10.5 10.6 10.7 10.8 11.  11.3 11.4 11.5 11.6 11.7 11.8 11.9 12.  12.2\n",
      " 12.4 12.5 12.6 12.7 12.9 13.2 13.4 13.6 14.  14.1 14.4 14.8 14.9 15.\n",
      " 15.2 15.3 15.5 15.6 15.7 15.9 16.  16.1 16.6 16.7 16.9 17.  17.1 17.2\n",
      " 17.3 17.4 17.6 18.  18.5 18.9 19.  19.2 19.6 19.7 19.8 20.1 20.2 20.7\n",
      " 20.8 21.4 21.5 21.7 21.8 22.1 22.2 22.3 22.4 22.6 23.7 23.8 24.2 24.7\n",
      " 25.4 25.5 27. ]\n",
      "TV\n",
      "[  5.4   7.8   8.4   8.6   8.7  11.7  13.1  13.2  16.9  17.2  17.9  18.7\n",
      "  18.8  19.4  19.6  25.   25.1  25.6  26.8  27.5  28.6  31.5  38.2  39.5\n",
      "  43.   43.1  44.5  44.7  48.3  50.   53.5  57.5  59.6  66.1  67.8  68.4\n",
      "  69.   69.2  70.6  75.3  75.5  76.3  76.4  87.2  88.3  89.7  90.4  93.9\n",
      "  94.2  96.2  97.2  97.5 100.4 102.7 107.4 109.8 110.7 112.9 116.  117.2\n",
      " 120.2 121.  123.1 131.7 135.2 136.2 137.9 139.2 139.3 139.5 140.3 141.3\n",
      " 149.7 149.8 151.5 156.6 163.3 163.5 165.6 168.4 170.2 172.5 175.1 175.7\n",
      " 180.8 184.9 187.8 188.4 191.1 193.2 193.7 195.4 197.6 198.9 199.8 204.1\n",
      " 205.  206.8 213.4 213.5 214.7 215.4 216.4 216.8 218.4 218.5 219.8 220.3\n",
      " 220.5 222.4 224.  225.8 227.2 228.  228.3 229.5 230.1 232.1 234.5 237.4\n",
      " 238.2 239.3 240.1 241.7 243.2 250.9 253.8 255.4 261.3 262.7 262.9 265.2\n",
      " 265.6 273.7 276.7 276.9 280.2 280.7 283.6 284.3 289.7 292.9 293.6 296.4]\n",
      "Radio\n",
      "[ 0.3  0.4  0.8  1.3  1.5  1.6  1.9  2.   2.1  2.3  2.4  2.6  2.9  3.1\n",
      "  3.4  3.5  3.7  4.1  4.3  4.9  5.2  5.4  5.8  7.1  7.3  7.6  7.7  7.8\n",
      "  8.2  8.4  8.6  9.3  9.6  9.9 10.  10.1 10.6 10.8 11.  11.6 11.8 12.\n",
      " 12.1 13.9 14.  14.3 14.5 14.7 14.8 15.4 15.5 15.8 15.9 16.  16.7 16.9\n",
      " 17.4 18.1 18.4 19.2 19.6 20.  20.1 20.3 20.5 21.  21.1 21.3 21.7 22.5\n",
      " 23.3 23.6 24.  24.6 25.5 25.7 25.8 25.9 26.7 26.8 26.9 27.2 27.5 27.7\n",
      " 28.3 28.7 28.8 28.9 29.6 29.9 31.6 32.3 32.8 32.9 33.  33.2 33.5 34.3\n",
      " 34.6 35.4 35.6 36.3 36.5 36.6 36.8 36.9 37.6 37.7 37.8 38.  38.9 39.\n",
      " 39.3 40.6 41.1 41.3 41.7 42.  42.3 42.7 43.  43.5 43.7 43.9 44.5 45.1\n",
      " 46.4 47.  47.7 47.8 48.9 49.  49.4]\n",
      "Newspaper\n",
      "[  0.3   0.9   1.    1.7   1.8   2.1   2.2   2.4   3.2   3.6   4.    5.3\n",
      "   5.4   5.5   5.8   6.    6.4   7.2   7.4   8.1   8.3   8.4   8.5   8.7\n",
      "   9.    9.3   9.4   9.5  10.2  10.9  11.   11.6  12.4  12.8  13.1  13.8\n",
      "  14.2  14.8  15.6  15.9  16.   16.6  17.   17.6  18.2  18.3  18.4  19.3\n",
      "  19.4  19.5  19.6  20.5  20.6  20.7  21.2  21.4  21.6  22.   22.3  22.9\n",
      "  23.1  23.2  23.4  23.5  23.7  24.2  24.3  25.6  25.9  26.2  26.6  27.2\n",
      "  27.3  27.4  29.7  30.   30.7  31.5  31.6  31.7  32.   32.5  33.   33.8\n",
      "  34.6  35.1  35.2  35.6  35.7  37.   37.9  38.6  38.9  39.6  40.8  41.8\n",
      "  43.   43.1  43.2  43.3  44.3  45.1  45.2  45.9  46.   46.2  48.7  49.6\n",
      "  49.8  49.9  50.4  50.5  50.6  51.2  51.4  52.9  53.4  54.7  56.5  57.6\n",
      "  58.4  58.5  59.   59.7  60.   63.2  65.7  66.2  69.2  72.3  73.4  74.2\n",
      "  75.   75.6  84.8  89.4 100.9 114. ]\n"
     ]
    }
   ],
   "source": [
    "# Look at possible values and spot check for missing entries\n",
    "\n",
    "print('Sales')\n",
    "print(np.unique(Train['sales']))\n",
    "print('TV')\n",
    "print(np.unique(Train['TV']))\n",
    "print('Radio')\n",
    "print(np.unique(Train['radio']))\n",
    "print('Newspaper')\n",
    "print(np.unique(Train['newspaper']))"
   ]
  },
  {
   "cell_type": "markdown",
   "id": "09c66433",
   "metadata": {},
   "source": [
    "## Simple Linear Regression, Example 1"
   ]
  },
  {
   "cell_type": "code",
   "execution_count": 30,
   "id": "d33f7d27",
   "metadata": {},
   "outputs": [
    {
     "data": {
      "text/html": [
       "<div>\n",
       "<style scoped>\n",
       "    .dataframe tbody tr th:only-of-type {\n",
       "        vertical-align: middle;\n",
       "    }\n",
       "\n",
       "    .dataframe tbody tr th {\n",
       "        vertical-align: top;\n",
       "    }\n",
       "\n",
       "    .dataframe thead th {\n",
       "        text-align: right;\n",
       "    }\n",
       "</style>\n",
       "<table border=\"1\" class=\"dataframe\">\n",
       "  <thead>\n",
       "    <tr style=\"text-align: right;\">\n",
       "      <th></th>\n",
       "      <th>coef</th>\n",
       "      <th>std err</th>\n",
       "      <th>t</th>\n",
       "      <th>P&gt;|t|</th>\n",
       "    </tr>\n",
       "  </thead>\n",
       "  <tbody>\n",
       "    <tr>\n",
       "      <th>intercept</th>\n",
       "      <td>6.9916</td>\n",
       "      <td>0.513</td>\n",
       "      <td>13.616</td>\n",
       "      <td>0.0</td>\n",
       "    </tr>\n",
       "    <tr>\n",
       "      <th>TV</th>\n",
       "      <td>0.0471</td>\n",
       "      <td>0.003</td>\n",
       "      <td>15.594</td>\n",
       "      <td>0.0</td>\n",
       "    </tr>\n",
       "  </tbody>\n",
       "</table>\n",
       "</div>"
      ],
      "text/plain": [
       "             coef  std err       t  P>|t|\n",
       "intercept  6.9916    0.513  13.616    0.0\n",
       "TV         0.0471    0.003  15.594    0.0"
      ]
     },
     "execution_count": 30,
     "metadata": {},
     "output_type": "execute_result"
    }
   ],
   "source": [
    "# Build a linear model where TV predicts sales\n",
    "# Take note of the p-values\n",
    "\n",
    "model_TV = sm.OLS(y_train, X_train[['intercept','TV']])\n",
    "results_TV = model_TV.fit()\n",
    "summarize(results_TV)"
   ]
  },
  {
   "cell_type": "code",
   "execution_count": 31,
   "id": "1bb82320",
   "metadata": {},
   "outputs": [
    {
     "name": "stdout",
     "output_type": "stream",
     "text": [
      "R^2 on train: 0.6216467262550329\n"
     ]
    }
   ],
   "source": [
    "# We can also assess the overall fit of the model\n",
    "\n",
    "print('R^2 on train:',results_TV.rsquared)"
   ]
  },
  {
   "cell_type": "code",
   "execution_count": 32,
   "id": "b41a973e",
   "metadata": {},
   "outputs": [],
   "source": [
    "# Create helper functions for computing the mean squared error\n",
    "\n",
    "def predict(X, model):\n",
    "    # the built-in get_prediction tool returns an array, so we need to convert to a dataframe\n",
    "    predictions_df = pd.DataFrame(model.get_prediction(X).predicted, columns=['y_hat'], index=X.index)\n",
    "    return predictions_df['y_hat']\n",
    "\n",
    "def mse(y, y_hat):\n",
    "    # calculate the residual error for each individual record\n",
    "    resid = y - y_hat\n",
    "    # square the residual (hence \"squared error\")\n",
    "    sq_resid = resid**2\n",
    "    # calculate the sum of squared errors\n",
    "    SSR = sum(sq_resid)\n",
    "    # divide by the number of records to get the mean squared error\n",
    "    MSE = SSR / y.shape[0]\n",
    "    return MSE"
   ]
  },
  {
   "cell_type": "code",
   "execution_count": 33,
   "id": "7c41f89d",
   "metadata": {},
   "outputs": [
    {
     "name": "stdout",
     "output_type": "stream",
     "text": [
      "mse train: 10.058080370357244\n",
      "mse test: 11.93215644343394\n"
     ]
    }
   ],
   "source": [
    "# Let's compute the MSE on the training and test sets\n",
    "\n",
    "predictions_TV_train = predict(X_train[['intercept', 'TV']], results_TV)\n",
    "print('mse train:',mse(y_train, predictions_TV_train))\n",
    "predictions_TV_test = predict(X_test[['intercept', 'TV']], results_TV)\n",
    "print('mse test:',mse(y_test, predictions_TV_test))"
   ]
  },
  {
   "cell_type": "code",
   "execution_count": 34,
   "id": "711afd04",
   "metadata": {},
   "outputs": [],
   "source": [
    "# Define a function to draw a line given coefficients [credit to Hastie & Tibshirani]\n",
    "\n",
    "def abline(ax, b, m, *args, **kwargs):\n",
    "    \"Add a line with slope m and intercept b to ax\"\n",
    "    xlim = ax.get_xlim()\n",
    "    ylim = [m * xlim[0] + b, m * xlim[1] + b]\n",
    "    ax.plot(xlim, ylim, *args, **kwargs)"
   ]
  },
  {
   "cell_type": "code",
   "execution_count": 35,
   "id": "85413c26",
   "metadata": {},
   "outputs": [
    {
     "name": "stderr",
     "output_type": "stream",
     "text": [
      "C:\\Users\\kate\\AppData\\Local\\Temp\\ipykernel_40580\\825349425.py:6: FutureWarning: Series.__getitem__ treating keys as positions is deprecated. In a future version, integer keys will always be treated as labels (consistent with DataFrame behavior). To access a value by position, use `ser.iloc[pos]`\n",
      "  results_TV.params[0],\n",
      "C:\\Users\\kate\\AppData\\Local\\Temp\\ipykernel_40580\\825349425.py:7: FutureWarning: Series.__getitem__ treating keys as positions is deprecated. In a future version, integer keys will always be treated as labels (consistent with DataFrame behavior). To access a value by position, use `ser.iloc[pos]`\n",
      "  results_TV.params[1],\n"
     ]
    },
    {
     "data": {
      "image/png": "[encoded data removed]",
      "text/plain": [
       "<Figure size 640x480 with 1 Axes>"
      ]
     },
     "metadata": {},
     "output_type": "display_data"
    }
   ],
   "source": [
    "# Plot TV vs sales on training set\n",
    "\n",
    "ax = Train.plot.scatter('TV', 'sales')\n",
    "ax.set_title(\"Plot of TV vs Sales (Train)\")\n",
    "abline(ax,\n",
    "       results_TV.params[0],\n",
    "       results_TV.params[1],\n",
    "       'r--',\n",
    "       linewidth=3)"
   ]
  },
  {
   "cell_type": "code",
   "execution_count": 36,
   "id": "e0d01f3a",
   "metadata": {},
   "outputs": [
    {
     "name": "stderr",
     "output_type": "stream",
     "text": [
      "C:\\Users\\kate\\AppData\\Local\\Temp\\ipykernel_40580\\3642811522.py:6: FutureWarning: Series.__getitem__ treating keys as positions is deprecated. In a future version, integer keys will always be treated as labels (consistent with DataFrame behavior). To access a value by position, use `ser.iloc[pos]`\n",
      "  results_TV.params[0],\n",
      "C:\\Users\\kate\\AppData\\Local\\Temp\\ipykernel_40580\\3642811522.py:7: FutureWarning: Series.__getitem__ treating keys as positions is deprecated. In a future version, integer keys will always be treated as labels (consistent with DataFrame behavior). To access a value by position, use `ser.iloc[pos]`\n",
      "  results_TV.params[1],\n"
     ]
    },
    {
     "data": {
      "image/png": "[encoded data removed]",
      "text/plain": [
       "<Figure size 640x480 with 1 Axes>"
      ]
     },
     "metadata": {},
     "output_type": "display_data"
    }
   ],
   "source": [
    "# Plot TV vs sales on test set\n",
    "\n",
    "ax = Test.plot.scatter('TV', 'sales')\n",
    "ax.set_title(\"Plot of TV vs Sales (Test)\")\n",
    "abline(ax,\n",
    "       results_TV.params[0],\n",
    "       results_TV.params[1],\n",
    "       'g--',\n",
    "       linewidth=3)"
   ]
  },
  {
   "cell_type": "code",
   "execution_count": 37,
   "id": "a24286bb",
   "metadata": {},
   "outputs": [
    {
     "data": {
      "image/png": "[encoded data removed]",
      "text/plain": [
       "<Figure size 800x800 with 1 Axes>"
      ]
     },
     "metadata": {},
     "output_type": "display_data"
    }
   ],
   "source": [
    "# Plot residual error for train set\n",
    "\n",
    "ax = subplots(figsize=(8,8))[1]\n",
    "ax.scatter(predictions_TV_train, y_train-predictions_TV_train)\n",
    "ax.set_xlabel('Fitted value')\n",
    "ax.set_ylabel('Residual')\n",
    "ax.axhline(0, c='k', ls='--');"
   ]
  },
  {
   "cell_type": "code",
   "execution_count": 38,
   "id": "e60a6a19",
   "metadata": {},
   "outputs": [
    {
     "data": {
      "image/png": "[encoded data removed]",
      "text/plain": [
       "<Figure size 800x800 with 1 Axes>"
      ]
     },
     "metadata": {},
     "output_type": "display_data"
    }
   ],
   "source": [
    "# Plot residual error for test set\n",
    "\n",
    "ax = subplots(figsize=(8,8))[1]\n",
    "ax.scatter(predictions_TV_test, y_test-predictions_TV_test)\n",
    "ax.set_xlabel('Fitted value')\n",
    "ax.set_ylabel('Residual')\n",
    "ax.axhline(0, c='k', ls='--');"
   ]
  },
  {
   "cell_type": "markdown",
   "id": "9c7cd2d0",
   "metadata": {},
   "source": [
    "## Simple Linear Regression, Example 2"
   ]
  },
  {
   "cell_type": "code",
   "execution_count": 39,
   "id": "04debb48",
   "metadata": {},
   "outputs": [
    {
     "data": {
      "text/html": [
       "<div>\n",
       "<style scoped>\n",
       "    .dataframe tbody tr th:only-of-type {\n",
       "        vertical-align: middle;\n",
       "    }\n",
       "\n",
       "    .dataframe tbody tr th {\n",
       "        vertical-align: top;\n",
       "    }\n",
       "\n",
       "    .dataframe thead th {\n",
       "        text-align: right;\n",
       "    }\n",
       "</style>\n",
       "<table border=\"1\" class=\"dataframe\">\n",
       "  <thead>\n",
       "    <tr style=\"text-align: right;\">\n",
       "      <th></th>\n",
       "      <th>coef</th>\n",
       "      <th>std err</th>\n",
       "      <th>t</th>\n",
       "      <th>P&gt;|t|</th>\n",
       "    </tr>\n",
       "  </thead>\n",
       "  <tbody>\n",
       "    <tr>\n",
       "      <th>intercept</th>\n",
       "      <td>9.1138</td>\n",
       "      <td>0.621</td>\n",
       "      <td>14.670</td>\n",
       "      <td>0.0</td>\n",
       "    </tr>\n",
       "    <tr>\n",
       "      <th>radio</th>\n",
       "      <td>0.2131</td>\n",
       "      <td>0.023</td>\n",
       "      <td>9.168</td>\n",
       "      <td>0.0</td>\n",
       "    </tr>\n",
       "  </tbody>\n",
       "</table>\n",
       "</div>"
      ],
      "text/plain": [
       "             coef  std err       t  P>|t|\n",
       "intercept  9.1138    0.621  14.670    0.0\n",
       "radio      0.2131    0.023   9.168    0.0"
      ]
     },
     "execution_count": 39,
     "metadata": {},
     "output_type": "execute_result"
    }
   ],
   "source": [
    "# Build a linear model where radio predicts sales\n",
    "\n",
    "model_radio = sm.OLS(y_train, X_train[['intercept','radio']])\n",
    "results_radio = model_radio.fit()\n",
    "summarize(results_radio)"
   ]
  },
  {
   "cell_type": "code",
   "execution_count": 40,
   "id": "4399b1a1",
   "metadata": {},
   "outputs": [
    {
     "name": "stdout",
     "output_type": "stream",
     "text": [
      "R^2 on train: 0.3622134728975632\n"
     ]
    }
   ],
   "source": [
    "# R^2 for radio model\n",
    "print('R^2 on train:',results_radio.rsquared)"
   ]
  },
  {
   "cell_type": "code",
   "execution_count": 41,
   "id": "6c3d574b",
   "metadata": {},
   "outputs": [
    {
     "name": "stdout",
     "output_type": "stream",
     "text": [
      "mse train: 16.95481073873666\n",
      "mse test: 21.61432904416997\n"
     ]
    }
   ],
   "source": [
    "# MSE for radio model\n",
    "\n",
    "predictions_radio_train = predict(X_train[['intercept', 'radio']], results_radio)\n",
    "print('mse train:',mse(y_train, predictions_radio_train))\n",
    "predictions_radio_test = predict(X_test[['intercept', 'radio']], results_radio)\n",
    "print('mse test:',mse(y_test, predictions_radio_test))"
   ]
  },
  {
   "cell_type": "code",
   "execution_count": 42,
   "id": "32862328",
   "metadata": {},
   "outputs": [
    {
     "name": "stderr",
     "output_type": "stream",
     "text": [
      "C:\\Users\\kate\\AppData\\Local\\Temp\\ipykernel_40580\\282474014.py:6: FutureWarning: Series.__getitem__ treating keys as positions is deprecated. In a future version, integer keys will always be treated as labels (consistent with DataFrame behavior). To access a value by position, use `ser.iloc[pos]`\n",
      "  results_radio.params[0],\n",
      "C:\\Users\\kate\\AppData\\Local\\Temp\\ipykernel_40580\\282474014.py:7: FutureWarning: Series.__getitem__ treating keys as positions is deprecated. In a future version, integer keys will always be treated as labels (consistent with DataFrame behavior). To access a value by position, use `ser.iloc[pos]`\n",
      "  results_radio.params[1],\n"
     ]
    },
    {
     "data": {
      "image/png": "[encoded data removed]",
      "text/plain": [
       "<Figure size 640x480 with 1 Axes>"
      ]
     },
     "metadata": {},
     "output_type": "display_data"
    }
   ],
   "source": [
    "# Plot radio vs sales on training set\n",
    "\n",
    "ax = Train.plot.scatter('radio', 'sales')\n",
    "ax.set_title(\"Plot of Radio vs Sales (Train)\")\n",
    "abline(ax,\n",
    "       results_radio.params[0],\n",
    "       results_radio.params[1],\n",
    "       'r--',\n",
    "       linewidth=3)"
   ]
  },
  {
   "cell_type": "code",
   "execution_count": 43,
   "id": "05368e9c",
   "metadata": {},
   "outputs": [
    {
     "name": "stderr",
     "output_type": "stream",
     "text": [
      "C:\\Users\\kate\\AppData\\Local\\Temp\\ipykernel_40580\\842388102.py:6: FutureWarning: Series.__getitem__ treating keys as positions is deprecated. In a future version, integer keys will always be treated as labels (consistent with DataFrame behavior). To access a value by position, use `ser.iloc[pos]`\n",
      "  results_radio.params[0],\n",
      "C:\\Users\\kate\\AppData\\Local\\Temp\\ipykernel_40580\\842388102.py:7: FutureWarning: Series.__getitem__ treating keys as positions is deprecated. In a future version, integer keys will always be treated as labels (consistent with DataFrame behavior). To access a value by position, use `ser.iloc[pos]`\n",
      "  results_radio.params[1],\n"
     ]
    },
    {
     "data": {
      "image/png": "[encoded data removed]",
      "text/plain": [
       "<Figure size 640x480 with 1 Axes>"
      ]
     },
     "metadata": {},
     "output_type": "display_data"
    }
   ],
   "source": [
    "# Plot radio vs sales on test set\n",
    "\n",
    "ax = Test.plot.scatter('radio', 'sales')\n",
    "ax.set_title(\"Plot of Radio vs Sales (Test)\")\n",
    "abline(ax,\n",
    "       results_radio.params[0],\n",
    "       results_radio.params[1],\n",
    "       'g--',\n",
    "       linewidth=3)"
   ]
  },
  {
   "cell_type": "code",
   "execution_count": 44,
   "id": "0e9f71b4",
   "metadata": {},
   "outputs": [
    {
     "data": {
      "image/png": "[encoded data removed]",
      "text/plain": [
       "<Figure size 800x800 with 1 Axes>"
      ]
     },
     "metadata": {},
     "output_type": "display_data"
    }
   ],
   "source": [
    "# Plot residual error for training set\n",
    "\n",
    "ax = subplots(figsize=(8,8))[1]\n",
    "ax.scatter(predictions_radio_train, y_train-predictions_radio_train)\n",
    "ax.set_xlabel('Fitted value')\n",
    "ax.set_ylabel('Residual')\n",
    "ax.axhline(0, c='k', ls='--');"
   ]
  },
  {
   "cell_type": "code",
   "execution_count": 45,
   "id": "bbfd01de",
   "metadata": {},
   "outputs": [
    {
     "data": {
      "image/png": "[encoded data removed]",
      "text/plain": [
       "<Figure size 800x800 with 1 Axes>"
      ]
     },
     "metadata": {},
     "output_type": "display_data"
    }
   ],
   "source": [
    "# Plot residual error for test set\n",
    "\n",
    "ax = subplots(figsize=(8,8))[1]\n",
    "ax.scatter(predictions_radio_test, y_test-predictions_radio_test)\n",
    "ax.set_xlabel('Fitted value')\n",
    "ax.set_ylabel('Residual')\n",
    "ax.axhline(0, c='k', ls='--');"
   ]
  },
  {
   "cell_type": "markdown",
   "id": "fadc29cd",
   "metadata": {},
   "source": [
    "## Simple Linear Regression, Example 3"
   ]
  },
  {
   "cell_type": "code",
   "execution_count": 46,
   "id": "7bac4f89",
   "metadata": {},
   "outputs": [
    {
     "data": {
      "text/html": [
       "<div>\n",
       "<style scoped>\n",
       "    .dataframe tbody tr th:only-of-type {\n",
       "        vertical-align: middle;\n",
       "    }\n",
       "\n",
       "    .dataframe tbody tr th {\n",
       "        vertical-align: top;\n",
       "    }\n",
       "\n",
       "    .dataframe thead th {\n",
       "        text-align: right;\n",
       "    }\n",
       "</style>\n",
       "<table border=\"1\" class=\"dataframe\">\n",
       "  <thead>\n",
       "    <tr style=\"text-align: right;\">\n",
       "      <th></th>\n",
       "      <th>coef</th>\n",
       "      <th>std err</th>\n",
       "      <th>t</th>\n",
       "      <th>P&gt;|t|</th>\n",
       "    </tr>\n",
       "  </thead>\n",
       "  <tbody>\n",
       "    <tr>\n",
       "      <th>intercept</th>\n",
       "      <td>12.1253</td>\n",
       "      <td>0.706</td>\n",
       "      <td>17.187</td>\n",
       "      <td>0.000</td>\n",
       "    </tr>\n",
       "    <tr>\n",
       "      <th>newspaper</th>\n",
       "      <td>0.0573</td>\n",
       "      <td>0.019</td>\n",
       "      <td>3.077</td>\n",
       "      <td>0.002</td>\n",
       "    </tr>\n",
       "  </tbody>\n",
       "</table>\n",
       "</div>"
      ],
      "text/plain": [
       "              coef  std err       t  P>|t|\n",
       "intercept  12.1253    0.706  17.187  0.000\n",
       "newspaper   0.0573    0.019   3.077  0.002"
      ]
     },
     "execution_count": 46,
     "metadata": {},
     "output_type": "execute_result"
    }
   ],
   "source": [
    "# Build a linear model where newspaper predicts sales\n",
    "\n",
    "model_newspaper = sm.OLS(y_train, X_train[['intercept','newspaper']])\n",
    "results_newspaper = model_newspaper.fit()\n",
    "summarize(results_newspaper)"
   ]
  },
  {
   "cell_type": "code",
   "execution_count": 47,
   "id": "2177b1d9",
   "metadata": {},
   "outputs": [
    {
     "name": "stdout",
     "output_type": "stream",
     "text": [
      "R^2 on train: 0.06012270409536147\n"
     ]
    }
   ],
   "source": [
    "# R^2 for newspaper model\n",
    "\n",
    "print('R^2 on train:',results_newspaper.rsquared)"
   ]
  },
  {
   "cell_type": "code",
   "execution_count": 48,
   "id": "cfab590c",
   "metadata": {},
   "outputs": [
    {
     "name": "stdout",
     "output_type": "stream",
     "text": [
      "mse train: 24.985541388112924\n",
      "mse test: 27.838263311750374\n"
     ]
    }
   ],
   "source": [
    "# MSE for newspaper model\n",
    "\n",
    "predictions_newspaper_train = predict(X_train[['intercept','newspaper']], results_newspaper)\n",
    "print('mse train:',mse(y_train, predictions_newspaper_train))\n",
    "predictions_newspaper_test = predict(X_test[['intercept','newspaper']], results_newspaper)\n",
    "print('mse test:',mse(y_test, predictions_newspaper_test))"
   ]
  },
  {
   "cell_type": "code",
   "execution_count": 49,
   "id": "59a3aafa",
   "metadata": {},
   "outputs": [
    {
     "name": "stderr",
     "output_type": "stream",
     "text": [
      "C:\\Users\\kate\\AppData\\Local\\Temp\\ipykernel_40580\\3281445806.py:5: FutureWarning: Series.__getitem__ treating keys as positions is deprecated. In a future version, integer keys will always be treated as labels (consistent with DataFrame behavior). To access a value by position, use `ser.iloc[pos]`\n",
      "  results_newspaper.params[0],\n",
      "C:\\Users\\kate\\AppData\\Local\\Temp\\ipykernel_40580\\3281445806.py:6: FutureWarning: Series.__getitem__ treating keys as positions is deprecated. In a future version, integer keys will always be treated as labels (consistent with DataFrame behavior). To access a value by position, use `ser.iloc[pos]`\n",
      "  results_newspaper.params[1],\n"
     ]
    },
    {
     "data": {
      "image/png": "[encoded data removed]",
      "text/plain": [
       "<Figure size 640x480 with 1 Axes>"
      ]
     },
     "metadata": {},
     "output_type": "display_data"
    }
   ],
   "source": [
    "# Plot newspaper vs sales\n",
    "\n",
    "ax = Train.plot.scatter('newspaper', 'sales')\n",
    "abline(ax,\n",
    "       results_newspaper.params[0],\n",
    "       results_newspaper.params[1],\n",
    "       'r--',\n",
    "       linewidth=3)"
   ]
  },
  {
   "cell_type": "markdown",
   "id": "3255d6c7",
   "metadata": {},
   "source": [
    "## Multiple Linear Regression"
   ]
  },
  {
   "cell_type": "code",
   "execution_count": 50,
   "id": "f6877adf",
   "metadata": {},
   "outputs": [
    {
     "data": {
      "text/html": [
       "<div>\n",
       "<style scoped>\n",
       "    .dataframe tbody tr th:only-of-type {\n",
       "        vertical-align: middle;\n",
       "    }\n",
       "\n",
       "    .dataframe tbody tr th {\n",
       "        vertical-align: top;\n",
       "    }\n",
       "\n",
       "    .dataframe thead th {\n",
       "        text-align: right;\n",
       "    }\n",
       "</style>\n",
       "<table border=\"1\" class=\"dataframe\">\n",
       "  <thead>\n",
       "    <tr style=\"text-align: right;\">\n",
       "      <th></th>\n",
       "      <th>TV</th>\n",
       "      <th>radio</th>\n",
       "      <th>newspaper</th>\n",
       "      <th>intercept</th>\n",
       "      <th>sales</th>\n",
       "    </tr>\n",
       "  </thead>\n",
       "  <tbody>\n",
       "    <tr>\n",
       "      <th>TV</th>\n",
       "      <td>1.000000</td>\n",
       "      <td>0.086019</td>\n",
       "      <td>0.112012</td>\n",
       "      <td>NaN</td>\n",
       "      <td>0.788446</td>\n",
       "    </tr>\n",
       "    <tr>\n",
       "      <th>radio</th>\n",
       "      <td>0.086019</td>\n",
       "      <td>1.000000</td>\n",
       "      <td>0.324168</td>\n",
       "      <td>NaN</td>\n",
       "      <td>0.601842</td>\n",
       "    </tr>\n",
       "    <tr>\n",
       "      <th>newspaper</th>\n",
       "      <td>0.112012</td>\n",
       "      <td>0.324168</td>\n",
       "      <td>1.000000</td>\n",
       "      <td>NaN</td>\n",
       "      <td>0.245199</td>\n",
       "    </tr>\n",
       "    <tr>\n",
       "      <th>intercept</th>\n",
       "      <td>NaN</td>\n",
       "      <td>NaN</td>\n",
       "      <td>NaN</td>\n",
       "      <td>NaN</td>\n",
       "      <td>NaN</td>\n",
       "    </tr>\n",
       "    <tr>\n",
       "      <th>sales</th>\n",
       "      <td>0.788446</td>\n",
       "      <td>0.601842</td>\n",
       "      <td>0.245199</td>\n",
       "      <td>NaN</td>\n",
       "      <td>1.000000</td>\n",
       "    </tr>\n",
       "  </tbody>\n",
       "</table>\n",
       "</div>"
      ],
      "text/plain": [
       "                 TV     radio  newspaper  intercept     sales\n",
       "TV         1.000000  0.086019   0.112012        NaN  0.788446\n",
       "radio      0.086019  1.000000   0.324168        NaN  0.601842\n",
       "newspaper  0.112012  0.324168   1.000000        NaN  0.245199\n",
       "intercept       NaN       NaN        NaN        NaN       NaN\n",
       "sales      0.788446  0.601842   0.245199        NaN  1.000000"
      ]
     },
     "execution_count": 50,
     "metadata": {},
     "output_type": "execute_result"
    }
   ],
   "source": [
    "# Let's look at the correlations in the set\n",
    "\n",
    "Train.corr()"
   ]
  },
  {
   "cell_type": "code",
   "execution_count": 51,
   "id": "0ea24427",
   "metadata": {},
   "outputs": [
    {
     "ename": "ModuleNotFoundError",
     "evalue": "No module named 'seaborn'",
     "output_type": "error",
     "traceback": [
      "\u001b[31m---------------------------------------------------------------------------\u001b[39m",
      "\u001b[31mModuleNotFoundError\u001b[39m                       Traceback (most recent call last)",
      "\u001b[36mCell\u001b[39m\u001b[36m \u001b[39m\u001b[32mIn[51]\u001b[39m\u001b[32m, line 1\u001b[39m\n\u001b[32m----> \u001b[39m\u001b[32m1\u001b[39m \u001b[38;5;28;01mimport\u001b[39;00m\u001b[38;5;250m \u001b[39m\u001b[34;01mseaborn\u001b[39;00m\u001b[38;5;250m \u001b[39m\u001b[38;5;28;01mas\u001b[39;00m\u001b[38;5;250m \u001b[39m\u001b[34;01msns\u001b[39;00m\n\u001b[32m      3\u001b[39m \u001b[38;5;66;03m# Create a heatmap with the correlation matrix\u001b[39;00m\n\u001b[32m      4\u001b[39m sns.heatmap(Train.corr(), \n\u001b[32m      5\u001b[39m             annot=\u001b[38;5;28;01mTrue\u001b[39;00m,            \u001b[38;5;66;03m# Show correlation coefficients\u001b[39;00m\n\u001b[32m      6\u001b[39m             fmt=\u001b[33m\"\u001b[39m\u001b[33m.2f\u001b[39m\u001b[33m\"\u001b[39m,            \u001b[38;5;66;03m# Format the annotations\u001b[39;00m\n\u001b[32m      7\u001b[39m             cmap=\u001b[33m'\u001b[39m\u001b[33mcoolwarm\u001b[39m\u001b[33m'\u001b[39m,      \u001b[38;5;66;03m# Color map\u001b[39;00m\n\u001b[32m      8\u001b[39m             square=\u001b[38;5;28;01mTrue\u001b[39;00m,          \u001b[38;5;66;03m# Square cells\u001b[39;00m\n\u001b[32m      9\u001b[39m             cbar_kws={\u001b[33m\"\u001b[39m\u001b[33mshrink\u001b[39m\u001b[33m\"\u001b[39m: \u001b[32m.8\u001b[39m})  \u001b[38;5;66;03m# Color bar size\u001b[39;00m\n",
      "\u001b[31mModuleNotFoundError\u001b[39m: No module named 'seaborn'"
     ]
    }
   ],
   "source": [
    "import seaborn as sns\n",
    "\n",
    "# Create a heatmap with the correlation matrix\n",
    "sns.heatmap(Train.corr(), \n",
    "            annot=True,            # Show correlation coefficients\n",
    "            fmt=\".2f\",            # Format the annotations\n",
    "            cmap='coolwarm',      # Color map\n",
    "            square=True,          # Square cells\n",
    "            cbar_kws={\"shrink\": .8})  # Color bar size"
   ]
  },
  {
   "cell_type": "code",
   "execution_count": 52,
   "id": "dc70d698",
   "metadata": {},
   "outputs": [
    {
     "name": "stdout",
     "output_type": "stream",
     "text": [
      "             coef  std err       t  P>|t|\n",
      "intercept  3.1270    0.310  10.088    0.0\n",
      "TV         0.0443    0.001  29.710    0.0\n",
      "radio      0.1905    0.009  21.537    0.0\n"
     ]
    }
   ],
   "source": [
    "# Build a linear model with both TV and radio as predictors of sales\n",
    "\n",
    "model_both = sm.OLS(y_train, X_train[['intercept','TV','radio']])\n",
    "results_both = model_both.fit()\n",
    "print(summarize(results_both))"
   ]
  },
  {
   "cell_type": "code",
   "execution_count": 53,
   "id": "a4c34a06",
   "metadata": {},
   "outputs": [
    {
     "name": "stdout",
     "output_type": "stream",
     "text": [
      "             coef  std err       t  P>|t|\n",
      "intercept  6.9916    0.513  13.616    0.0\n",
      "TV         0.0471    0.003  15.594    0.0\n",
      "\n",
      "             coef  std err       t  P>|t|\n",
      "intercept  9.1138    0.621  14.670    0.0\n",
      "radio      0.2131    0.023   9.168    0.0\n"
     ]
    }
   ],
   "source": [
    "# Let's remind ourselves what the parameters were when we fit TV and radio separately\n",
    "\n",
    "print(summarize(results_TV))\n",
    "print('')\n",
    "print(summarize(results_radio))"
   ]
  },
  {
   "cell_type": "code",
   "execution_count": 54,
   "id": "2c7a0a50",
   "metadata": {},
   "outputs": [
    {
     "name": "stdout",
     "output_type": "stream",
     "text": [
      "R^2 on train: 0.9089500345708295\n"
     ]
    }
   ],
   "source": [
    "# R^2 \n",
    "\n",
    "print('R^2 on train:',results_both.rsquared)"
   ]
  },
  {
   "cell_type": "code",
   "execution_count": 55,
   "id": "b4410128",
   "metadata": {},
   "outputs": [
    {
     "name": "stdout",
     "output_type": "stream",
     "text": [
      "mse train: 2.4204571059748314\n",
      "mse test: 3.952939162565715\n"
     ]
    }
   ],
   "source": [
    "# MSE\n",
    "\n",
    "predictions_both_train = predict(X_train[['intercept','TV','radio']], results_both)\n",
    "print('mse train:',mse(y_train, predictions_both_train))\n",
    "predictions_both_test = predict(X_test[['intercept','TV','radio']], results_both)\n",
    "print('mse test:',mse(y_test, predictions_both_test))"
   ]
  },
  {
   "cell_type": "code",
   "execution_count": 56,
   "id": "2c507f3d",
   "metadata": {},
   "outputs": [
    {
     "data": {
      "image/png": "[encoded data removed]",
      "text/plain": [
       "<Figure size 800x800 with 1 Axes>"
      ]
     },
     "metadata": {},
     "output_type": "display_data"
    }
   ],
   "source": [
    "# Plot residual error for test set\n",
    "\n",
    "ax = subplots(figsize=(8,8))[1]\n",
    "ax.scatter(predictions_both_test, y_test-predictions_both_test)\n",
    "ax.set_xlabel('Fitted value')\n",
    "ax.set_ylabel('Residual')\n",
    "ax.axhline(0, c='k', ls='--');"
   ]
  },
  {
   "cell_type": "markdown",
   "id": "97722bd5",
   "metadata": {},
   "source": [
    "## An example of overfitting via too many predictors"
   ]
  },
  {
   "cell_type": "code",
   "execution_count": 57,
   "id": "2cbf4af6",
   "metadata": {},
   "outputs": [
    {
     "data": {
      "text/html": [
       "<div>\n",
       "<style scoped>\n",
       "    .dataframe tbody tr th:only-of-type {\n",
       "        vertical-align: middle;\n",
       "    }\n",
       "\n",
       "    .dataframe tbody tr th {\n",
       "        vertical-align: top;\n",
       "    }\n",
       "\n",
       "    .dataframe thead th {\n",
       "        text-align: right;\n",
       "    }\n",
       "</style>\n",
       "<table border=\"1\" class=\"dataframe\">\n",
       "  <thead>\n",
       "    <tr style=\"text-align: right;\">\n",
       "      <th></th>\n",
       "      <th>TV</th>\n",
       "      <th>radio</th>\n",
       "      <th>newspaper</th>\n",
       "    </tr>\n",
       "  </thead>\n",
       "  <tbody>\n",
       "    <tr>\n",
       "      <th>TV</th>\n",
       "      <td>1.000000</td>\n",
       "      <td>0.086019</td>\n",
       "      <td>0.112012</td>\n",
       "    </tr>\n",
       "    <tr>\n",
       "      <th>radio</th>\n",
       "      <td>0.086019</td>\n",
       "      <td>1.000000</td>\n",
       "      <td>0.324168</td>\n",
       "    </tr>\n",
       "    <tr>\n",
       "      <th>newspaper</th>\n",
       "      <td>0.112012</td>\n",
       "      <td>0.324168</td>\n",
       "      <td>1.000000</td>\n",
       "    </tr>\n",
       "  </tbody>\n",
       "</table>\n",
       "</div>"
      ],
      "text/plain": [
       "                 TV     radio  newspaper\n",
       "TV         1.000000  0.086019   0.112012\n",
       "radio      0.086019  1.000000   0.324168\n",
       "newspaper  0.112012  0.324168   1.000000"
      ]
     },
     "execution_count": 57,
     "metadata": {},
     "output_type": "execute_result"
    }
   ],
   "source": [
    "# What were the correlations among newspaper, TV, and radio?\n",
    "\n",
    "Train[['TV','radio','newspaper']].corr()"
   ]
  },
  {
   "cell_type": "code",
   "execution_count": 58,
   "id": "e1134534",
   "metadata": {},
   "outputs": [
    {
     "data": {
      "text/html": [
       "<div>\n",
       "<style scoped>\n",
       "    .dataframe tbody tr th:only-of-type {\n",
       "        vertical-align: middle;\n",
       "    }\n",
       "\n",
       "    .dataframe tbody tr th {\n",
       "        vertical-align: top;\n",
       "    }\n",
       "\n",
       "    .dataframe thead th {\n",
       "        text-align: right;\n",
       "    }\n",
       "</style>\n",
       "<table border=\"1\" class=\"dataframe\">\n",
       "  <thead>\n",
       "    <tr style=\"text-align: right;\">\n",
       "      <th></th>\n",
       "      <th>coef</th>\n",
       "      <th>std err</th>\n",
       "      <th>t</th>\n",
       "      <th>P&gt;|t|</th>\n",
       "    </tr>\n",
       "  </thead>\n",
       "  <tbody>\n",
       "    <tr>\n",
       "      <th>intercept</th>\n",
       "      <td>3.1817</td>\n",
       "      <td>0.328</td>\n",
       "      <td>9.707</td>\n",
       "      <td>0.000</td>\n",
       "    </tr>\n",
       "    <tr>\n",
       "      <th>TV</th>\n",
       "      <td>0.0444</td>\n",
       "      <td>0.002</td>\n",
       "      <td>29.566</td>\n",
       "      <td>0.000</td>\n",
       "    </tr>\n",
       "    <tr>\n",
       "      <th>radio</th>\n",
       "      <td>0.1921</td>\n",
       "      <td>0.009</td>\n",
       "      <td>20.538</td>\n",
       "      <td>0.000</td>\n",
       "    </tr>\n",
       "    <tr>\n",
       "      <th>newspaper</th>\n",
       "      <td>-0.0032</td>\n",
       "      <td>0.006</td>\n",
       "      <td>-0.525</td>\n",
       "      <td>0.601</td>\n",
       "    </tr>\n",
       "  </tbody>\n",
       "</table>\n",
       "</div>"
      ],
      "text/plain": [
       "             coef  std err       t  P>|t|\n",
       "intercept  3.1817    0.328   9.707  0.000\n",
       "TV         0.0444    0.002  29.566  0.000\n",
       "radio      0.1921    0.009  20.538  0.000\n",
       "newspaper -0.0032    0.006  -0.525  0.601"
      ]
     },
     "execution_count": 58,
     "metadata": {},
     "output_type": "execute_result"
    }
   ],
   "source": [
    "# Try building a model where TV, radio, and newspaper all predict sales\n",
    "\n",
    "model_three = sm.OLS(y_train, X_train[['intercept','TV', 'radio', 'newspaper']])\n",
    "results_three = model_three.fit()\n",
    "summarize(results_three)"
   ]
  },
  {
   "cell_type": "code",
   "execution_count": 59,
   "id": "57cf1a3b",
   "metadata": {},
   "outputs": [
    {
     "name": "stdout",
     "output_type": "stream",
     "text": [
      "R^2 on train: 0.90912141241667\n"
     ]
    }
   ],
   "source": [
    "# R^2\n",
    "\n",
    "print('R^2 on train:',results_three.rsquared)"
   ]
  },
  {
   "cell_type": "code",
   "execution_count": 60,
   "id": "58aca285",
   "metadata": {},
   "outputs": [
    {
     "name": "stdout",
     "output_type": "stream",
     "text": [
      "mse train: 2.4159012258839816\n",
      "mse test: 3.970081737245925\n"
     ]
    }
   ],
   "source": [
    "# MSE for \"all-three\" model\n",
    "\n",
    "predictions_three_train = predict(X_train[['intercept','TV','radio','newspaper']], results_three)\n",
    "print('mse train:',mse(y_train, predictions_three_train))\n",
    "predictions_three_test = predict(X_test[['intercept','TV','radio','newspaper']], results_three)\n",
    "print('mse test:',mse(y_test, predictions_three_test))"
   ]
  },
  {
   "cell_type": "code",
   "execution_count": 61,
   "id": "c1cd29cf",
   "metadata": {},
   "outputs": [
    {
     "name": "stdout",
     "output_type": "stream",
     "text": [
      "mse train: 2.4204571059748314\n",
      "mse test: 3.952939162565715\n"
     ]
    }
   ],
   "source": [
    "# For comparison, here were the MSEs for the model with just TV and radio\n",
    "\n",
    "print('mse train:',mse(y_train, predictions_both_train))\n",
    "print('mse test:',mse(y_test, predictions_both_test))"
   ]
  },
  {
   "cell_type": "markdown",
   "id": "2c16d295",
   "metadata": {},
   "source": [
    "### An Example with Interactions"
   ]
  },
  {
   "cell_type": "code",
   "execution_count": 68,
   "id": "3ee1add9",
   "metadata": {},
   "outputs": [],
   "source": [
    "# We'll create a model that uses TV, radio, and the interaction of the two to predict sales.\n",
    "# First we need to create the interaction variable and add it to all of the sets.\n",
    "\n",
    "X_train['TV_radio_int'] = X_train['TV'] * X_train['radio']\n",
    "X_test['TV_radio_int'] = X_test['TV'] * X_test['radio']\n",
    "Train['TV_radio_int'] = Train['TV'] * Train['radio']\n",
    "Test['TV_radio_int'] = Test['TV'] * Test['radio']"
   ]
  },
  {
   "cell_type": "code",
   "execution_count": 63,
   "id": "6c9af446",
   "metadata": {},
   "outputs": [
    {
     "data": {
      "text/html": [
       "<div>\n",
       "<style scoped>\n",
       "    .dataframe tbody tr th:only-of-type {\n",
       "        vertical-align: middle;\n",
       "    }\n",
       "\n",
       "    .dataframe tbody tr th {\n",
       "        vertical-align: top;\n",
       "    }\n",
       "\n",
       "    .dataframe thead th {\n",
       "        text-align: right;\n",
       "    }\n",
       "</style>\n",
       "<table border=\"1\" class=\"dataframe\">\n",
       "  <thead>\n",
       "    <tr style=\"text-align: right;\">\n",
       "      <th></th>\n",
       "      <th>TV</th>\n",
       "      <th>radio</th>\n",
       "      <th>TV_radio_int</th>\n",
       "    </tr>\n",
       "  </thead>\n",
       "  <tbody>\n",
       "    <tr>\n",
       "      <th>TV</th>\n",
       "      <td>1.000000</td>\n",
       "      <td>0.086019</td>\n",
       "      <td>0.666873</td>\n",
       "    </tr>\n",
       "    <tr>\n",
       "      <th>radio</th>\n",
       "      <td>0.086019</td>\n",
       "      <td>1.000000</td>\n",
       "      <td>0.696899</td>\n",
       "    </tr>\n",
       "    <tr>\n",
       "      <th>TV_radio_int</th>\n",
       "      <td>0.666873</td>\n",
       "      <td>0.696899</td>\n",
       "      <td>1.000000</td>\n",
       "    </tr>\n",
       "  </tbody>\n",
       "</table>\n",
       "</div>"
      ],
      "text/plain": [
       "                    TV     radio  TV_radio_int\n",
       "TV            1.000000  0.086019      0.666873\n",
       "radio         0.086019  1.000000      0.696899\n",
       "TV_radio_int  0.666873  0.696899      1.000000"
      ]
     },
     "execution_count": 63,
     "metadata": {},
     "output_type": "execute_result"
    }
   ],
   "source": [
    "# Might as well look at a correlation matrix with the interaction included\n",
    "\n",
    "X_train[['TV', 'radio', 'TV_radio_int']].corr()"
   ]
  },
  {
   "cell_type": "code",
   "execution_count": 64,
   "id": "bf7604e2",
   "metadata": {},
   "outputs": [
    {
     "data": {
      "text/html": [
       "<div>\n",
       "<style scoped>\n",
       "    .dataframe tbody tr th:only-of-type {\n",
       "        vertical-align: middle;\n",
       "    }\n",
       "\n",
       "    .dataframe tbody tr th {\n",
       "        vertical-align: top;\n",
       "    }\n",
       "\n",
       "    .dataframe thead th {\n",
       "        text-align: right;\n",
       "    }\n",
       "</style>\n",
       "<table border=\"1\" class=\"dataframe\">\n",
       "  <thead>\n",
       "    <tr style=\"text-align: right;\">\n",
       "      <th></th>\n",
       "      <th>coef</th>\n",
       "      <th>std err</th>\n",
       "      <th>t</th>\n",
       "      <th>P&gt;|t|</th>\n",
       "    </tr>\n",
       "  </thead>\n",
       "  <tbody>\n",
       "    <tr>\n",
       "      <th>intercept</th>\n",
       "      <td>6.7089</td>\n",
       "      <td>0.236000</td>\n",
       "      <td>28.459</td>\n",
       "      <td>0.0</td>\n",
       "    </tr>\n",
       "    <tr>\n",
       "      <th>TV</th>\n",
       "      <td>0.0192</td>\n",
       "      <td>0.001000</td>\n",
       "      <td>13.352</td>\n",
       "      <td>0.0</td>\n",
       "    </tr>\n",
       "    <tr>\n",
       "      <th>radio</th>\n",
       "      <td>0.0338</td>\n",
       "      <td>0.009000</td>\n",
       "      <td>3.810</td>\n",
       "      <td>0.0</td>\n",
       "    </tr>\n",
       "    <tr>\n",
       "      <th>TV_radio_int</th>\n",
       "      <td>0.0011</td>\n",
       "      <td>0.000052</td>\n",
       "      <td>20.479</td>\n",
       "      <td>0.0</td>\n",
       "    </tr>\n",
       "  </tbody>\n",
       "</table>\n",
       "</div>"
      ],
      "text/plain": [
       "                coef   std err       t  P>|t|\n",
       "intercept     6.7089  0.236000  28.459    0.0\n",
       "TV            0.0192  0.001000  13.352    0.0\n",
       "radio         0.0338  0.009000   3.810    0.0\n",
       "TV_radio_int  0.0011  0.000052  20.479    0.0"
      ]
     },
     "execution_count": 64,
     "metadata": {},
     "output_type": "execute_result"
    }
   ],
   "source": [
    "# Build a linear model with an interaction term\n",
    "\n",
    "model_int = sm.OLS(y_train, X_train[['intercept','TV', 'radio', 'TV_radio_int']])\n",
    "results_int = model_int.fit()\n",
    "summarize(results_int)"
   ]
  },
  {
   "cell_type": "code",
   "execution_count": 65,
   "id": "c207de83",
   "metadata": {},
   "outputs": [
    {
     "name": "stdout",
     "output_type": "stream",
     "text": [
      "R^2 on train: 0.9764880444051811\n"
     ]
    }
   ],
   "source": [
    "# R^2 for interaction model\n",
    "\n",
    "print('R^2 on train:',results_int.rsquared)"
   ]
  },
  {
   "cell_type": "code",
   "execution_count": 66,
   "id": "645b2e5f",
   "metadata": {},
   "outputs": [
    {
     "name": "stdout",
     "output_type": "stream",
     "text": [
      "mse train: 0.6250379088733998\n",
      "mse test: 1.6265266164092962\n"
     ]
    }
   ],
   "source": [
    "# MSE for interaction model\n",
    "\n",
    "predictions_int_train = predict(X_train[['intercept','TV','radio','TV_radio_int']], results_int)\n",
    "print('mse train:',mse(y_train, predictions_int_train))\n",
    "predictions_int_test = predict(X_test[['intercept','TV','radio','TV_radio_int']], results_int)\n",
    "print('mse test:',mse(y_test, predictions_int_test))"
   ]
  },
  {
   "cell_type": "code",
   "execution_count": 67,
   "id": "e7b9cf06",
   "metadata": {},
   "outputs": [
    {
     "data": {
      "image/png": "[encoded data removed]",
      "text/plain": [
       "<Figure size 800x800 with 1 Axes>"
      ]
     },
     "metadata": {},
     "output_type": "display_data"
    }
   ],
   "source": [
    "# Plot residual error for test set\n",
    "\n",
    "ax = subplots(figsize=(8,8))[1]\n",
    "ax.scatter(predictions_int_test, y_test-predictions_int_test)\n",
    "ax.set_xlabel('Fitted value')\n",
    "ax.set_ylabel('Residual')\n",
    "ax.axhline(0, c='k', ls='--');"
   ]
  },
  {
   "cell_type": "markdown",
   "id": "c0d852aa",
   "metadata": {},
   "source": [
    "### One last example: categorical variables"
   ]
  },
  {
   "cell_type": "code",
   "execution_count": 69,
   "id": "02b6c345",
   "metadata": {},
   "outputs": [
    {
     "name": "stderr",
     "output_type": "stream",
     "text": [
      "C:\\Users\\kate\\AppData\\Local\\Temp\\ipykernel_40580\\3413568819.py:5: FutureWarning: Setting an item of incompatible dtype is deprecated and will raise an error in a future version of pandas. Value 'low' has dtype incompatible with float64, please explicitly cast to a compatible dtype first.\n",
      "  X_train.loc[X_train['TV']<=30, 'TV_cat'] = \"low\"\n"
     ]
    }
   ],
   "source": [
    "# Since this particular set doesn't have any categorical variables in it, let's create one artificially\n",
    "# Let's create a variable that uses the TV data but only takes on values \"high\" or \"low\"\n",
    "\n",
    "X_train['TV_cat'] = pd.Series(np.zeros(X_train.shape[0]))\n",
    "X_train.loc[X_train['TV']<=30, 'TV_cat'] = \"low\"\n",
    "X_train.loc[X_train['TV']>30, 'TV_cat'] = \"high\""
   ]
  },
  {
   "cell_type": "code",
   "execution_count": 70,
   "id": "9e3c82bb",
   "metadata": {},
   "outputs": [
    {
     "data": {
      "text/html": [
       "<div>\n",
       "<style scoped>\n",
       "    .dataframe tbody tr th:only-of-type {\n",
       "        vertical-align: middle;\n",
       "    }\n",
       "\n",
       "    .dataframe tbody tr th {\n",
       "        vertical-align: top;\n",
       "    }\n",
       "\n",
       "    .dataframe thead th {\n",
       "        text-align: right;\n",
       "    }\n",
       "</style>\n",
       "<table border=\"1\" class=\"dataframe\">\n",
       "  <thead>\n",
       "    <tr style=\"text-align: right;\">\n",
       "      <th></th>\n",
       "      <th>TV</th>\n",
       "      <th>radio</th>\n",
       "      <th>newspaper</th>\n",
       "      <th>intercept</th>\n",
       "      <th>TV_radio_int</th>\n",
       "      <th>TV_cat</th>\n",
       "    </tr>\n",
       "  </thead>\n",
       "  <tbody>\n",
       "    <tr>\n",
       "      <th>178</th>\n",
       "      <td>276.7</td>\n",
       "      <td>2.3</td>\n",
       "      <td>23.7</td>\n",
       "      <td>1.0</td>\n",
       "      <td>636.41</td>\n",
       "      <td>high</td>\n",
       "    </tr>\n",
       "    <tr>\n",
       "      <th>167</th>\n",
       "      <td>206.8</td>\n",
       "      <td>5.2</td>\n",
       "      <td>19.4</td>\n",
       "      <td>1.0</td>\n",
       "      <td>1075.36</td>\n",
       "      <td>high</td>\n",
       "    </tr>\n",
       "    <tr>\n",
       "      <th>116</th>\n",
       "      <td>139.2</td>\n",
       "      <td>14.3</td>\n",
       "      <td>25.6</td>\n",
       "      <td>1.0</td>\n",
       "      <td>1990.56</td>\n",
       "      <td>high</td>\n",
       "    </tr>\n",
       "    <tr>\n",
       "      <th>76</th>\n",
       "      <td>27.5</td>\n",
       "      <td>1.6</td>\n",
       "      <td>20.7</td>\n",
       "      <td>1.0</td>\n",
       "      <td>44.00</td>\n",
       "      <td>low</td>\n",
       "    </tr>\n",
       "    <tr>\n",
       "      <th>11</th>\n",
       "      <td>214.7</td>\n",
       "      <td>24.0</td>\n",
       "      <td>4.0</td>\n",
       "      <td>1.0</td>\n",
       "      <td>5152.80</td>\n",
       "      <td>high</td>\n",
       "    </tr>\n",
       "  </tbody>\n",
       "</table>\n",
       "</div>"
      ],
      "text/plain": [
       "        TV  radio  newspaper  intercept  TV_radio_int TV_cat\n",
       "178  276.7    2.3       23.7        1.0        636.41   high\n",
       "167  206.8    5.2       19.4        1.0       1075.36   high\n",
       "116  139.2   14.3       25.6        1.0       1990.56   high\n",
       "76    27.5    1.6       20.7        1.0         44.00    low\n",
       "11   214.7   24.0        4.0        1.0       5152.80   high"
      ]
     },
     "execution_count": 70,
     "metadata": {},
     "output_type": "execute_result"
    }
   ],
   "source": [
    "# Quick spot check...\n",
    "\n",
    "X_train.head()"
   ]
  },
  {
   "cell_type": "code",
   "execution_count": 71,
   "id": "997a82f2",
   "metadata": {},
   "outputs": [
    {
     "ename": "ValueError",
     "evalue": "Pandas data cast to numpy dtype of object. Check input data with np.asarray(data).",
     "output_type": "error",
     "traceback": [
      "\u001b[31m---------------------------------------------------------------------------\u001b[39m",
      "\u001b[31mValueError\u001b[39m                                Traceback (most recent call last)",
      "\u001b[36mCell\u001b[39m\u001b[36m \u001b[39m\u001b[32mIn[71]\u001b[39m\u001b[32m, line 3\u001b[39m\n\u001b[32m      1\u001b[39m \u001b[38;5;66;03m# Build a linear model with a categorical variable\u001b[39;00m\n\u001b[32m----> \u001b[39m\u001b[32m3\u001b[39m model_cat = \u001b[43msm\u001b[49m\u001b[43m.\u001b[49m\u001b[43mOLS\u001b[49m\u001b[43m(\u001b[49m\u001b[43my_train\u001b[49m\u001b[43m,\u001b[49m\u001b[43m \u001b[49m\u001b[43mX_train\u001b[49m\u001b[43m[\u001b[49m\u001b[43m[\u001b[49m\u001b[33;43m'\u001b[39;49m\u001b[33;43mintercept\u001b[39;49m\u001b[33;43m'\u001b[39;49m\u001b[43m,\u001b[49m\u001b[33;43m'\u001b[39;49m\u001b[33;43mradio\u001b[39;49m\u001b[33;43m'\u001b[39;49m\u001b[43m,\u001b[49m\u001b[43m \u001b[49m\u001b[33;43m'\u001b[39;49m\u001b[33;43mTV_cat\u001b[39;49m\u001b[33;43m'\u001b[39;49m\u001b[43m]\u001b[49m\u001b[43m]\u001b[49m\u001b[43m)\u001b[49m\n\u001b[32m      4\u001b[39m results_cat = model_cat.fit()\n\u001b[32m      5\u001b[39m summarize(results_cat)\n",
      "\u001b[36mFile \u001b[39m\u001b[32mc:\\Users\\kate\\anaconda3\\envs\\islp\\Lib\\site-packages\\statsmodels\\regression\\linear_model.py:921\u001b[39m, in \u001b[36mOLS.__init__\u001b[39m\u001b[34m(self, endog, exog, missing, hasconst, **kwargs)\u001b[39m\n\u001b[32m    918\u001b[39m     msg = (\u001b[33m\"\u001b[39m\u001b[33mWeights are not supported in OLS and will be ignored\u001b[39m\u001b[33m\"\u001b[39m\n\u001b[32m    919\u001b[39m            \u001b[33m\"\u001b[39m\u001b[33mAn exception will be raised in the next version.\u001b[39m\u001b[33m\"\u001b[39m)\n\u001b[32m    920\u001b[39m     warnings.warn(msg, ValueWarning)\n\u001b[32m--> \u001b[39m\u001b[32m921\u001b[39m \u001b[38;5;28;43msuper\u001b[39;49m\u001b[43m(\u001b[49m\u001b[43m)\u001b[49m\u001b[43m.\u001b[49m\u001b[34;43m__init__\u001b[39;49m\u001b[43m(\u001b[49m\u001b[43mendog\u001b[49m\u001b[43m,\u001b[49m\u001b[43m \u001b[49m\u001b[43mexog\u001b[49m\u001b[43m,\u001b[49m\u001b[43m \u001b[49m\u001b[43mmissing\u001b[49m\u001b[43m=\u001b[49m\u001b[43mmissing\u001b[49m\u001b[43m,\u001b[49m\n\u001b[32m    922\u001b[39m \u001b[43m                          \u001b[49m\u001b[43mhasconst\u001b[49m\u001b[43m=\u001b[49m\u001b[43mhasconst\u001b[49m\u001b[43m,\u001b[49m\u001b[43m \u001b[49m\u001b[43m*\u001b[49m\u001b[43m*\u001b[49m\u001b[43mkwargs\u001b[49m\u001b[43m)\u001b[49m\n\u001b[32m    923\u001b[39m \u001b[38;5;28;01mif\u001b[39;00m \u001b[33m\"\u001b[39m\u001b[33mweights\u001b[39m\u001b[33m\"\u001b[39m \u001b[38;5;129;01min\u001b[39;00m \u001b[38;5;28mself\u001b[39m._init_keys:\n\u001b[32m    924\u001b[39m     \u001b[38;5;28mself\u001b[39m._init_keys.remove(\u001b[33m\"\u001b[39m\u001b[33mweights\u001b[39m\u001b[33m\"\u001b[39m)\n",
      "\u001b[36mFile \u001b[39m\u001b[32mc:\\Users\\kate\\anaconda3\\envs\\islp\\Lib\\site-packages\\statsmodels\\regression\\linear_model.py:746\u001b[39m, in \u001b[36mWLS.__init__\u001b[39m\u001b[34m(self, endog, exog, weights, missing, hasconst, **kwargs)\u001b[39m\n\u001b[32m    744\u001b[39m \u001b[38;5;28;01melse\u001b[39;00m:\n\u001b[32m    745\u001b[39m     weights = weights.squeeze()\n\u001b[32m--> \u001b[39m\u001b[32m746\u001b[39m \u001b[38;5;28;43msuper\u001b[39;49m\u001b[43m(\u001b[49m\u001b[43m)\u001b[49m\u001b[43m.\u001b[49m\u001b[34;43m__init__\u001b[39;49m\u001b[43m(\u001b[49m\u001b[43mendog\u001b[49m\u001b[43m,\u001b[49m\u001b[43m \u001b[49m\u001b[43mexog\u001b[49m\u001b[43m,\u001b[49m\u001b[43m \u001b[49m\u001b[43mmissing\u001b[49m\u001b[43m=\u001b[49m\u001b[43mmissing\u001b[49m\u001b[43m,\u001b[49m\n\u001b[32m    747\u001b[39m \u001b[43m                          \u001b[49m\u001b[43mweights\u001b[49m\u001b[43m=\u001b[49m\u001b[43mweights\u001b[49m\u001b[43m,\u001b[49m\u001b[43m \u001b[49m\u001b[43mhasconst\u001b[49m\u001b[43m=\u001b[49m\u001b[43mhasconst\u001b[49m\u001b[43m,\u001b[49m\u001b[43m \u001b[49m\u001b[43m*\u001b[49m\u001b[43m*\u001b[49m\u001b[43mkwargs\u001b[49m\u001b[43m)\u001b[49m\n\u001b[32m    748\u001b[39m nobs = \u001b[38;5;28mself\u001b[39m.exog.shape[\u001b[32m0\u001b[39m]\n\u001b[32m    749\u001b[39m weights = \u001b[38;5;28mself\u001b[39m.weights\n",
      "\u001b[36mFile \u001b[39m\u001b[32mc:\\Users\\kate\\anaconda3\\envs\\islp\\Lib\\site-packages\\statsmodels\\regression\\linear_model.py:200\u001b[39m, in \u001b[36mRegressionModel.__init__\u001b[39m\u001b[34m(self, endog, exog, **kwargs)\u001b[39m\n\u001b[32m    199\u001b[39m \u001b[38;5;28;01mdef\u001b[39;00m\u001b[38;5;250m \u001b[39m\u001b[34m__init__\u001b[39m(\u001b[38;5;28mself\u001b[39m, endog, exog, **kwargs):\n\u001b[32m--> \u001b[39m\u001b[32m200\u001b[39m     \u001b[38;5;28;43msuper\u001b[39;49m\u001b[43m(\u001b[49m\u001b[43m)\u001b[49m\u001b[43m.\u001b[49m\u001b[34;43m__init__\u001b[39;49m\u001b[43m(\u001b[49m\u001b[43mendog\u001b[49m\u001b[43m,\u001b[49m\u001b[43m \u001b[49m\u001b[43mexog\u001b[49m\u001b[43m,\u001b[49m\u001b[43m \u001b[49m\u001b[43m*\u001b[49m\u001b[43m*\u001b[49m\u001b[43mkwargs\u001b[49m\u001b[43m)\u001b[49m\n\u001b[32m    201\u001b[39m     \u001b[38;5;28mself\u001b[39m.pinv_wexog: Float64Array | \u001b[38;5;28;01mNone\u001b[39;00m = \u001b[38;5;28;01mNone\u001b[39;00m\n\u001b[32m    202\u001b[39m     \u001b[38;5;28mself\u001b[39m._data_attr.extend([\u001b[33m'\u001b[39m\u001b[33mpinv_wexog\u001b[39m\u001b[33m'\u001b[39m, \u001b[33m'\u001b[39m\u001b[33mwendog\u001b[39m\u001b[33m'\u001b[39m, \u001b[33m'\u001b[39m\u001b[33mwexog\u001b[39m\u001b[33m'\u001b[39m, \u001b[33m'\u001b[39m\u001b[33mweights\u001b[39m\u001b[33m'\u001b[39m])\n",
      "\u001b[36mFile \u001b[39m\u001b[32mc:\\Users\\kate\\anaconda3\\envs\\islp\\Lib\\site-packages\\statsmodels\\base\\model.py:270\u001b[39m, in \u001b[36mLikelihoodModel.__init__\u001b[39m\u001b[34m(self, endog, exog, **kwargs)\u001b[39m\n\u001b[32m    269\u001b[39m \u001b[38;5;28;01mdef\u001b[39;00m\u001b[38;5;250m \u001b[39m\u001b[34m__init__\u001b[39m(\u001b[38;5;28mself\u001b[39m, endog, exog=\u001b[38;5;28;01mNone\u001b[39;00m, **kwargs):\n\u001b[32m--> \u001b[39m\u001b[32m270\u001b[39m     \u001b[38;5;28;43msuper\u001b[39;49m\u001b[43m(\u001b[49m\u001b[43m)\u001b[49m\u001b[43m.\u001b[49m\u001b[34;43m__init__\u001b[39;49m\u001b[43m(\u001b[49m\u001b[43mendog\u001b[49m\u001b[43m,\u001b[49m\u001b[43m \u001b[49m\u001b[43mexog\u001b[49m\u001b[43m,\u001b[49m\u001b[43m \u001b[49m\u001b[43m*\u001b[49m\u001b[43m*\u001b[49m\u001b[43mkwargs\u001b[49m\u001b[43m)\u001b[49m\n\u001b[32m    271\u001b[39m     \u001b[38;5;28mself\u001b[39m.initialize()\n",
      "\u001b[36mFile \u001b[39m\u001b[32mc:\\Users\\kate\\anaconda3\\envs\\islp\\Lib\\site-packages\\statsmodels\\base\\model.py:95\u001b[39m, in \u001b[36mModel.__init__\u001b[39m\u001b[34m(self, endog, exog, **kwargs)\u001b[39m\n\u001b[32m     93\u001b[39m missing = kwargs.pop(\u001b[33m'\u001b[39m\u001b[33mmissing\u001b[39m\u001b[33m'\u001b[39m, \u001b[33m'\u001b[39m\u001b[33mnone\u001b[39m\u001b[33m'\u001b[39m)\n\u001b[32m     94\u001b[39m hasconst = kwargs.pop(\u001b[33m'\u001b[39m\u001b[33mhasconst\u001b[39m\u001b[33m'\u001b[39m, \u001b[38;5;28;01mNone\u001b[39;00m)\n\u001b[32m---> \u001b[39m\u001b[32m95\u001b[39m \u001b[38;5;28mself\u001b[39m.data = \u001b[38;5;28;43mself\u001b[39;49m\u001b[43m.\u001b[49m\u001b[43m_handle_data\u001b[49m\u001b[43m(\u001b[49m\u001b[43mendog\u001b[49m\u001b[43m,\u001b[49m\u001b[43m \u001b[49m\u001b[43mexog\u001b[49m\u001b[43m,\u001b[49m\u001b[43m \u001b[49m\u001b[43mmissing\u001b[49m\u001b[43m,\u001b[49m\u001b[43m \u001b[49m\u001b[43mhasconst\u001b[49m\u001b[43m,\u001b[49m\n\u001b[32m     96\u001b[39m \u001b[43m                              \u001b[49m\u001b[43m*\u001b[49m\u001b[43m*\u001b[49m\u001b[43mkwargs\u001b[49m\u001b[43m)\u001b[49m\n\u001b[32m     97\u001b[39m \u001b[38;5;28mself\u001b[39m.k_constant = \u001b[38;5;28mself\u001b[39m.data.k_constant\n\u001b[32m     98\u001b[39m \u001b[38;5;28mself\u001b[39m.exog = \u001b[38;5;28mself\u001b[39m.data.exog\n",
      "\u001b[36mFile \u001b[39m\u001b[32mc:\\Users\\kate\\anaconda3\\envs\\islp\\Lib\\site-packages\\statsmodels\\base\\model.py:135\u001b[39m, in \u001b[36mModel._handle_data\u001b[39m\u001b[34m(self, endog, exog, missing, hasconst, **kwargs)\u001b[39m\n\u001b[32m    134\u001b[39m \u001b[38;5;28;01mdef\u001b[39;00m\u001b[38;5;250m \u001b[39m\u001b[34m_handle_data\u001b[39m(\u001b[38;5;28mself\u001b[39m, endog, exog, missing, hasconst, **kwargs):\n\u001b[32m--> \u001b[39m\u001b[32m135\u001b[39m     data = \u001b[43mhandle_data\u001b[49m\u001b[43m(\u001b[49m\u001b[43mendog\u001b[49m\u001b[43m,\u001b[49m\u001b[43m \u001b[49m\u001b[43mexog\u001b[49m\u001b[43m,\u001b[49m\u001b[43m \u001b[49m\u001b[43mmissing\u001b[49m\u001b[43m,\u001b[49m\u001b[43m \u001b[49m\u001b[43mhasconst\u001b[49m\u001b[43m,\u001b[49m\u001b[43m \u001b[49m\u001b[43m*\u001b[49m\u001b[43m*\u001b[49m\u001b[43mkwargs\u001b[49m\u001b[43m)\u001b[49m\n\u001b[32m    136\u001b[39m     \u001b[38;5;66;03m# kwargs arrays could have changed, easier to just attach here\u001b[39;00m\n\u001b[32m    137\u001b[39m     \u001b[38;5;28;01mfor\u001b[39;00m key \u001b[38;5;129;01min\u001b[39;00m kwargs:\n",
      "\u001b[36mFile \u001b[39m\u001b[32mc:\\Users\\kate\\anaconda3\\envs\\islp\\Lib\\site-packages\\statsmodels\\base\\data.py:675\u001b[39m, in \u001b[36mhandle_data\u001b[39m\u001b[34m(endog, exog, missing, hasconst, **kwargs)\u001b[39m\n\u001b[32m    672\u001b[39m     exog = np.asarray(exog)\n\u001b[32m    674\u001b[39m klass = handle_data_class_factory(endog, exog)\n\u001b[32m--> \u001b[39m\u001b[32m675\u001b[39m \u001b[38;5;28;01mreturn\u001b[39;00m \u001b[43mklass\u001b[49m\u001b[43m(\u001b[49m\u001b[43mendog\u001b[49m\u001b[43m,\u001b[49m\u001b[43m \u001b[49m\u001b[43mexog\u001b[49m\u001b[43m=\u001b[49m\u001b[43mexog\u001b[49m\u001b[43m,\u001b[49m\u001b[43m \u001b[49m\u001b[43mmissing\u001b[49m\u001b[43m=\u001b[49m\u001b[43mmissing\u001b[49m\u001b[43m,\u001b[49m\u001b[43m \u001b[49m\u001b[43mhasconst\u001b[49m\u001b[43m=\u001b[49m\u001b[43mhasconst\u001b[49m\u001b[43m,\u001b[49m\n\u001b[32m    676\u001b[39m \u001b[43m             \u001b[49m\u001b[43m*\u001b[49m\u001b[43m*\u001b[49m\u001b[43mkwargs\u001b[49m\u001b[43m)\u001b[49m\n",
      "\u001b[36mFile \u001b[39m\u001b[32mc:\\Users\\kate\\anaconda3\\envs\\islp\\Lib\\site-packages\\statsmodels\\base\\data.py:84\u001b[39m, in \u001b[36mModelData.__init__\u001b[39m\u001b[34m(self, endog, exog, missing, hasconst, **kwargs)\u001b[39m\n\u001b[32m     82\u001b[39m     \u001b[38;5;28mself\u001b[39m.orig_endog = endog\n\u001b[32m     83\u001b[39m     \u001b[38;5;28mself\u001b[39m.orig_exog = exog\n\u001b[32m---> \u001b[39m\u001b[32m84\u001b[39m     \u001b[38;5;28mself\u001b[39m.endog, \u001b[38;5;28mself\u001b[39m.exog = \u001b[38;5;28;43mself\u001b[39;49m\u001b[43m.\u001b[49m\u001b[43m_convert_endog_exog\u001b[49m\u001b[43m(\u001b[49m\u001b[43mendog\u001b[49m\u001b[43m,\u001b[49m\u001b[43m \u001b[49m\u001b[43mexog\u001b[49m\u001b[43m)\u001b[49m\n\u001b[32m     86\u001b[39m \u001b[38;5;28mself\u001b[39m.const_idx = \u001b[38;5;28;01mNone\u001b[39;00m\n\u001b[32m     87\u001b[39m \u001b[38;5;28mself\u001b[39m.k_constant = \u001b[32m0\u001b[39m\n",
      "\u001b[36mFile \u001b[39m\u001b[32mc:\\Users\\kate\\anaconda3\\envs\\islp\\Lib\\site-packages\\statsmodels\\base\\data.py:509\u001b[39m, in \u001b[36mPandasData._convert_endog_exog\u001b[39m\u001b[34m(self, endog, exog)\u001b[39m\n\u001b[32m    507\u001b[39m exog = exog \u001b[38;5;28;01mif\u001b[39;00m exog \u001b[38;5;129;01mis\u001b[39;00m \u001b[38;5;28;01mNone\u001b[39;00m \u001b[38;5;28;01melse\u001b[39;00m np.asarray(exog)\n\u001b[32m    508\u001b[39m \u001b[38;5;28;01mif\u001b[39;00m endog.dtype == \u001b[38;5;28mobject\u001b[39m \u001b[38;5;129;01mor\u001b[39;00m exog \u001b[38;5;129;01mis\u001b[39;00m \u001b[38;5;129;01mnot\u001b[39;00m \u001b[38;5;28;01mNone\u001b[39;00m \u001b[38;5;129;01mand\u001b[39;00m exog.dtype == \u001b[38;5;28mobject\u001b[39m:\n\u001b[32m--> \u001b[39m\u001b[32m509\u001b[39m     \u001b[38;5;28;01mraise\u001b[39;00m \u001b[38;5;167;01mValueError\u001b[39;00m(\u001b[33m\"\u001b[39m\u001b[33mPandas data cast to numpy dtype of object. \u001b[39m\u001b[33m\"\u001b[39m\n\u001b[32m    510\u001b[39m                      \u001b[33m\"\u001b[39m\u001b[33mCheck input data with np.asarray(data).\u001b[39m\u001b[33m\"\u001b[39m)\n\u001b[32m    511\u001b[39m \u001b[38;5;28;01mreturn\u001b[39;00m \u001b[38;5;28msuper\u001b[39m()._convert_endog_exog(endog, exog)\n",
      "\u001b[31mValueError\u001b[39m: Pandas data cast to numpy dtype of object. Check input data with np.asarray(data)."
     ]
    }
   ],
   "source": [
    "# Build a linear model with a categorical variable\n",
    "\n",
    "model_cat = sm.OLS(y_train, X_train[['intercept','radio', 'TV_cat']])\n",
    "results_cat = model_cat.fit()\n",
    "summarize(results_cat)"
   ]
  },
  {
   "cell_type": "code",
   "execution_count": 72,
   "id": "0bdbfd85",
   "metadata": {},
   "outputs": [],
   "source": [
    "# We'll need to create a numeric variable to represent each category\n",
    "\n",
    "X_train['TV_low'] = pd.Series(np.zeros(X_train.shape[0]))\n",
    "X_train.loc[X_train['TV']<=30, 'TV_low'] = 1\n",
    "X_train.loc[X_train['TV']>30, 'TV_low'] = 0\n",
    "\n",
    "X_train['TV_high'] = pd.Series(np.zeros(X_train.shape[0]))\n",
    "X_train.loc[X_train['TV']<=30, 'TV_high'] = 0\n",
    "X_train.loc[X_train['TV']>30, 'TV_high'] = 1"
   ]
  },
  {
   "cell_type": "code",
   "execution_count": 73,
   "id": "cd5726df",
   "metadata": {},
   "outputs": [
    {
     "data": {
      "text/html": [
       "<div>\n",
       "<style scoped>\n",
       "    .dataframe tbody tr th:only-of-type {\n",
       "        vertical-align: middle;\n",
       "    }\n",
       "\n",
       "    .dataframe tbody tr th {\n",
       "        vertical-align: top;\n",
       "    }\n",
       "\n",
       "    .dataframe thead th {\n",
       "        text-align: right;\n",
       "    }\n",
       "</style>\n",
       "<table border=\"1\" class=\"dataframe\">\n",
       "  <thead>\n",
       "    <tr style=\"text-align: right;\">\n",
       "      <th></th>\n",
       "      <th>TV</th>\n",
       "      <th>radio</th>\n",
       "      <th>newspaper</th>\n",
       "      <th>intercept</th>\n",
       "      <th>TV_radio_int</th>\n",
       "      <th>TV_cat</th>\n",
       "      <th>TV_low</th>\n",
       "      <th>TV_high</th>\n",
       "    </tr>\n",
       "  </thead>\n",
       "  <tbody>\n",
       "    <tr>\n",
       "      <th>178</th>\n",
       "      <td>276.7</td>\n",
       "      <td>2.3</td>\n",
       "      <td>23.7</td>\n",
       "      <td>1.0</td>\n",
       "      <td>636.41</td>\n",
       "      <td>high</td>\n",
       "      <td>0.0</td>\n",
       "      <td>1.0</td>\n",
       "    </tr>\n",
       "    <tr>\n",
       "      <th>167</th>\n",
       "      <td>206.8</td>\n",
       "      <td>5.2</td>\n",
       "      <td>19.4</td>\n",
       "      <td>1.0</td>\n",
       "      <td>1075.36</td>\n",
       "      <td>high</td>\n",
       "      <td>0.0</td>\n",
       "      <td>1.0</td>\n",
       "    </tr>\n",
       "    <tr>\n",
       "      <th>116</th>\n",
       "      <td>139.2</td>\n",
       "      <td>14.3</td>\n",
       "      <td>25.6</td>\n",
       "      <td>1.0</td>\n",
       "      <td>1990.56</td>\n",
       "      <td>high</td>\n",
       "      <td>0.0</td>\n",
       "      <td>1.0</td>\n",
       "    </tr>\n",
       "    <tr>\n",
       "      <th>76</th>\n",
       "      <td>27.5</td>\n",
       "      <td>1.6</td>\n",
       "      <td>20.7</td>\n",
       "      <td>1.0</td>\n",
       "      <td>44.00</td>\n",
       "      <td>low</td>\n",
       "      <td>1.0</td>\n",
       "      <td>0.0</td>\n",
       "    </tr>\n",
       "    <tr>\n",
       "      <th>11</th>\n",
       "      <td>214.7</td>\n",
       "      <td>24.0</td>\n",
       "      <td>4.0</td>\n",
       "      <td>1.0</td>\n",
       "      <td>5152.80</td>\n",
       "      <td>high</td>\n",
       "      <td>0.0</td>\n",
       "      <td>1.0</td>\n",
       "    </tr>\n",
       "  </tbody>\n",
       "</table>\n",
       "</div>"
      ],
      "text/plain": [
       "        TV  radio  newspaper  intercept  TV_radio_int TV_cat  TV_low  TV_high\n",
       "178  276.7    2.3       23.7        1.0        636.41   high     0.0      1.0\n",
       "167  206.8    5.2       19.4        1.0       1075.36   high     0.0      1.0\n",
       "116  139.2   14.3       25.6        1.0       1990.56   high     0.0      1.0\n",
       "76    27.5    1.6       20.7        1.0         44.00    low     1.0      0.0\n",
       "11   214.7   24.0        4.0        1.0       5152.80   high     0.0      1.0"
      ]
     },
     "execution_count": 73,
     "metadata": {},
     "output_type": "execute_result"
    }
   ],
   "source": [
    "X_train.head()"
   ]
  },
  {
   "cell_type": "code",
   "execution_count": 74,
   "id": "8f945ca9",
   "metadata": {},
   "outputs": [
    {
     "data": {
      "text/html": [
       "<div>\n",
       "<style scoped>\n",
       "    .dataframe tbody tr th:only-of-type {\n",
       "        vertical-align: middle;\n",
       "    }\n",
       "\n",
       "    .dataframe tbody tr th {\n",
       "        vertical-align: top;\n",
       "    }\n",
       "\n",
       "    .dataframe thead th {\n",
       "        text-align: right;\n",
       "    }\n",
       "</style>\n",
       "<table border=\"1\" class=\"dataframe\">\n",
       "  <thead>\n",
       "    <tr style=\"text-align: right;\">\n",
       "      <th></th>\n",
       "      <th>radio</th>\n",
       "      <th>TV_high</th>\n",
       "      <th>TV_low</th>\n",
       "    </tr>\n",
       "  </thead>\n",
       "  <tbody>\n",
       "    <tr>\n",
       "      <th>radio</th>\n",
       "      <td>1.00000</td>\n",
       "      <td>0.00435</td>\n",
       "      <td>-0.00435</td>\n",
       "    </tr>\n",
       "    <tr>\n",
       "      <th>TV_high</th>\n",
       "      <td>0.00435</td>\n",
       "      <td>1.00000</td>\n",
       "      <td>-1.00000</td>\n",
       "    </tr>\n",
       "    <tr>\n",
       "      <th>TV_low</th>\n",
       "      <td>-0.00435</td>\n",
       "      <td>-1.00000</td>\n",
       "      <td>1.00000</td>\n",
       "    </tr>\n",
       "  </tbody>\n",
       "</table>\n",
       "</div>"
      ],
      "text/plain": [
       "           radio  TV_high   TV_low\n",
       "radio    1.00000  0.00435 -0.00435\n",
       "TV_high  0.00435  1.00000 -1.00000\n",
       "TV_low  -0.00435 -1.00000  1.00000"
      ]
     },
     "execution_count": 74,
     "metadata": {},
     "output_type": "execute_result"
    }
   ],
   "source": [
    "# Look at correlations \n",
    "\n",
    "X_train[['radio', 'TV_high', 'TV_low']].corr()"
   ]
  },
  {
   "cell_type": "code",
   "execution_count": 75,
   "id": "513babc9",
   "metadata": {},
   "outputs": [
    {
     "data": {
      "text/html": [
       "<div>\n",
       "<style scoped>\n",
       "    .dataframe tbody tr th:only-of-type {\n",
       "        vertical-align: middle;\n",
       "    }\n",
       "\n",
       "    .dataframe tbody tr th {\n",
       "        vertical-align: top;\n",
       "    }\n",
       "\n",
       "    .dataframe thead th {\n",
       "        text-align: right;\n",
       "    }\n",
       "</style>\n",
       "<table border=\"1\" class=\"dataframe\">\n",
       "  <thead>\n",
       "    <tr style=\"text-align: right;\">\n",
       "      <th></th>\n",
       "      <th>coef</th>\n",
       "      <th>std err</th>\n",
       "      <th>t</th>\n",
       "      <th>P&gt;|t|</th>\n",
       "    </tr>\n",
       "  </thead>\n",
       "  <tbody>\n",
       "    <tr>\n",
       "      <th>intercept</th>\n",
       "      <td>10.2524</td>\n",
       "      <td>0.472</td>\n",
       "      <td>21.733</td>\n",
       "      <td>0.0</td>\n",
       "    </tr>\n",
       "    <tr>\n",
       "      <th>radio</th>\n",
       "      <td>0.2123</td>\n",
       "      <td>0.017</td>\n",
       "      <td>12.323</td>\n",
       "      <td>0.0</td>\n",
       "    </tr>\n",
       "    <tr>\n",
       "      <th>TV_low</th>\n",
       "      <td>-8.0006</td>\n",
       "      <td>0.723</td>\n",
       "      <td>-11.068</td>\n",
       "      <td>0.0</td>\n",
       "    </tr>\n",
       "  </tbody>\n",
       "</table>\n",
       "</div>"
      ],
      "text/plain": [
       "              coef  std err       t  P>|t|\n",
       "intercept  10.2524    0.472  21.733    0.0\n",
       "radio       0.2123    0.017  12.323    0.0\n",
       "TV_low     -8.0006    0.723 -11.068    0.0"
      ]
     },
     "execution_count": 75,
     "metadata": {},
     "output_type": "execute_result"
    }
   ],
   "source": [
    "# Fit the model with just the 'TV_low' indicator\n",
    "\n",
    "model_cat = sm.OLS(y_train, X_train[['intercept','radio','TV_low']])\n",
    "results_cat = model_cat.fit()\n",
    "summarize(results_cat)"
   ]
  },
  {
   "cell_type": "code",
   "execution_count": 76,
   "id": "e46ef7d9",
   "metadata": {},
   "outputs": [
    {
     "name": "stdout",
     "output_type": "stream",
     "text": [
      "R^2 on train: 0.6521094575491347\n"
     ]
    }
   ],
   "source": [
    "# R^2\n",
    "\n",
    "print('R^2 on train:',results_cat.rsquared)"
   ]
  },
  {
   "cell_type": "code",
   "execution_count": 77,
   "id": "d03577ff",
   "metadata": {},
   "outputs": [
    {
     "name": "stdout",
     "output_type": "stream",
     "text": [
      "mse train: 9.248264198756727\n"
     ]
    }
   ],
   "source": [
    "# MSE for model w/ categorical variable\n",
    "\n",
    "predictions_cat_train = predict(X_train[['intercept','radio','TV_low']], results_cat)\n",
    "print('mse train:',mse(y_train, predictions_cat_train))"
   ]
  },
  {
   "cell_type": "code",
   "execution_count": 78,
   "id": "f7b2ad33",
   "metadata": {},
   "outputs": [
    {
     "data": {
      "text/html": [
       "<div>\n",
       "<style scoped>\n",
       "    .dataframe tbody tr th:only-of-type {\n",
       "        vertical-align: middle;\n",
       "    }\n",
       "\n",
       "    .dataframe tbody tr th {\n",
       "        vertical-align: top;\n",
       "    }\n",
       "\n",
       "    .dataframe thead th {\n",
       "        text-align: right;\n",
       "    }\n",
       "</style>\n",
       "<table border=\"1\" class=\"dataframe\">\n",
       "  <thead>\n",
       "    <tr style=\"text-align: right;\">\n",
       "      <th></th>\n",
       "      <th>coef</th>\n",
       "      <th>std err</th>\n",
       "      <th>t</th>\n",
       "      <th>P&gt;|t|</th>\n",
       "    </tr>\n",
       "  </thead>\n",
       "  <tbody>\n",
       "    <tr>\n",
       "      <th>intercept</th>\n",
       "      <td>2.2519</td>\n",
       "      <td>0.772</td>\n",
       "      <td>2.916</td>\n",
       "      <td>0.004</td>\n",
       "    </tr>\n",
       "    <tr>\n",
       "      <th>radio</th>\n",
       "      <td>0.2123</td>\n",
       "      <td>0.017</td>\n",
       "      <td>12.323</td>\n",
       "      <td>0.000</td>\n",
       "    </tr>\n",
       "    <tr>\n",
       "      <th>TV_high</th>\n",
       "      <td>8.0006</td>\n",
       "      <td>0.723</td>\n",
       "      <td>11.068</td>\n",
       "      <td>0.000</td>\n",
       "    </tr>\n",
       "  </tbody>\n",
       "</table>\n",
       "</div>"
      ],
      "text/plain": [
       "             coef  std err       t  P>|t|\n",
       "intercept  2.2519    0.772   2.916  0.004\n",
       "radio      0.2123    0.017  12.323  0.000\n",
       "TV_high    8.0006    0.723  11.068  0.000"
      ]
     },
     "execution_count": 78,
     "metadata": {},
     "output_type": "execute_result"
    }
   ],
   "source": [
    "# What if we used the 'TV_high' indicator instead of 'TV_low'?\n",
    "\n",
    "model_cat2 = sm.OLS(y_train, X_train[['intercept','radio', 'TV_high']])\n",
    "results_cat2 = model_cat2.fit()\n",
    "summarize(results_cat2)"
   ]
  },
  {
   "cell_type": "code",
   "execution_count": 79,
   "id": "c8a8e1e0",
   "metadata": {},
   "outputs": [
    {
     "data": {
      "text/html": [
       "<div>\n",
       "<style scoped>\n",
       "    .dataframe tbody tr th:only-of-type {\n",
       "        vertical-align: middle;\n",
       "    }\n",
       "\n",
       "    .dataframe tbody tr th {\n",
       "        vertical-align: top;\n",
       "    }\n",
       "\n",
       "    .dataframe thead th {\n",
       "        text-align: right;\n",
       "    }\n",
       "</style>\n",
       "<table border=\"1\" class=\"dataframe\">\n",
       "  <thead>\n",
       "    <tr style=\"text-align: right;\">\n",
       "      <th></th>\n",
       "      <th>coef</th>\n",
       "      <th>std err</th>\n",
       "      <th>t</th>\n",
       "      <th>P&gt;|t|</th>\n",
       "    </tr>\n",
       "  </thead>\n",
       "  <tbody>\n",
       "    <tr>\n",
       "      <th>intercept</th>\n",
       "      <td>10.2524</td>\n",
       "      <td>0.472</td>\n",
       "      <td>21.733</td>\n",
       "      <td>0.0</td>\n",
       "    </tr>\n",
       "    <tr>\n",
       "      <th>radio</th>\n",
       "      <td>0.2123</td>\n",
       "      <td>0.017</td>\n",
       "      <td>12.323</td>\n",
       "      <td>0.0</td>\n",
       "    </tr>\n",
       "    <tr>\n",
       "      <th>TV_low</th>\n",
       "      <td>-8.0006</td>\n",
       "      <td>0.723</td>\n",
       "      <td>-11.068</td>\n",
       "      <td>0.0</td>\n",
       "    </tr>\n",
       "  </tbody>\n",
       "</table>\n",
       "</div>"
      ],
      "text/plain": [
       "              coef  std err       t  P>|t|\n",
       "intercept  10.2524    0.472  21.733    0.0\n",
       "radio       0.2123    0.017  12.323    0.0\n",
       "TV_low     -8.0006    0.723 -11.068    0.0"
      ]
     },
     "execution_count": 79,
     "metadata": {},
     "output_type": "execute_result"
    }
   ],
   "source": [
    "# For comparison, these were the estimates for the 'TV_low' model\n",
    "\n",
    "summarize(results_cat)"
   ]
  },
  {
   "cell_type": "code",
   "execution_count": 80,
   "id": "e4680c7b",
   "metadata": {},
   "outputs": [
    {
     "name": "stdout",
     "output_type": "stream",
     "text": [
      "train R^2 for TV_high model: 0.6521094575491349\n",
      "train R^2 for TV_low model: 0.6521094575491347\n"
     ]
    }
   ],
   "source": [
    "# R^2\n",
    "\n",
    "print('train R^2 for TV_high model:',results_cat2.rsquared)\n",
    "print('train R^2 for TV_low model:',results_cat.rsquared)"
   ]
  },
  {
   "cell_type": "code",
   "execution_count": 81,
   "id": "57cf353e",
   "metadata": {},
   "outputs": [
    {
     "name": "stdout",
     "output_type": "stream",
     "text": [
      "mse train for TV_high: 9.248264198756726\n",
      "mse train for TV_low: 9.248264198756727\n"
     ]
    }
   ],
   "source": [
    "# MSE on train\n",
    "\n",
    "predictions_cat2_train = predict(X_train[['intercept','radio','TV_high']], results_cat2)\n",
    "print('mse train for TV_high:',mse(y_train, predictions_cat2_train))\n",
    "print('mse train for TV_low:',mse(y_train, predictions_cat_train))"
   ]
  },
  {
   "cell_type": "markdown",
   "id": "985944e1",
   "metadata": {},
   "source": [
    "## Challenge: Multiple linear regression on auto data"
   ]
  },
  {
   "cell_type": "code",
   "execution_count": 83,
   "id": "d6ebd487",
   "metadata": {},
   "outputs": [
    {
     "data": {
      "text/plain": [
       "mpg             float64\n",
       "cylinders         int64\n",
       "displacement    float64\n",
       "horsepower       object\n",
       "weight            int64\n",
       "acceleration    float64\n",
       "year              int64\n",
       "origin            int64\n",
       "name             object\n",
       "dtype: object"
      ]
     },
     "execution_count": 83,
     "metadata": {},
     "output_type": "execute_result"
    }
   ],
   "source": [
    "# Load and review the data\n",
    "\n",
    "#Auto = pd.read_csv('../../data/Auto.csv')\n",
    "Auto = pd.read_csv('../data/Auto.csv')\n",
    "Auto.dtypes"
   ]
  },
  {
   "cell_type": "code",
   "execution_count": null,
   "id": "12af2678",
   "metadata": {},
   "outputs": [],
   "source": [
    "# Replace the missing horsepowers\n",
    "\n",
    "Auto.replace({'horsepower':'?'},'104',inplace=True)\n",
    "Auto.replace({'cylinders':'?'}, '2', inplace=True)\n",
    "Auto['horsepower'] = pd.to_numeric(Auto['horsepower'])\n",
    "Auto['weight_squared'] = Auto['weight'] ** 2\n",
    "Auto['acceleration_squared'] = Auto['acceleration'] ** 2\n",
    "Auto['horsepower_squared'] = Auto['horsepower'] ** 2\n",
    "Auto['weight_acceleration_int'] = Auto['weight'] * Auto['acceleration']\n",
    "Auto['weight_horsepower_int'] = Auto['weight'] * Auto['horsepower']\n",
    "\n",
    "#print(Auto['weight_squared'])"
   ]
  },
  {
   "cell_type": "code",
   "execution_count": 216,
   "id": "1898acfb",
   "metadata": {},
   "outputs": [],
   "source": [
    "# Identify some predictors and the target\n",
    "X = Auto[['weight_squared', 'horsepower_squared', 'year']]\n",
    "y = Auto['mpg']"
   ]
  },
  {
   "cell_type": "code",
   "execution_count": 217,
   "id": "627b235a",
   "metadata": {},
   "outputs": [
    {
     "data": {
      "text/html": [
       "<div>\n",
       "<style scoped>\n",
       "    .dataframe tbody tr th:only-of-type {\n",
       "        vertical-align: middle;\n",
       "    }\n",
       "\n",
       "    .dataframe tbody tr th {\n",
       "        vertical-align: top;\n",
       "    }\n",
       "\n",
       "    .dataframe thead th {\n",
       "        text-align: right;\n",
       "    }\n",
       "</style>\n",
       "<table border=\"1\" class=\"dataframe\">\n",
       "  <thead>\n",
       "    <tr style=\"text-align: right;\">\n",
       "      <th></th>\n",
       "      <th>weight_squared</th>\n",
       "      <th>horsepower_squared</th>\n",
       "      <th>year</th>\n",
       "      <th>intercept</th>\n",
       "    </tr>\n",
       "  </thead>\n",
       "  <tbody>\n",
       "    <tr>\n",
       "      <th>0</th>\n",
       "      <td>12278016</td>\n",
       "      <td>16900</td>\n",
       "      <td>70</td>\n",
       "      <td>1.0</td>\n",
       "    </tr>\n",
       "    <tr>\n",
       "      <th>1</th>\n",
       "      <td>13638249</td>\n",
       "      <td>27225</td>\n",
       "      <td>70</td>\n",
       "      <td>1.0</td>\n",
       "    </tr>\n",
       "    <tr>\n",
       "      <th>2</th>\n",
       "      <td>11806096</td>\n",
       "      <td>22500</td>\n",
       "      <td>70</td>\n",
       "      <td>1.0</td>\n",
       "    </tr>\n",
       "    <tr>\n",
       "      <th>3</th>\n",
       "      <td>11785489</td>\n",
       "      <td>22500</td>\n",
       "      <td>70</td>\n",
       "      <td>1.0</td>\n",
       "    </tr>\n",
       "    <tr>\n",
       "      <th>4</th>\n",
       "      <td>11895601</td>\n",
       "      <td>19600</td>\n",
       "      <td>70</td>\n",
       "      <td>1.0</td>\n",
       "    </tr>\n",
       "    <tr>\n",
       "      <th>...</th>\n",
       "      <td>...</td>\n",
       "      <td>...</td>\n",
       "      <td>...</td>\n",
       "      <td>...</td>\n",
       "    </tr>\n",
       "    <tr>\n",
       "      <th>392</th>\n",
       "      <td>7784100</td>\n",
       "      <td>7396</td>\n",
       "      <td>82</td>\n",
       "      <td>1.0</td>\n",
       "    </tr>\n",
       "    <tr>\n",
       "      <th>393</th>\n",
       "      <td>4536900</td>\n",
       "      <td>2704</td>\n",
       "      <td>82</td>\n",
       "      <td>1.0</td>\n",
       "    </tr>\n",
       "    <tr>\n",
       "      <th>394</th>\n",
       "      <td>5267025</td>\n",
       "      <td>7056</td>\n",
       "      <td>82</td>\n",
       "      <td>1.0</td>\n",
       "    </tr>\n",
       "    <tr>\n",
       "      <th>395</th>\n",
       "      <td>6890625</td>\n",
       "      <td>6241</td>\n",
       "      <td>82</td>\n",
       "      <td>1.0</td>\n",
       "    </tr>\n",
       "    <tr>\n",
       "      <th>396</th>\n",
       "      <td>7398400</td>\n",
       "      <td>6724</td>\n",
       "      <td>82</td>\n",
       "      <td>1.0</td>\n",
       "    </tr>\n",
       "  </tbody>\n",
       "</table>\n",
       "<p>397 rows × 4 columns</p>\n",
       "</div>"
      ],
      "text/plain": [
       "     weight_squared  horsepower_squared  year  intercept\n",
       "0          12278016               16900    70        1.0\n",
       "1          13638249               27225    70        1.0\n",
       "2          11806096               22500    70        1.0\n",
       "3          11785489               22500    70        1.0\n",
       "4          11895601               19600    70        1.0\n",
       "..              ...                 ...   ...        ...\n",
       "392         7784100                7396    82        1.0\n",
       "393         4536900                2704    82        1.0\n",
       "394         5267025                7056    82        1.0\n",
       "395         6890625                6241    82        1.0\n",
       "396         7398400                6724    82        1.0\n",
       "\n",
       "[397 rows x 4 columns]"
      ]
     },
     "execution_count": 217,
     "metadata": {},
     "output_type": "execute_result"
    }
   ],
   "source": [
    "# Create a column for the intercept in the features matrix\n",
    "\n",
    "X['intercept'] = np.ones(Auto.shape[0])\n",
    "X"
   ]
  },
  {
   "cell_type": "code",
   "execution_count": 218,
   "id": "c5639623",
   "metadata": {},
   "outputs": [],
   "source": [
    "# Create training and testing sets\n",
    "\n",
    "X_train, X_test, y_train, y_test = train_test_split(X,\n",
    "                                                    y,\n",
    "                                                    random_state=314,\n",
    "                                                    test_size=0.25,\n",
    "                                                    shuffle=True) \n",
    "Train = pd.merge_ordered(X_train,y_train,left_on=X_train.index,right_on=y_train.index).drop(columns=['key_0'])\n",
    "Test = pd.merge_ordered(X_test,y_test,left_on=X_test.index,right_on=y_test.index).drop(columns=['key_0'])"
   ]
  },
  {
   "cell_type": "code",
   "execution_count": 219,
   "id": "144499e9",
   "metadata": {},
   "outputs": [
    {
     "data": {
      "text/html": [
       "<div>\n",
       "<style scoped>\n",
       "    .dataframe tbody tr th:only-of-type {\n",
       "        vertical-align: middle;\n",
       "    }\n",
       "\n",
       "    .dataframe tbody tr th {\n",
       "        vertical-align: top;\n",
       "    }\n",
       "\n",
       "    .dataframe thead th {\n",
       "        text-align: right;\n",
       "    }\n",
       "</style>\n",
       "<table border=\"1\" class=\"dataframe\">\n",
       "  <thead>\n",
       "    <tr style=\"text-align: right;\">\n",
       "      <th></th>\n",
       "      <th>coef</th>\n",
       "      <th>std err</th>\n",
       "      <th>t</th>\n",
       "      <th>P&gt;|t|</th>\n",
       "    </tr>\n",
       "  </thead>\n",
       "  <tbody>\n",
       "    <tr>\n",
       "      <th>weight_squared</th>\n",
       "      <td>-0.000001</td>\n",
       "      <td>7.260000e-08</td>\n",
       "      <td>-13.979</td>\n",
       "      <td>0.000</td>\n",
       "    </tr>\n",
       "    <tr>\n",
       "      <th>horsepower_squared</th>\n",
       "      <td>0.000038</td>\n",
       "      <td>4.130000e-05</td>\n",
       "      <td>0.918</td>\n",
       "      <td>0.359</td>\n",
       "    </tr>\n",
       "    <tr>\n",
       "      <th>year</th>\n",
       "      <td>0.807300</td>\n",
       "      <td>6.700000e-02</td>\n",
       "      <td>12.041</td>\n",
       "      <td>0.000</td>\n",
       "    </tr>\n",
       "    <tr>\n",
       "      <th>intercept</th>\n",
       "      <td>-28.571500</td>\n",
       "      <td>5.242000e+00</td>\n",
       "      <td>-5.451</td>\n",
       "      <td>0.000</td>\n",
       "    </tr>\n",
       "  </tbody>\n",
       "</table>\n",
       "</div>"
      ],
      "text/plain": [
       "                         coef       std err       t  P>|t|\n",
       "weight_squared      -0.000001  7.260000e-08 -13.979  0.000\n",
       "horsepower_squared   0.000038  4.130000e-05   0.918  0.359\n",
       "year                 0.807300  6.700000e-02  12.041  0.000\n",
       "intercept          -28.571500  5.242000e+00  -5.451  0.000"
      ]
     },
     "execution_count": 219,
     "metadata": {},
     "output_type": "execute_result"
    }
   ],
   "source": [
    "# Build a linear model where horsepower predicts mpg\n",
    "# Take note of the p-values\n",
    "\n",
    "model = sm.OLS(y_train, X_train)\n",
    "results = model.fit()\n",
    "summarize(results)"
   ]
  },
  {
   "cell_type": "code",
   "execution_count": 220,
   "id": "ba738f09",
   "metadata": {},
   "outputs": [
    {
     "name": "stdout",
     "output_type": "stream",
     "text": [
      "R^2 on train: 0.7581050482859367\n"
     ]
    }
   ],
   "source": [
    "# We can also assess the overall fit of the model\n",
    "\n",
    "print('R^2 on train:',results.rsquared)"
   ]
  },
  {
   "cell_type": "code",
   "execution_count": 221,
   "id": "fde2f846",
   "metadata": {},
   "outputs": [
    {
     "name": "stdout",
     "output_type": "stream",
     "text": [
      "mse train: 15.049704384578709\n",
      "mse test: 12.421907304592356\n"
     ]
    }
   ],
   "source": [
    "# Let's compute the MSE on the training and test sets\n",
    "\n",
    "predictions_train = predict(X_train, results)\n",
    "print('mse train:',mse(y_train, predictions_train))\n",
    "predictions_test = predict(X_test, results)\n",
    "print('mse test:',mse(y_test, predictions_test))"
   ]
  },
  {
   "cell_type": "code",
   "execution_count": null,
   "id": "50c764f5",
   "metadata": {},
   "outputs": [],
   "source": []
  }
 ],
 "metadata": {
  "kernelspec": {
   "display_name": "islp",
   "language": "python",
   "name": "python3"
  },
  "language_info": {
   "codemirror_mode": {
    "name": "ipython",
    "version": 3
   },
   "file_extension": ".py",
   "mimetype": "text/x-python",
   "name": "python",
   "nbconvert_exporter": "python",
   "pygments_lexer": "ipython3",
   "version": "3.13.5"
  }
 },
 "nbformat": 4,
 "nbformat_minor": 5
}
