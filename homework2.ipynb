{
 "cells": [
  {
   "cell_type": "code",
   "execution_count": 16,
   "id": "9f8fa599",
   "metadata": {},
   "outputs": [],
   "source": [
    "import numpy as np\n",
    "import pandas as pd\n",
    "import matplotlib.pyplot as plt\n",
    "import scipy.stats as stats\n",
    "import math\n",
    "from matplotlib.pyplot import subplots\n",
    "import statsmodels.api as sm\n",
    "from sklearn.model_selection import train_test_split \n",
    "\n",
    "pd.options.mode.copy_on_write = True"
   ]
  },
  {
   "cell_type": "markdown",
   "id": "c55174db",
   "metadata": {},
   "source": [
    "Question 1"
   ]
  },
  {
   "cell_type": "code",
   "execution_count": 17,
   "id": "16fa4105",
   "metadata": {},
   "outputs": [],
   "source": [
    "septDeliveries = [6, 7, 6, 7, 7, 6, 11, 4, 8, 6, 6, 12, 2, 8, 12, 5, 7, 8, 6, 11, 6, 8, 9, 11, 5, 9, 8, 9, 8, 12]"
   ]
  },
  {
   "cell_type": "markdown",
   "id": "3ea1b6b7",
   "metadata": {},
   "source": [
    "a."
   ]
  },
  {
   "cell_type": "code",
   "execution_count": 18,
   "id": "e7f77c67",
   "metadata": {},
   "outputs": [],
   "source": [
    "septDeliveries.sort()\n",
    "bin_depth = 10\n",
    "lowBin = septDeliveries[0:bin_depth]\n",
    "medBin = septDeliveries[bin_depth:2*bin_depth]\n",
    "highBin = septDeliveries[2*bin_depth:]\n",
    "\n"
   ]
  },
  {
   "cell_type": "markdown",
   "id": "254f152f",
   "metadata": {},
   "source": [
    "I first sorted the array of deliviry days. Then I used array slicing to slice the array into smaller arrays of 10 elements each. Since I already sorted the array, the lowest elements would be in the first array, the medium elements would be in the second array, and the highest elemtents would be in the last array."
   ]
  },
  {
   "cell_type": "markdown",
   "id": "b3b430fa",
   "metadata": {},
   "source": [
    "b."
   ]
  },
  {
   "cell_type": "code",
   "execution_count": null,
   "id": "d5fef121",
   "metadata": {},
   "outputs": [
    {
     "data": {
      "text/plain": [
       "10"
      ]
     },
     "execution_count": 15,
     "metadata": {},
     "output_type": "execute_result"
    }
   ],
   "source": [
    "#find bin width\n",
    "min = septDeliveries[0]\n",
    "max = septDeliveries[-1]\n",
    "range = max - min\n",
    "width = range/3"
   ]
  }
 ],
 "metadata": {
  "kernelspec": {
   "display_name": "islp",
   "language": "python",
   "name": "python3"
  },
  "language_info": {
   "codemirror_mode": {
    "name": "ipython",
    "version": 3
   },
   "file_extension": ".py",
   "mimetype": "text/x-python",
   "name": "python",
   "nbconvert_exporter": "python",
   "pygments_lexer": "ipython3",
   "version": "3.13.5"
  }
 },
 "nbformat": 4,
 "nbformat_minor": 5
}
