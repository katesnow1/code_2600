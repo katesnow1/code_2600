{
 "cells": [
  {
   "cell_type": "code",
   "execution_count": 13,
   "id": "9f8fa599",
   "metadata": {},
   "outputs": [],
   "source": [
    "import numpy as np\n",
    "import pandas as pd\n",
    "import matplotlib.pyplot as plt\n",
    "import scipy.stats as stats\n",
    "import math\n",
    "from matplotlib.pyplot import subplots\n",
    "import statsmodels.api as sm\n",
    "from sklearn.model_selection import train_test_split \n",
    "from ISLP import load_data\n",
    "\n",
    "pd.options.mode.copy_on_write = True"
   ]
  },
  {
   "cell_type": "markdown",
   "id": "c55174db",
   "metadata": {},
   "source": [
    "Question 1"
   ]
  },
  {
   "cell_type": "code",
   "execution_count": 14,
   "id": "16fa4105",
   "metadata": {},
   "outputs": [],
   "source": [
    "septDeliveries = [6, 7, 6, 7, 7, 6, 11, 4, 8, 6, 6, 12, 2, 8, 12, 5, 7, 8, 6, 11, 6, 8, 9, 11, 5, 9, 8, 9, 8, 12]"
   ]
  },
  {
   "cell_type": "markdown",
   "id": "3ea1b6b7",
   "metadata": {},
   "source": [
    "a."
   ]
  },
  {
   "cell_type": "code",
   "execution_count": 18,
   "id": "e7f77c67",
   "metadata": {},
   "outputs": [
    {
     "name": "stdout",
     "output_type": "stream",
     "text": [
      "[np.float64(5.2), np.float64(5.2), np.float64(5.2), np.float64(5.2), np.float64(5.2), np.float64(5.2), np.float64(5.2), np.float64(5.2), np.float64(5.2), np.float64(5.2)]\n",
      "[np.float64(7.4), np.float64(7.4), np.float64(7.4), np.float64(7.4), np.float64(7.4), np.float64(7.4), np.float64(7.4), np.float64(7.4), np.float64(7.4), np.float64(7.4)]\n",
      "[np.float64(10.4), np.float64(10.4), np.float64(10.4), np.float64(10.4), np.float64(10.4), np.float64(10.4), np.float64(10.4), np.float64(10.4), np.float64(10.4), np.float64(10.4)]\n"
     ]
    }
   ],
   "source": [
    "septDeliveries.sort()\n",
    "bin_depth = 10\n",
    "#since the array is sorted already, I sliced the original array into 3 equal arrays of depth 10\n",
    "lowBin = septDeliveries[0:bin_depth]\n",
    "medBin = septDeliveries[bin_depth:2*bin_depth]\n",
    "highBin = septDeliveries[2*bin_depth:]\n",
    "#finding the mean of each bin\n",
    "lowMean = np.mean(lowBin)\n",
    "medMean = np.mean(medBin)\n",
    "highMean = np.mean(highBin)\n",
    "#smoothing each bin\n",
    "lowSmooth = [lowMean] * len(lowBin)\n",
    "medSmooth = [medMean] * len(medBin)\n",
    "highSmooth = [highMean] * len(highBin)\n",
    "print(lowSmooth)\n",
    "print(medSmooth)\n",
    "print(highSmooth)\n",
    "\n",
    "\n",
    "\n"
   ]
  },
  {
   "cell_type": "markdown",
   "id": "254f152f",
   "metadata": {},
   "source": [
    "I first sorted the array of deliviry days. Then I used array slicing to slice the array into smaller arrays of 10 elements each. Since I already sorted the array, the lowest elements would be in the first array, the medium elements would be in the second array, and the highest elemtents would be in the last array."
   ]
  },
  {
   "cell_type": "markdown",
   "id": "b3b430fa",
   "metadata": {},
   "source": [
    "b."
   ]
  },
  {
   "cell_type": "code",
   "execution_count": 20,
   "id": "d5fef121",
   "metadata": {},
   "outputs": [
    {
     "name": "stdout",
     "output_type": "stream",
     "text": [
      "[np.float64(4.5), np.float64(4.5), np.float64(4.5), np.float64(4.5)]\n",
      "[np.float64(7.0), np.float64(7.0), np.float64(7.0), np.float64(7.0), np.float64(7.0), np.float64(7.0), np.float64(7.0), np.float64(7.0), np.float64(7.0), np.float64(7.0), np.float64(7.0), np.float64(7.0), np.float64(7.0), np.float64(7.0), np.float64(7.0), np.float64(7.0), np.float64(7.0)]\n",
      "[np.float64(11.0), np.float64(11.0), np.float64(11.0), np.float64(11.0), np.float64(11.0), np.float64(11.0), np.float64(11.0), np.float64(11.0), np.float64(11.0)]\n"
     ]
    }
   ],
   "source": [
    "#find bin width\n",
    "min = septDeliveries[0]\n",
    "max = septDeliveries[-1]\n",
    "range = max - min\n",
    "width = range/3\n",
    "lowBin2 = []\n",
    "medBin2 = []\n",
    "highBin2 = []\n",
    "for num in septDeliveries:\n",
    "    if num < min + width:\n",
    "        lowBin2.append(num)\n",
    "    elif num < min + 2*width:\n",
    "        medBin2.append(num)\n",
    "    else:\n",
    "        highBin2.append(num)\n",
    "lowMedian = np.median(lowBin2)\n",
    "medMedian = np.median(medBin2)\n",
    "highMedian = np.median(highBin2)\n",
    "lowSmooth2 = [lowMedian] * len(lowBin2)\n",
    "medSmooth2 = [medMedian] * len(medBin2)\n",
    "highSmooth2 = [highMedian] * len(highBin2)\n",
    "print(lowSmooth2)\n",
    "print(medSmooth2)\n",
    "print(highSmooth2)\n",
    "        \n"
   ]
  },
  {
   "cell_type": "markdown",
   "id": "b2304fb9",
   "metadata": {},
   "source": [
    "c. I would prefer to use smoothing by bin medians with bins of equal width because it shows how there is a low frequency of days in which there was very few deliveries (one day with 2 deliveries, one day with 4 deliveries, and one day with 5 deliveries). It also means the data isn't effected by outliers as much as smoothing by means."
   ]
  },
  {
   "cell_type": "markdown",
   "id": "1b1076a6",
   "metadata": {},
   "source": [
    "d."
   ]
  },
  {
   "cell_type": "code",
   "execution_count": 22,
   "id": "3c33caa0",
   "metadata": {},
   "outputs": [
    {
     "data": {
      "text/plain": [
       "0.3"
      ]
     },
     "execution_count": 22,
     "metadata": {},
     "output_type": "execute_result"
    }
   ],
   "source": [
    "(5-septDeliveries[0])/(septDeliveries[-1]-septDeliveries[0])"
   ]
  },
  {
   "cell_type": "markdown",
   "id": "fcdfbfcc",
   "metadata": {},
   "source": [
    "The transformed value of 5 would be 0.3"
   ]
  },
  {
   "cell_type": "markdown",
   "id": "ce2decb1",
   "metadata": {},
   "source": [
    "e."
   ]
  },
  {
   "cell_type": "code",
   "execution_count": 30,
   "id": "ca71cebb",
   "metadata": {},
   "outputs": [
    {
     "data": {
      "text/plain": [
       "np.float64(-1.0988845115895123)"
      ]
     },
     "execution_count": 30,
     "metadata": {},
     "output_type": "execute_result"
    }
   ],
   "source": [
    "mean = np.mean(septDeliveries)\n",
    "standardDev = np.std(septDeliveries)\n",
    "(5-mean)/standardDev"
   ]
  },
  {
   "cell_type": "markdown",
   "id": "0aa56eef",
   "metadata": {},
   "source": [
    "The transformed value of 5 is around -1.1."
   ]
  },
  {
   "cell_type": "markdown",
   "id": "16bd2d0e",
   "metadata": {},
   "source": [
    "f. I would prefer to use min-max normalization because it shows where the certain value falls on the range of all values. In this case, 5 is relatively low compared to the median values which ocupy most of the data."
   ]
  },
  {
   "cell_type": "markdown",
   "id": "19368116",
   "metadata": {},
   "source": [
    "Question 2"
   ]
  },
  {
   "cell_type": "code",
   "execution_count": 29,
   "id": "00c60f09",
   "metadata": {},
   "outputs": [],
   "source": [
    "Bikeshare = load_data('Bikeshare')"
   ]
  }
 ],
 "metadata": {
  "kernelspec": {
   "display_name": "islp",
   "language": "python",
   "name": "python3"
  },
  "language_info": {
   "codemirror_mode": {
    "name": "ipython",
    "version": 3
   },
   "file_extension": ".py",
   "mimetype": "text/x-python",
   "name": "python",
   "nbconvert_exporter": "python",
   "pygments_lexer": "ipython3",
   "version": "3.13.5"
  }
 },
 "nbformat": 4,
 "nbformat_minor": 5
}
