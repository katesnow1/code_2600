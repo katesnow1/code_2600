{
 "cells": [
  {
   "cell_type": "code",
   "execution_count": null,
   "id": "cd484f9b",
   "metadata": {},
   "outputs": [],
   "source": [
    "import numpy as np\n",
    "import pandas as pd\n",
    "from matplotlib.pyplot import subplots\n",
    "from sklearn.model_selection import train_test_split\n",
    "from ISLP import load_data, confusion_table\n",
    "from ISLP.models import ModelSpec as MS"
   ]
  },
  {
   "cell_type": "code",
   "execution_count": null,
   "id": "28fa7a83",
   "metadata": {},
   "outputs": [],
   "source": [
    "from sklearn.tree import (DecisionTreeClassifier as DTC,\n",
    "                          DecisionTreeRegressor as DTR,\n",
    "                          plot_tree,\n",
    "                          export_text)\n",
    "from sklearn.metrics import (accuracy_score,\n",
    "                             log_loss)\n",
    "from sklearn.ensemble import \\\n",
    "     (RandomForestRegressor as RF,\n",
    "      GradientBoostingRegressor as GBR)"
   ]
  },
  {
   "cell_type": "code",
   "execution_count": null,
   "id": "7560b9be",
   "metadata": {
    "scrolled": true
   },
   "outputs": [],
   "source": [
    "# Load the data\n",
    "\n",
    "Auto = load_data('Auto')\n",
    "Auto"
   ]
  },
  {
   "cell_type": "code",
   "execution_count": null,
   "id": "43f558da",
   "metadata": {},
   "outputs": [],
   "source": [
    "# We can also impute the missing values of \"horsepower\" as we did previously\n",
    "\n",
    "Auto['horsepower'].replace('?','104',inplace=True)\n",
    "Auto['horsepower'] = pd.to_numeric(Auto['horsepower'])"
   ]
  },
  {
   "cell_type": "code",
   "execution_count": null,
   "id": "ef57a550",
   "metadata": {},
   "outputs": [],
   "source": [
    "# We will use the numeric variables in the data to predict mpg\n",
    "\n",
    "X = Auto[['cylinders','displacement','horsepower','weight','acceleration','year','origin']]\n",
    "y = Auto['mpg']"
   ]
  },
  {
   "cell_type": "code",
   "execution_count": null,
   "id": "0fb79ec7",
   "metadata": {},
   "outputs": [],
   "source": [
    "# Create train and test split\n",
    "\n",
    "X_train, X_test, y_train, y_test = train_test_split(X,\n",
    "                                                    y,\n",
    "                                                    random_state=314,\n",
    "                                                    test_size=0.25,\n",
    "                                                    shuffle=True) \n",
    "Train = pd.merge_ordered(X_train,y_train,left_on=X_train.index,right_on=y_train.index).drop(columns=['key_0'])\n",
    "Test = pd.merge_ordered(X_test,y_test,left_on=X_test.index,right_on=y_test.index).drop(columns=['key_0'])\n",
    "\n",
    "X_train"
   ]
  },
  {
   "cell_type": "markdown",
   "id": "7c025465",
   "metadata": {},
   "source": [
    "## A Single Regression Tree"
   ]
  },
  {
   "cell_type": "code",
   "execution_count": null,
   "id": "f829ca7b",
   "metadata": {},
   "outputs": [],
   "source": [
    "# Build a single tree with depth 3\n",
    "\n",
    "tree1 = DTR(max_depth=3)\n",
    "tree1.fit(X_train, y_train)"
   ]
  },
  {
   "cell_type": "code",
   "execution_count": null,
   "id": "d5b041a9",
   "metadata": {},
   "outputs": [],
   "source": [
    "# Construct a graph of the tree\n",
    "\n",
    "feature_names = list(X_train.columns)\n",
    "ax = subplots(figsize=(12,12))[1]\n",
    "plot_tree(tree1,\n",
    "          feature_names=feature_names,\n",
    "          ax=ax);"
   ]
  },
  {
   "cell_type": "code",
   "execution_count": null,
   "id": "863b9047",
   "metadata": {},
   "outputs": [],
   "source": [
    "# Build a single tree with depth 3 BUT make sure each leaf has at least 10 records\n",
    "\n",
    "tree2 = DTR(max_depth=3, min_samples_leaf=10)\n",
    "tree2.fit(X_train, y_train)"
   ]
  },
  {
   "cell_type": "code",
   "execution_count": null,
   "id": "c89636ad",
   "metadata": {},
   "outputs": [],
   "source": [
    "# Construct a graph of the tree\n",
    "\n",
    "feature_names = list(X_train.columns)\n",
    "ax = subplots(figsize=(12,12))[1]\n",
    "plot_tree(tree2,\n",
    "          feature_names=feature_names,\n",
    "          ax=ax);"
   ]
  },
  {
   "cell_type": "code",
   "execution_count": null,
   "id": "3c682e54",
   "metadata": {},
   "outputs": [],
   "source": [
    "# Build a tree with 7 nodes (instead of depth=3)\n",
    "\n",
    "tree3 = DTR(max_leaf_nodes=7)\n",
    "tree3.fit(X_train, y_train)"
   ]
  },
  {
   "cell_type": "code",
   "execution_count": null,
   "id": "c0a3749a",
   "metadata": {},
   "outputs": [],
   "source": [
    "# Construct a graph of the tree\n",
    "\n",
    "feature_names = list(X_train.columns)\n",
    "ax = subplots(figsize=(12,12))[1]\n",
    "plot_tree(tree3,\n",
    "          feature_names=feature_names,\n",
    "          ax=ax);"
   ]
  },
  {
   "cell_type": "markdown",
   "id": "5d5bb15b",
   "metadata": {},
   "source": [
    "## Random Forest"
   ]
  },
  {
   "cell_type": "code",
   "execution_count": null,
   "id": "4bf70e11",
   "metadata": {},
   "outputs": [],
   "source": [
    "# Build the model\n",
    "# Documentation: https://scikit-learn.org/dev/modules/generated/sklearn.ensemble.RandomForestRegressor.html\n",
    "\n",
    "rf_auto = RF(max_features=6,\n",
    "             n_estimators=10000,\n",
    "             max_depth=10,\n",
    "#             min_samples_leaf=2,\n",
    "#             max_leaf_nodes=None,\n",
    "             bootstrap=True,\n",
    "             random_state=314)\n",
    "rf_auto.fit(X_train, y_train)"
   ]
  },
  {
   "cell_type": "code",
   "execution_count": null,
   "id": "ec785c37",
   "metadata": {},
   "outputs": [],
   "source": [
    "# MSE\n",
    "\n",
    "y_hat_rf = rf_auto.predict(X_test)\n",
    "mse_rf = np.mean((y_test - y_hat_rf)**2)\n",
    "print('test mse: ',mse_rf)"
   ]
  },
  {
   "cell_type": "code",
   "execution_count": null,
   "id": "38301002",
   "metadata": {},
   "outputs": [],
   "source": [
    "# Feature importance list\n",
    "\n",
    "feature_imp = pd.DataFrame(\n",
    "    {'importance':rf_auto.feature_importances_},\n",
    "    index=feature_names)\n",
    "feature_imp.sort_values(by='importance', ascending=False)"
   ]
  },
  {
   "cell_type": "code",
   "execution_count": null,
   "id": "d82e2f0a",
   "metadata": {},
   "outputs": [],
   "source": [
    "# Can you minimize the test MSE?\n"
   ]
  }
 ],
 "metadata": {
  "kernelspec": {
   "display_name": "Python 3 (ipykernel)",
   "language": "python",
   "name": "python3"
  },
  "language_info": {
   "codemirror_mode": {
    "name": "ipython",
    "version": 3
   },
   "file_extension": ".py",
   "mimetype": "text/x-python",
   "name": "python",
   "nbconvert_exporter": "python",
   "pygments_lexer": "ipython3",
   "version": "3.11.5"
  }
 },
 "nbformat": 4,
 "nbformat_minor": 5
}
