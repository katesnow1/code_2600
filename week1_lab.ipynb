{
 "cells": [
  {
   "cell_type": "code",
   "execution_count": 2,
   "id": "b568e1f7",
   "metadata": {},
   "outputs": [
    {
     "data": {
      "text/html": [
       "<div>\n",
       "<style scoped>\n",
       "    .dataframe tbody tr th:only-of-type {\n",
       "        vertical-align: middle;\n",
       "    }\n",
       "\n",
       "    .dataframe tbody tr th {\n",
       "        vertical-align: top;\n",
       "    }\n",
       "\n",
       "    .dataframe thead th {\n",
       "        text-align: right;\n",
       "    }\n",
       "</style>\n",
       "<table border=\"1\" class=\"dataframe\">\n",
       "  <thead>\n",
       "    <tr style=\"text-align: right;\">\n",
       "      <th></th>\n",
       "      <th>Income</th>\n",
       "      <th>Limit</th>\n",
       "      <th>Rating</th>\n",
       "      <th>Cards</th>\n",
       "      <th>Age</th>\n",
       "      <th>Education</th>\n",
       "      <th>Own</th>\n",
       "      <th>Student</th>\n",
       "      <th>Married</th>\n",
       "      <th>Region</th>\n",
       "      <th>Balance</th>\n",
       "    </tr>\n",
       "  </thead>\n",
       "  <tbody>\n",
       "    <tr>\n",
       "      <th>0</th>\n",
       "      <td>14.891</td>\n",
       "      <td>3606</td>\n",
       "      <td>283</td>\n",
       "      <td>2</td>\n",
       "      <td>34</td>\n",
       "      <td>11</td>\n",
       "      <td>No</td>\n",
       "      <td>No</td>\n",
       "      <td>Yes</td>\n",
       "      <td>South</td>\n",
       "      <td>333</td>\n",
       "    </tr>\n",
       "    <tr>\n",
       "      <th>1</th>\n",
       "      <td>106.025</td>\n",
       "      <td>6645</td>\n",
       "      <td>483</td>\n",
       "      <td>3</td>\n",
       "      <td>82</td>\n",
       "      <td>15</td>\n",
       "      <td>Yes</td>\n",
       "      <td>Yes</td>\n",
       "      <td>Yes</td>\n",
       "      <td>West</td>\n",
       "      <td>903</td>\n",
       "    </tr>\n",
       "    <tr>\n",
       "      <th>2</th>\n",
       "      <td>104.593</td>\n",
       "      <td>7075</td>\n",
       "      <td>514</td>\n",
       "      <td>4</td>\n",
       "      <td>71</td>\n",
       "      <td>11</td>\n",
       "      <td>No</td>\n",
       "      <td>No</td>\n",
       "      <td>No</td>\n",
       "      <td>West</td>\n",
       "      <td>580</td>\n",
       "    </tr>\n",
       "    <tr>\n",
       "      <th>3</th>\n",
       "      <td>148.924</td>\n",
       "      <td>9504</td>\n",
       "      <td>681</td>\n",
       "      <td>3</td>\n",
       "      <td>36</td>\n",
       "      <td>11</td>\n",
       "      <td>Yes</td>\n",
       "      <td>No</td>\n",
       "      <td>No</td>\n",
       "      <td>West</td>\n",
       "      <td>964</td>\n",
       "    </tr>\n",
       "    <tr>\n",
       "      <th>4</th>\n",
       "      <td>55.882</td>\n",
       "      <td>4897</td>\n",
       "      <td>357</td>\n",
       "      <td>2</td>\n",
       "      <td>68</td>\n",
       "      <td>16</td>\n",
       "      <td>No</td>\n",
       "      <td>No</td>\n",
       "      <td>Yes</td>\n",
       "      <td>South</td>\n",
       "      <td>331</td>\n",
       "    </tr>\n",
       "    <tr>\n",
       "      <th>...</th>\n",
       "      <td>...</td>\n",
       "      <td>...</td>\n",
       "      <td>...</td>\n",
       "      <td>...</td>\n",
       "      <td>...</td>\n",
       "      <td>...</td>\n",
       "      <td>...</td>\n",
       "      <td>...</td>\n",
       "      <td>...</td>\n",
       "      <td>...</td>\n",
       "      <td>...</td>\n",
       "    </tr>\n",
       "    <tr>\n",
       "      <th>395</th>\n",
       "      <td>12.096</td>\n",
       "      <td>4100</td>\n",
       "      <td>307</td>\n",
       "      <td>3</td>\n",
       "      <td>32</td>\n",
       "      <td>13</td>\n",
       "      <td>No</td>\n",
       "      <td>No</td>\n",
       "      <td>Yes</td>\n",
       "      <td>South</td>\n",
       "      <td>560</td>\n",
       "    </tr>\n",
       "    <tr>\n",
       "      <th>396</th>\n",
       "      <td>13.364</td>\n",
       "      <td>3838</td>\n",
       "      <td>296</td>\n",
       "      <td>5</td>\n",
       "      <td>65</td>\n",
       "      <td>17</td>\n",
       "      <td>No</td>\n",
       "      <td>No</td>\n",
       "      <td>No</td>\n",
       "      <td>East</td>\n",
       "      <td>480</td>\n",
       "    </tr>\n",
       "    <tr>\n",
       "      <th>397</th>\n",
       "      <td>57.872</td>\n",
       "      <td>4171</td>\n",
       "      <td>321</td>\n",
       "      <td>5</td>\n",
       "      <td>67</td>\n",
       "      <td>12</td>\n",
       "      <td>Yes</td>\n",
       "      <td>No</td>\n",
       "      <td>Yes</td>\n",
       "      <td>South</td>\n",
       "      <td>138</td>\n",
       "    </tr>\n",
       "    <tr>\n",
       "      <th>398</th>\n",
       "      <td>37.728</td>\n",
       "      <td>2525</td>\n",
       "      <td>192</td>\n",
       "      <td>1</td>\n",
       "      <td>44</td>\n",
       "      <td>13</td>\n",
       "      <td>No</td>\n",
       "      <td>No</td>\n",
       "      <td>Yes</td>\n",
       "      <td>South</td>\n",
       "      <td>0</td>\n",
       "    </tr>\n",
       "    <tr>\n",
       "      <th>399</th>\n",
       "      <td>18.701</td>\n",
       "      <td>5524</td>\n",
       "      <td>415</td>\n",
       "      <td>5</td>\n",
       "      <td>64</td>\n",
       "      <td>7</td>\n",
       "      <td>Yes</td>\n",
       "      <td>No</td>\n",
       "      <td>No</td>\n",
       "      <td>West</td>\n",
       "      <td>966</td>\n",
       "    </tr>\n",
       "  </tbody>\n",
       "</table>\n",
       "<p>400 rows × 11 columns</p>\n",
       "</div>"
      ],
      "text/plain": [
       "      Income  Limit  Rating  Cards  Age  Education  Own Student Married  \\\n",
       "0     14.891   3606     283      2   34         11   No      No     Yes   \n",
       "1    106.025   6645     483      3   82         15  Yes     Yes     Yes   \n",
       "2    104.593   7075     514      4   71         11   No      No      No   \n",
       "3    148.924   9504     681      3   36         11  Yes      No      No   \n",
       "4     55.882   4897     357      2   68         16   No      No     Yes   \n",
       "..       ...    ...     ...    ...  ...        ...  ...     ...     ...   \n",
       "395   12.096   4100     307      3   32         13   No      No     Yes   \n",
       "396   13.364   3838     296      5   65         17   No      No      No   \n",
       "397   57.872   4171     321      5   67         12  Yes      No     Yes   \n",
       "398   37.728   2525     192      1   44         13   No      No     Yes   \n",
       "399   18.701   5524     415      5   64          7  Yes      No      No   \n",
       "\n",
       "    Region  Balance  \n",
       "0    South      333  \n",
       "1     West      903  \n",
       "2     West      580  \n",
       "3     West      964  \n",
       "4    South      331  \n",
       "..     ...      ...  \n",
       "395  South      560  \n",
       "396   East      480  \n",
       "397  South      138  \n",
       "398  South        0  \n",
       "399   West      966  \n",
       "\n",
       "[400 rows x 11 columns]"
      ]
     },
     "execution_count": 2,
     "metadata": {},
     "output_type": "execute_result"
    }
   ],
   "source": [
    "import pandas as pd\n",
    "import numpy as np\n",
    "Credit = pd.read_csv('../data/Credit.csv')\n",
    "Credit"
   ]
  },
  {
   "cell_type": "code",
   "execution_count": 3,
   "id": "25259b0c",
   "metadata": {},
   "outputs": [
    {
     "data": {
      "text/plain": [
       "Index(['Income', 'Limit', 'Rating', 'Cards', 'Age', 'Education', 'Own',\n",
       "       'Student', 'Married', 'Region', 'Balance'],\n",
       "      dtype='object')"
      ]
     },
     "execution_count": 3,
     "metadata": {},
     "output_type": "execute_result"
    }
   ],
   "source": [
    "# What are the feature names?\n",
    "Credit.columns"
   ]
  },
  {
   "cell_type": "code",
   "execution_count": null,
   "id": "a4c1aba7",
   "metadata": {},
   "outputs": [],
   "source": []
  },
  {
   "cell_type": "code",
   "execution_count": 4,
   "id": "89c10226",
   "metadata": {},
   "outputs": [
    {
     "data": {
      "text/plain": [
       "Income       float64\n",
       "Limit          int64\n",
       "Rating         int64\n",
       "Cards          int64\n",
       "Age            int64\n",
       "Education      int64\n",
       "Own           object\n",
       "Student       object\n",
       "Married       object\n",
       "Region        object\n",
       "Balance        int64\n",
       "dtype: object"
      ]
     },
     "execution_count": 4,
     "metadata": {},
     "output_type": "execute_result"
    }
   ],
   "source": [
    "# What are the data types of the feature values (i.e., numeric, categorical)\n",
    "Credit.dtypes"
   ]
  },
  {
   "cell_type": "code",
   "execution_count": null,
   "id": "c58526a0",
   "metadata": {},
   "outputs": [],
   "source": []
  },
  {
   "cell_type": "code",
   "execution_count": 7,
   "id": "36df79fe",
   "metadata": {},
   "outputs": [
    {
     "data": {
      "text/plain": [
       "np.float64(55.6675)"
      ]
     },
     "execution_count": 7,
     "metadata": {},
     "output_type": "execute_result"
    }
   ],
   "source": [
    "# Find the mean, median, and mode of the feature \"Age.\"\n",
    "Credit[\"Age\"].mean()"
   ]
  },
  {
   "cell_type": "code",
   "execution_count": 8,
   "id": "27ba0f36",
   "metadata": {},
   "outputs": [
    {
     "data": {
      "text/plain": [
       "56.0"
      ]
     },
     "execution_count": 8,
     "metadata": {},
     "output_type": "execute_result"
    }
   ],
   "source": [
    "Credit[\"Age\"].median()"
   ]
  },
  {
   "cell_type": "code",
   "execution_count": 9,
   "id": "7632855f",
   "metadata": {},
   "outputs": [
    {
     "data": {
      "text/plain": [
       "0    44\n",
       "1    66\n",
       "Name: Age, dtype: int64"
      ]
     },
     "execution_count": 9,
     "metadata": {},
     "output_type": "execute_result"
    }
   ],
   "source": [
    "Credit[\"Age\"].mode()"
   ]
  },
  {
   "cell_type": "code",
   "execution_count": null,
   "id": "4806a30d",
   "metadata": {},
   "outputs": [],
   "source": []
  },
  {
   "cell_type": "code",
   "execution_count": 10,
   "id": "df9cced5",
   "metadata": {},
   "outputs": [],
   "source": [
    "# Create a histogram for the age variable.\n",
    "# You'll need to import \"subplots\" to do this\n",
    "from matplotlib.pyplot import subplots"
   ]
  },
  {
   "cell_type": "code",
   "execution_count": 11,
   "id": "eed83540",
   "metadata": {},
   "outputs": [
    {
     "data": {
      "text/plain": [
       "array([<Axes: title={'center': 'Age'}>], dtype=object)"
      ]
     },
     "execution_count": 11,
     "metadata": {},
     "output_type": "execute_result"
    },
    {
     "data": {
      "image/png": "[encoded data removed]",
      "text/plain": [
       "<Figure size 800x800 with 1 Axes>"
      ]
     },
     "metadata": {},
     "output_type": "display_data"
    }
   ],
   "source": [
    "fig, ax = subplots(figsize=(8, 8))\n",
    "Credit.hist('Age', ax=ax)"
   ]
  },
  {
   "cell_type": "code",
   "execution_count": null,
   "id": "0f98d3c8",
   "metadata": {},
   "outputs": [],
   "source": [
    "# Create a subset of Credit that only contains the columns Age, Region, and Income. Call it \"Subset.\""
   ]
  },
  {
   "cell_type": "code",
   "execution_count": 12,
   "id": "58123002",
   "metadata": {},
   "outputs": [],
   "source": [
    "Subset = Credit[[\"Age\", \"Region\", \"Income\"]]"
   ]
  },
  {
   "cell_type": "code",
   "execution_count": 13,
   "id": "0658a3af",
   "metadata": {},
   "outputs": [
    {
     "data": {
      "text/html": [
       "<div>\n",
       "<style scoped>\n",
       "    .dataframe tbody tr th:only-of-type {\n",
       "        vertical-align: middle;\n",
       "    }\n",
       "\n",
       "    .dataframe tbody tr th {\n",
       "        vertical-align: top;\n",
       "    }\n",
       "\n",
       "    .dataframe thead th {\n",
       "        text-align: right;\n",
       "    }\n",
       "</style>\n",
       "<table border=\"1\" class=\"dataframe\">\n",
       "  <thead>\n",
       "    <tr style=\"text-align: right;\">\n",
       "      <th></th>\n",
       "      <th>Age</th>\n",
       "      <th>Region</th>\n",
       "      <th>Income</th>\n",
       "    </tr>\n",
       "  </thead>\n",
       "  <tbody>\n",
       "    <tr>\n",
       "      <th>0</th>\n",
       "      <td>34</td>\n",
       "      <td>South</td>\n",
       "      <td>14.891</td>\n",
       "    </tr>\n",
       "    <tr>\n",
       "      <th>1</th>\n",
       "      <td>82</td>\n",
       "      <td>West</td>\n",
       "      <td>106.025</td>\n",
       "    </tr>\n",
       "    <tr>\n",
       "      <th>2</th>\n",
       "      <td>71</td>\n",
       "      <td>West</td>\n",
       "      <td>104.593</td>\n",
       "    </tr>\n",
       "    <tr>\n",
       "      <th>3</th>\n",
       "      <td>36</td>\n",
       "      <td>West</td>\n",
       "      <td>148.924</td>\n",
       "    </tr>\n",
       "    <tr>\n",
       "      <th>4</th>\n",
       "      <td>68</td>\n",
       "      <td>South</td>\n",
       "      <td>55.882</td>\n",
       "    </tr>\n",
       "    <tr>\n",
       "      <th>...</th>\n",
       "      <td>...</td>\n",
       "      <td>...</td>\n",
       "      <td>...</td>\n",
       "    </tr>\n",
       "    <tr>\n",
       "      <th>395</th>\n",
       "      <td>32</td>\n",
       "      <td>South</td>\n",
       "      <td>12.096</td>\n",
       "    </tr>\n",
       "    <tr>\n",
       "      <th>396</th>\n",
       "      <td>65</td>\n",
       "      <td>East</td>\n",
       "      <td>13.364</td>\n",
       "    </tr>\n",
       "    <tr>\n",
       "      <th>397</th>\n",
       "      <td>67</td>\n",
       "      <td>South</td>\n",
       "      <td>57.872</td>\n",
       "    </tr>\n",
       "    <tr>\n",
       "      <th>398</th>\n",
       "      <td>44</td>\n",
       "      <td>South</td>\n",
       "      <td>37.728</td>\n",
       "    </tr>\n",
       "    <tr>\n",
       "      <th>399</th>\n",
       "      <td>64</td>\n",
       "      <td>West</td>\n",
       "      <td>18.701</td>\n",
       "    </tr>\n",
       "  </tbody>\n",
       "</table>\n",
       "<p>400 rows × 3 columns</p>\n",
       "</div>"
      ],
      "text/plain": [
       "     Age Region   Income\n",
       "0     34  South   14.891\n",
       "1     82   West  106.025\n",
       "2     71   West  104.593\n",
       "3     36   West  148.924\n",
       "4     68  South   55.882\n",
       "..   ...    ...      ...\n",
       "395   32  South   12.096\n",
       "396   65   East   13.364\n",
       "397   67  South   57.872\n",
       "398   44  South   37.728\n",
       "399   64   West   18.701\n",
       "\n",
       "[400 rows x 3 columns]"
      ]
     },
     "execution_count": 13,
     "metadata": {},
     "output_type": "execute_result"
    }
   ],
   "source": [
    "Subset"
   ]
  },
  {
   "cell_type": "code",
   "execution_count": null,
   "id": "045a6b76",
   "metadata": {},
   "outputs": [],
   "source": [
    "# From this subset, create two partitions: \n",
    "    # One that contains records for Ages below 50, and one that contains Ages 50+\n",
    "    # Call them \"Younger\" and \"Older\""
   ]
  },
  {
   "cell_type": "code",
   "execution_count": 14,
   "id": "0bc1b835",
   "metadata": {},
   "outputs": [],
   "source": [
    "Younger = Subset[Subset[\"Age\"]<50]"
   ]
  },
  {
   "cell_type": "code",
   "execution_count": 15,
   "id": "6e7c6740",
   "metadata": {},
   "outputs": [
    {
     "data": {
      "text/html": [
       "<div>\n",
       "<style scoped>\n",
       "    .dataframe tbody tr th:only-of-type {\n",
       "        vertical-align: middle;\n",
       "    }\n",
       "\n",
       "    .dataframe tbody tr th {\n",
       "        vertical-align: top;\n",
       "    }\n",
       "\n",
       "    .dataframe thead th {\n",
       "        text-align: right;\n",
       "    }\n",
       "</style>\n",
       "<table border=\"1\" class=\"dataframe\">\n",
       "  <thead>\n",
       "    <tr style=\"text-align: right;\">\n",
       "      <th></th>\n",
       "      <th>Age</th>\n",
       "      <th>Region</th>\n",
       "      <th>Income</th>\n",
       "    </tr>\n",
       "  </thead>\n",
       "  <tbody>\n",
       "    <tr>\n",
       "      <th>0</th>\n",
       "      <td>34</td>\n",
       "      <td>South</td>\n",
       "      <td>14.891</td>\n",
       "    </tr>\n",
       "    <tr>\n",
       "      <th>3</th>\n",
       "      <td>36</td>\n",
       "      <td>West</td>\n",
       "      <td>148.924</td>\n",
       "    </tr>\n",
       "    <tr>\n",
       "      <th>6</th>\n",
       "      <td>37</td>\n",
       "      <td>East</td>\n",
       "      <td>20.996</td>\n",
       "    </tr>\n",
       "    <tr>\n",
       "      <th>9</th>\n",
       "      <td>41</td>\n",
       "      <td>East</td>\n",
       "      <td>71.061</td>\n",
       "    </tr>\n",
       "    <tr>\n",
       "      <th>10</th>\n",
       "      <td>30</td>\n",
       "      <td>South</td>\n",
       "      <td>63.095</td>\n",
       "    </tr>\n",
       "    <tr>\n",
       "      <th>...</th>\n",
       "      <td>...</td>\n",
       "      <td>...</td>\n",
       "      <td>...</td>\n",
       "    </tr>\n",
       "    <tr>\n",
       "      <th>391</th>\n",
       "      <td>43</td>\n",
       "      <td>South</td>\n",
       "      <td>73.327</td>\n",
       "    </tr>\n",
       "    <tr>\n",
       "      <th>392</th>\n",
       "      <td>24</td>\n",
       "      <td>West</td>\n",
       "      <td>25.974</td>\n",
       "    </tr>\n",
       "    <tr>\n",
       "      <th>394</th>\n",
       "      <td>40</td>\n",
       "      <td>South</td>\n",
       "      <td>49.794</td>\n",
       "    </tr>\n",
       "    <tr>\n",
       "      <th>395</th>\n",
       "      <td>32</td>\n",
       "      <td>South</td>\n",
       "      <td>12.096</td>\n",
       "    </tr>\n",
       "    <tr>\n",
       "      <th>398</th>\n",
       "      <td>44</td>\n",
       "      <td>South</td>\n",
       "      <td>37.728</td>\n",
       "    </tr>\n",
       "  </tbody>\n",
       "</table>\n",
       "<p>161 rows × 3 columns</p>\n",
       "</div>"
      ],
      "text/plain": [
       "     Age Region   Income\n",
       "0     34  South   14.891\n",
       "3     36   West  148.924\n",
       "6     37   East   20.996\n",
       "9     41   East   71.061\n",
       "10    30  South   63.095\n",
       "..   ...    ...      ...\n",
       "391   43  South   73.327\n",
       "392   24   West   25.974\n",
       "394   40  South   49.794\n",
       "395   32  South   12.096\n",
       "398   44  South   37.728\n",
       "\n",
       "[161 rows x 3 columns]"
      ]
     },
     "execution_count": 15,
     "metadata": {},
     "output_type": "execute_result"
    }
   ],
   "source": [
    "Younger"
   ]
  },
  {
   "cell_type": "code",
   "execution_count": 16,
   "id": "f91c65b4",
   "metadata": {},
   "outputs": [],
   "source": [
    "Older = Subset[Subset[\"Age\"]>=50]"
   ]
  },
  {
   "cell_type": "code",
   "execution_count": 17,
   "id": "f6966430",
   "metadata": {},
   "outputs": [
    {
     "data": {
      "text/html": [
       "<div>\n",
       "<style scoped>\n",
       "    .dataframe tbody tr th:only-of-type {\n",
       "        vertical-align: middle;\n",
       "    }\n",
       "\n",
       "    .dataframe tbody tr th {\n",
       "        vertical-align: top;\n",
       "    }\n",
       "\n",
       "    .dataframe thead th {\n",
       "        text-align: right;\n",
       "    }\n",
       "</style>\n",
       "<table border=\"1\" class=\"dataframe\">\n",
       "  <thead>\n",
       "    <tr style=\"text-align: right;\">\n",
       "      <th></th>\n",
       "      <th>Age</th>\n",
       "      <th>Region</th>\n",
       "      <th>Income</th>\n",
       "    </tr>\n",
       "  </thead>\n",
       "  <tbody>\n",
       "    <tr>\n",
       "      <th>1</th>\n",
       "      <td>82</td>\n",
       "      <td>West</td>\n",
       "      <td>106.025</td>\n",
       "    </tr>\n",
       "    <tr>\n",
       "      <th>2</th>\n",
       "      <td>71</td>\n",
       "      <td>West</td>\n",
       "      <td>104.593</td>\n",
       "    </tr>\n",
       "    <tr>\n",
       "      <th>4</th>\n",
       "      <td>68</td>\n",
       "      <td>South</td>\n",
       "      <td>55.882</td>\n",
       "    </tr>\n",
       "    <tr>\n",
       "      <th>5</th>\n",
       "      <td>77</td>\n",
       "      <td>South</td>\n",
       "      <td>80.180</td>\n",
       "    </tr>\n",
       "    <tr>\n",
       "      <th>7</th>\n",
       "      <td>87</td>\n",
       "      <td>West</td>\n",
       "      <td>71.408</td>\n",
       "    </tr>\n",
       "    <tr>\n",
       "      <th>...</th>\n",
       "      <td>...</td>\n",
       "      <td>...</td>\n",
       "      <td>...</td>\n",
       "    </tr>\n",
       "    <tr>\n",
       "      <th>390</th>\n",
       "      <td>81</td>\n",
       "      <td>West</td>\n",
       "      <td>135.118</td>\n",
       "    </tr>\n",
       "    <tr>\n",
       "      <th>393</th>\n",
       "      <td>65</td>\n",
       "      <td>East</td>\n",
       "      <td>17.316</td>\n",
       "    </tr>\n",
       "    <tr>\n",
       "      <th>396</th>\n",
       "      <td>65</td>\n",
       "      <td>East</td>\n",
       "      <td>13.364</td>\n",
       "    </tr>\n",
       "    <tr>\n",
       "      <th>397</th>\n",
       "      <td>67</td>\n",
       "      <td>South</td>\n",
       "      <td>57.872</td>\n",
       "    </tr>\n",
       "    <tr>\n",
       "      <th>399</th>\n",
       "      <td>64</td>\n",
       "      <td>West</td>\n",
       "      <td>18.701</td>\n",
       "    </tr>\n",
       "  </tbody>\n",
       "</table>\n",
       "<p>239 rows × 3 columns</p>\n",
       "</div>"
      ],
      "text/plain": [
       "     Age Region   Income\n",
       "1     82   West  106.025\n",
       "2     71   West  104.593\n",
       "4     68  South   55.882\n",
       "5     77  South   80.180\n",
       "7     87   West   71.408\n",
       "..   ...    ...      ...\n",
       "390   81   West  135.118\n",
       "393   65   East   17.316\n",
       "396   65   East   13.364\n",
       "397   67  South   57.872\n",
       "399   64   West   18.701\n",
       "\n",
       "[239 rows x 3 columns]"
      ]
     },
     "execution_count": 17,
     "metadata": {},
     "output_type": "execute_result"
    }
   ],
   "source": [
    "Older"
   ]
  },
  {
   "cell_type": "code",
   "execution_count": null,
   "id": "f276dcc5",
   "metadata": {},
   "outputs": [],
   "source": [
    "# Use these partitions to compare the mean and median Income for each age group (less than 50 vs. 50+)"
   ]
  },
  {
   "cell_type": "code",
   "execution_count": 18,
   "id": "a0492480",
   "metadata": {},
   "outputs": [
    {
     "data": {
      "text/plain": [
       "np.float64(41.65203726708074)"
      ]
     },
     "execution_count": 18,
     "metadata": {},
     "output_type": "execute_result"
    }
   ],
   "source": [
    "Younger[\"Income\"].mean()"
   ]
  },
  {
   "cell_type": "code",
   "execution_count": 19,
   "id": "06057f97",
   "metadata": {},
   "outputs": [
    {
     "data": {
      "text/plain": [
       "np.float64(47.6216569037657)"
      ]
     },
     "execution_count": 19,
     "metadata": {},
     "output_type": "execute_result"
    }
   ],
   "source": [
    "Older[\"Income\"].mean()"
   ]
  },
  {
   "cell_type": "code",
   "execution_count": 20,
   "id": "38678f7c",
   "metadata": {},
   "outputs": [
    {
     "data": {
      "text/plain": [
       "31.861"
      ]
     },
     "execution_count": 20,
     "metadata": {},
     "output_type": "execute_result"
    }
   ],
   "source": [
    "Younger[\"Income\"].median()"
   ]
  },
  {
   "cell_type": "code",
   "execution_count": 21,
   "id": "b7bc82dd",
   "metadata": {},
   "outputs": [
    {
     "data": {
      "text/plain": [
       "33.694"
      ]
     },
     "execution_count": 21,
     "metadata": {},
     "output_type": "execute_result"
    }
   ],
   "source": [
    "Older[\"Income\"].median()"
   ]
  },
  {
   "cell_type": "code",
   "execution_count": null,
   "id": "8eb20375",
   "metadata": {},
   "outputs": [],
   "source": [
    "# What does the difference between mean and median suggest about the distribution of income?"
   ]
  },
  {
   "cell_type": "code",
   "execution_count": null,
   "id": "896e300a",
   "metadata": {},
   "outputs": [],
   "source": [
    "#Skewed right"
   ]
  },
  {
   "cell_type": "code",
   "execution_count": null,
   "id": "01db69c8",
   "metadata": {},
   "outputs": [],
   "source": [
    "# What are the possible values for Region?"
   ]
  },
  {
   "cell_type": "code",
   "execution_count": null,
   "id": "d2954498",
   "metadata": {},
   "outputs": [],
   "source": []
  },
  {
   "cell_type": "code",
   "execution_count": null,
   "id": "bc815889",
   "metadata": {},
   "outputs": [],
   "source": [
    "# Use the value_counts method to build a frequency table for the possible values of Region."
   ]
  },
  {
   "cell_type": "code",
   "execution_count": null,
   "id": "308f0c5b",
   "metadata": {},
   "outputs": [],
   "source": []
  },
  {
   "cell_type": "code",
   "execution_count": null,
   "id": "a6ac14de",
   "metadata": {},
   "outputs": [],
   "source": [
    "# Compare the average income for students vs. non-students."
   ]
  },
  {
   "cell_type": "markdown",
   "id": "a240d266",
   "metadata": {},
   "source": []
  },
  {
   "cell_type": "code",
   "execution_count": null,
   "id": "3bfc07c3",
   "metadata": {},
   "outputs": [],
   "source": []
  },
  {
   "cell_type": "code",
   "execution_count": null,
   "id": "fad3d6c9",
   "metadata": {},
   "outputs": [],
   "source": []
  },
  {
   "cell_type": "code",
   "execution_count": null,
   "id": "b818baa7",
   "metadata": {},
   "outputs": [],
   "source": []
  },
  {
   "cell_type": "code",
   "execution_count": null,
   "id": "acdb144a",
   "metadata": {},
   "outputs": [],
   "source": []
  },
  {
   "cell_type": "code",
   "execution_count": null,
   "id": "d9beefb4",
   "metadata": {},
   "outputs": [],
   "source": [
    "# Often banks use a variable called \"utilization\" to assess credit risk.\n",
    "    # Utilization is the ratio of balance to limit (i.e., what % of the credit limit is being used?)\n",
    "# Add a feature to the Credit dataset to measure utilization"
   ]
  },
  {
   "cell_type": "code",
   "execution_count": null,
   "id": "65cbe997",
   "metadata": {},
   "outputs": [],
   "source": []
  },
  {
   "cell_type": "code",
   "execution_count": null,
   "id": "d98dcbc9",
   "metadata": {},
   "outputs": [],
   "source": []
  },
  {
   "cell_type": "code",
   "execution_count": null,
   "id": "55bb8ebb",
   "metadata": {},
   "outputs": [],
   "source": [
    "# What is the maximum utilization value in this set? "
   ]
  },
  {
   "cell_type": "code",
   "execution_count": null,
   "id": "58512879",
   "metadata": {},
   "outputs": [],
   "source": []
  },
  {
   "cell_type": "code",
   "execution_count": null,
   "id": "1849d427",
   "metadata": {},
   "outputs": [],
   "source": [
    "# Describe other features of the record containing the maximum utilization."
   ]
  },
  {
   "cell_type": "code",
   "execution_count": null,
   "id": "e80faad7",
   "metadata": {},
   "outputs": [],
   "source": []
  },
  {
   "cell_type": "code",
   "execution_count": null,
   "id": "91de3b8c",
   "metadata": {},
   "outputs": [],
   "source": [
    "# What are the maximum and minimum credit ratings in this data?"
   ]
  },
  {
   "cell_type": "code",
   "execution_count": null,
   "id": "8fe1559e",
   "metadata": {},
   "outputs": [],
   "source": []
  },
  {
   "cell_type": "code",
   "execution_count": null,
   "id": "216c8490",
   "metadata": {},
   "outputs": [],
   "source": []
  },
  {
   "cell_type": "code",
   "execution_count": null,
   "id": "1c6dee00",
   "metadata": {},
   "outputs": [],
   "source": []
  },
  {
   "cell_type": "code",
   "execution_count": null,
   "id": "15f2e307",
   "metadata": {},
   "outputs": [],
   "source": [
    "# What variable do you think is most predictive of \"Rating\"? How does the data support your answer?"
   ]
  },
  {
   "cell_type": "code",
   "execution_count": null,
   "id": "adedfb3d",
   "metadata": {},
   "outputs": [],
   "source": []
  },
  {
   "cell_type": "code",
   "execution_count": null,
   "id": "6a73d5a4",
   "metadata": {},
   "outputs": [],
   "source": []
  },
  {
   "cell_type": "code",
   "execution_count": null,
   "id": "b39f678f",
   "metadata": {},
   "outputs": [],
   "source": []
  }
 ],
 "metadata": {
  "kernelspec": {
   "display_name": "base",
   "language": "python",
   "name": "python3"
  },
  "language_info": {
   "codemirror_mode": {
    "name": "ipython",
    "version": 3
   },
   "file_extension": ".py",
   "mimetype": "text/x-python",
   "name": "python",
   "nbconvert_exporter": "python",
   "pygments_lexer": "ipython3",
   "version": "3.13.5"
  }
 },
 "nbformat": 4,
 "nbformat_minor": 5
}
