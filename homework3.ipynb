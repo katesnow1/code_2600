{
 "cells": [
  {
   "cell_type": "code",
   "execution_count": 14,
   "id": "8fe3b865",
   "metadata": {},
   "outputs": [],
   "source": [
    "import numpy as np\n",
    "import pandas as pd\n",
    "import matplotlib.pyplot as plt\n",
    "import math\n",
    "from ISLP import load_data"
   ]
  },
  {
   "cell_type": "markdown",
   "id": "50d28d1f",
   "metadata": {},
   "source": [
    "Question 1"
   ]
  },
  {
   "cell_type": "markdown",
   "id": "4c76f479",
   "metadata": {},
   "source": [
    "a."
   ]
  },
  {
   "cell_type": "code",
   "execution_count": 3,
   "id": "7e02bce2",
   "metadata": {},
   "outputs": [
    {
     "data": {
      "text/plain": [
       "0.45016600268752205"
      ]
     },
     "execution_count": 3,
     "metadata": {},
     "output_type": "execute_result"
    }
   ],
   "source": [
    "b0 = -4.2\n",
    "b1 = 0.04\n",
    "b2 = 0.8\n",
    "x1 = 60\n",
    "x2 = 2\n",
    "exp = b0+b1*x1+b2*x2\n",
    "p = pow(math.e, exp)/(1+pow(math.e, exp))\n",
    "p"
   ]
  },
  {
   "cell_type": "markdown",
   "id": "1abfe9b4",
   "metadata": {},
   "source": [
    "The probability that this applicant will be admitted to the bootcamp is 0.45."
   ]
  },
  {
   "cell_type": "markdown",
   "id": "61e05b96",
   "metadata": {},
   "source": [
    "b."
   ]
  },
  {
   "cell_type": "code",
   "execution_count": 8,
   "id": "28391c14",
   "metadata": {},
   "outputs": [
    {
     "data": {
      "text/plain": [
       "119.9306144334055"
      ]
     },
     "execution_count": 8,
     "metadata": {},
     "output_type": "execute_result"
    }
   ],
   "source": [
    "p = 0.90\n",
    "exp = math.log(p/(1-p))\n",
    "x1 = (exp - b0 - b2*x2)/b1\n",
    "x1\n"
   ]
  },
  {
   "cell_type": "markdown",
   "id": "d4c39dbc",
   "metadata": {},
   "source": [
    "The applicant would need about 120 practice hours to have a 90% chance of being admitted."
   ]
  },
  {
   "cell_type": "markdown",
   "id": "d058b22e",
   "metadata": {},
   "source": [
    "c. Bo = -4.2 represents the probability of being admitted to the bootcamp if the applicant had zero practice hours and 0 years of prior programming experience. "
   ]
  },
  {
   "cell_type": "code",
   "execution_count": 12,
   "id": "715fbcc9",
   "metadata": {},
   "outputs": [
    {
     "data": {
      "text/plain": [
       "0.014774031693273059"
      ]
     },
     "execution_count": 12,
     "metadata": {},
     "output_type": "execute_result"
    }
   ],
   "source": [
    "x1 = 0\n",
    "x2 = 0\n",
    "exp = b0+b1*x1+b2*x2\n",
    "p = pow(math.e, exp)/(1+pow(math.e, exp))\n",
    "p"
   ]
  },
  {
   "cell_type": "markdown",
   "id": "f258f008",
   "metadata": {},
   "source": [
    "This would give us a probability of 0.015 / 1.5%."
   ]
  },
  {
   "cell_type": "markdown",
   "id": "417a7ab5",
   "metadata": {},
   "source": [
    "Question 2"
   ]
  },
  {
   "cell_type": "code",
   "execution_count": 18,
   "id": "7197b0fa",
   "metadata": {},
   "outputs": [],
   "source": [
    "OJ = load_data('OJ')\n",
    "Train = OJ[OJ['StoreID'].isin([1,2,3,4])]\n",
    "Test = OJ[OJ['StoreID'] == 7]"
   ]
  },
  {
   "cell_type": "markdown",
   "id": "3aae1c57",
   "metadata": {},
   "source": [
    "a."
   ]
  },
  {
   "cell_type": "code",
   "execution_count": 22,
   "id": "7cd4426f",
   "metadata": {},
   "outputs": [
    {
     "name": "stdout",
     "output_type": "stream",
     "text": [
      "mean      0.519988\n",
      "std       0.313757\n",
      "median    0.500000\n",
      "min       0.000011\n",
      "max       0.999947\n",
      "Name: LoyalCH, dtype: float64\n",
      "mean      0.046218\n",
      "std       0.210105\n",
      "median    0.000000\n",
      "min       0.000000\n",
      "max       1.000000\n",
      "Name: SpecialCH, dtype: float64\n",
      "mean      0.114524\n",
      "std       0.255935\n",
      "median    0.200000\n",
      "min      -0.670000\n",
      "max       0.440000\n",
      "Name: PriceDiff, dtype: float64\n"
     ]
    }
   ],
   "source": [
    "loyalty_stats = Train['LoyalCH'].agg(['mean','std','median','min','max'])\n",
    "print(loyalty_stats)\n",
    "specialCH_stats = Train['SpecialCH'].agg(['mean','std','median','min','max'])\n",
    "print(specialCH_stats)\n",
    "priceDiff_stats = Train['PriceDiff'].agg(['mean','std','median','min','max'])\n",
    "print(priceDiff_stats)"
   ]
  },
  {
   "cell_type": "markdown",
   "id": "4ad31fef",
   "metadata": {},
   "source": [
    "b."
   ]
  },
  {
   "cell_type": "code",
   "execution_count": 29,
   "id": "3314a637",
   "metadata": {},
   "outputs": [
    {
     "data": {
      "text/html": [
       "<div>\n",
       "<style scoped>\n",
       "    .dataframe tbody tr th:only-of-type {\n",
       "        vertical-align: middle;\n",
       "    }\n",
       "\n",
       "    .dataframe tbody tr th {\n",
       "        vertical-align: top;\n",
       "    }\n",
       "\n",
       "    .dataframe thead th {\n",
       "        text-align: right;\n",
       "    }\n",
       "</style>\n",
       "<table border=\"1\" class=\"dataframe\">\n",
       "  <thead>\n",
       "    <tr style=\"text-align: right;\">\n",
       "      <th></th>\n",
       "      <th>LoyalCH</th>\n",
       "      <th>SpecialCH</th>\n",
       "      <th>PriceDiff</th>\n",
       "    </tr>\n",
       "  </thead>\n",
       "  <tbody>\n",
       "    <tr>\n",
       "      <th>LoyalCH</th>\n",
       "      <td>1.000000</td>\n",
       "      <td>0.014230</td>\n",
       "      <td>0.008349</td>\n",
       "    </tr>\n",
       "    <tr>\n",
       "      <th>SpecialCH</th>\n",
       "      <td>0.014230</td>\n",
       "      <td>1.000000</td>\n",
       "      <td>-0.025542</td>\n",
       "    </tr>\n",
       "    <tr>\n",
       "      <th>PriceDiff</th>\n",
       "      <td>0.008349</td>\n",
       "      <td>-0.025542</td>\n",
       "      <td>1.000000</td>\n",
       "    </tr>\n",
       "  </tbody>\n",
       "</table>\n",
       "</div>"
      ],
      "text/plain": [
       "            LoyalCH  SpecialCH  PriceDiff\n",
       "LoyalCH    1.000000   0.014230   0.008349\n",
       "SpecialCH  0.014230   1.000000  -0.025542\n",
       "PriceDiff  0.008349  -0.025542   1.000000"
      ]
     },
     "execution_count": 29,
     "metadata": {},
     "output_type": "execute_result"
    }
   ],
   "source": [
    "vars = ['LoyalCH','SpecialCH', 'PriceDiff']\n",
    "trainSubset = Train[vars]\n",
    "cor_matrix = trainSubset.corr()\n",
    "cor_matrix"
   ]
  },
  {
   "cell_type": "markdown",
   "id": "e833b02c",
   "metadata": {},
   "source": [
    "c."
   ]
  },
  {
   "cell_type": "code",
   "execution_count": null,
   "id": "d358724e",
   "metadata": {},
   "outputs": [],
   "source": []
  }
 ],
 "metadata": {
  "kernelspec": {
   "display_name": "islp",
   "language": "python",
   "name": "python3"
  },
  "language_info": {
   "codemirror_mode": {
    "name": "ipython",
    "version": 3
   },
   "file_extension": ".py",
   "mimetype": "text/x-python",
   "name": "python",
   "nbconvert_exporter": "python",
   "pygments_lexer": "ipython3",
   "version": "3.13.5"
  }
 },
 "nbformat": 4,
 "nbformat_minor": 5
}
