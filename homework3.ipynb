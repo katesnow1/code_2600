{
 "cells": [
  {
   "cell_type": "code",
   "execution_count": 13,
   "id": "8fe3b865",
   "metadata": {},
   "outputs": [],
   "source": [
    "import numpy as np\n",
    "import pandas as pd\n",
    "import matplotlib.pyplot as plt\n",
    "import math\n",
    "from ISLP import load_data\n",
    "import statsmodels.api as sm\n",
    "from sklearn.metrics import confusion_matrix"
   ]
  },
  {
   "cell_type": "markdown",
   "id": "50d28d1f",
   "metadata": {},
   "source": [
    "Question 1"
   ]
  },
  {
   "cell_type": "markdown",
   "id": "4c76f479",
   "metadata": {},
   "source": [
    "a."
   ]
  },
  {
   "cell_type": "code",
   "execution_count": 3,
   "id": "7e02bce2",
   "metadata": {},
   "outputs": [
    {
     "data": {
      "text/plain": [
       "0.45016600268752205"
      ]
     },
     "execution_count": 3,
     "metadata": {},
     "output_type": "execute_result"
    }
   ],
   "source": [
    "b0 = -4.2\n",
    "b1 = 0.04\n",
    "b2 = 0.8\n",
    "x1 = 60\n",
    "x2 = 2\n",
    "exp = b0+b1*x1+b2*x2\n",
    "p = pow(math.e, exp)/(1+pow(math.e, exp))\n",
    "p"
   ]
  },
  {
   "cell_type": "markdown",
   "id": "1abfe9b4",
   "metadata": {},
   "source": [
    "The probability that this applicant will be admitted to the bootcamp is 0.45."
   ]
  },
  {
   "cell_type": "markdown",
   "id": "61e05b96",
   "metadata": {},
   "source": [
    "b."
   ]
  },
  {
   "cell_type": "code",
   "execution_count": 4,
   "id": "28391c14",
   "metadata": {},
   "outputs": [
    {
     "data": {
      "text/plain": [
       "119.9306144334055"
      ]
     },
     "execution_count": 4,
     "metadata": {},
     "output_type": "execute_result"
    }
   ],
   "source": [
    "p = 0.90\n",
    "exp = math.log(p/(1-p))\n",
    "x1 = (exp - b0 - b2*x2)/b1\n",
    "x1\n"
   ]
  },
  {
   "cell_type": "markdown",
   "id": "d4c39dbc",
   "metadata": {},
   "source": [
    "The applicant would need about 120 practice hours to have a 90% chance of being admitted."
   ]
  },
  {
   "cell_type": "markdown",
   "id": "d058b22e",
   "metadata": {},
   "source": [
    "c. Bo = -4.2 represents the probability of being admitted to the bootcamp if the applicant had zero practice hours and 0 years of prior programming experience. "
   ]
  },
  {
   "cell_type": "code",
   "execution_count": 5,
   "id": "715fbcc9",
   "metadata": {},
   "outputs": [
    {
     "data": {
      "text/plain": [
       "0.014774031693273059"
      ]
     },
     "execution_count": 5,
     "metadata": {},
     "output_type": "execute_result"
    }
   ],
   "source": [
    "x1 = 0\n",
    "x2 = 0\n",
    "exp = b0+b1*x1+b2*x2\n",
    "p = pow(math.e, exp)/(1+pow(math.e, exp))\n",
    "p"
   ]
  },
  {
   "cell_type": "markdown",
   "id": "f258f008",
   "metadata": {},
   "source": [
    "This would give us a probability of 0.015 / 1.5%."
   ]
  },
  {
   "cell_type": "markdown",
   "id": "417a7ab5",
   "metadata": {},
   "source": [
    "Question 2"
   ]
  },
  {
   "cell_type": "code",
   "execution_count": 6,
   "id": "7197b0fa",
   "metadata": {},
   "outputs": [],
   "source": [
    "OJ = load_data('OJ')\n",
    "Train = OJ[OJ['StoreID'].isin([1,2,3,4])]\n",
    "Test = OJ[OJ['StoreID'] == 7]"
   ]
  },
  {
   "cell_type": "markdown",
   "id": "3aae1c57",
   "metadata": {},
   "source": [
    "a."
   ]
  },
  {
   "cell_type": "code",
   "execution_count": 7,
   "id": "7cd4426f",
   "metadata": {},
   "outputs": [
    {
     "name": "stdout",
     "output_type": "stream",
     "text": [
      "mean      0.519988\n",
      "std       0.313757\n",
      "median    0.500000\n",
      "min       0.000011\n",
      "max       0.999947\n",
      "Name: LoyalCH, dtype: float64\n",
      "mean      0.046218\n",
      "std       0.210105\n",
      "median    0.000000\n",
      "min       0.000000\n",
      "max       1.000000\n",
      "Name: SpecialCH, dtype: float64\n",
      "mean      0.114524\n",
      "std       0.255935\n",
      "median    0.200000\n",
      "min      -0.670000\n",
      "max       0.440000\n",
      "Name: PriceDiff, dtype: float64\n"
     ]
    }
   ],
   "source": [
    "loyalty_stats = Train['LoyalCH'].agg(['mean','std','median','min','max'])\n",
    "print(loyalty_stats)\n",
    "specialCH_stats = Train['SpecialCH'].agg(['mean','std','median','min','max'])\n",
    "print(specialCH_stats)\n",
    "priceDiff_stats = Train['PriceDiff'].agg(['mean','std','median','min','max'])\n",
    "print(priceDiff_stats)"
   ]
  },
  {
   "cell_type": "markdown",
   "id": "4ad31fef",
   "metadata": {},
   "source": [
    "b."
   ]
  },
  {
   "cell_type": "code",
   "execution_count": 8,
   "id": "3314a637",
   "metadata": {},
   "outputs": [
    {
     "data": {
      "text/html": [
       "<div>\n",
       "<style scoped>\n",
       "    .dataframe tbody tr th:only-of-type {\n",
       "        vertical-align: middle;\n",
       "    }\n",
       "\n",
       "    .dataframe tbody tr th {\n",
       "        vertical-align: top;\n",
       "    }\n",
       "\n",
       "    .dataframe thead th {\n",
       "        text-align: right;\n",
       "    }\n",
       "</style>\n",
       "<table border=\"1\" class=\"dataframe\">\n",
       "  <thead>\n",
       "    <tr style=\"text-align: right;\">\n",
       "      <th></th>\n",
       "      <th>LoyalCH</th>\n",
       "      <th>SpecialCH</th>\n",
       "      <th>PriceDiff</th>\n",
       "    </tr>\n",
       "  </thead>\n",
       "  <tbody>\n",
       "    <tr>\n",
       "      <th>LoyalCH</th>\n",
       "      <td>1.000000</td>\n",
       "      <td>0.014230</td>\n",
       "      <td>0.008349</td>\n",
       "    </tr>\n",
       "    <tr>\n",
       "      <th>SpecialCH</th>\n",
       "      <td>0.014230</td>\n",
       "      <td>1.000000</td>\n",
       "      <td>-0.025542</td>\n",
       "    </tr>\n",
       "    <tr>\n",
       "      <th>PriceDiff</th>\n",
       "      <td>0.008349</td>\n",
       "      <td>-0.025542</td>\n",
       "      <td>1.000000</td>\n",
       "    </tr>\n",
       "  </tbody>\n",
       "</table>\n",
       "</div>"
      ],
      "text/plain": [
       "            LoyalCH  SpecialCH  PriceDiff\n",
       "LoyalCH    1.000000   0.014230   0.008349\n",
       "SpecialCH  0.014230   1.000000  -0.025542\n",
       "PriceDiff  0.008349  -0.025542   1.000000"
      ]
     },
     "execution_count": 8,
     "metadata": {},
     "output_type": "execute_result"
    }
   ],
   "source": [
    "vars = ['LoyalCH','SpecialCH', 'PriceDiff']\n",
    "trainSubset = Train[vars]\n",
    "cor_matrix = trainSubset.corr()\n",
    "cor_matrix"
   ]
  },
  {
   "cell_type": "markdown",
   "id": "e833b02c",
   "metadata": {},
   "source": [
    "c."
   ]
  },
  {
   "cell_type": "code",
   "execution_count": 11,
   "id": "d358724e",
   "metadata": {},
   "outputs": [
    {
     "name": "stdout",
     "output_type": "stream",
     "text": [
      "Optimization terminated successfully.\n",
      "         Current function value: 0.414155\n",
      "         Iterations 7\n"
     ]
    },
    {
     "name": "stderr",
     "output_type": "stream",
     "text": [
      "C:\\Users\\kate\\AppData\\Local\\Temp\\ipykernel_1212\\1076967648.py:1: SettingWithCopyWarning: \n",
      "A value is trying to be set on a copy of a slice from a DataFrame.\n",
      "Try using .loc[row_indexer,col_indexer] = value instead\n",
      "\n",
      "See the caveats in the documentation: https://pandas.pydata.org/pandas-docs/stable/user_guide/indexing.html#returning-a-view-versus-a-copy\n",
      "  Train['Purchase_binary'] = (Train['Purchase'] == 'CH').astype(int)\n"
     ]
    },
    {
     "data": {
      "text/html": [
       "<table class=\"simpletable\">\n",
       "<caption>Logit Regression Results</caption>\n",
       "<tr>\n",
       "  <th>Dep. Variable:</th>    <td>Purchase_binary</td> <th>  No. Observations:  </th>  <td>   714</td>  \n",
       "</tr>\n",
       "<tr>\n",
       "  <th>Model:</th>                 <td>Logit</td>      <th>  Df Residuals:      </th>  <td>   710</td>  \n",
       "</tr>\n",
       "<tr>\n",
       "  <th>Method:</th>                 <td>MLE</td>       <th>  Df Model:          </th>  <td>     3</td>  \n",
       "</tr>\n",
       "<tr>\n",
       "  <th>Date:</th>            <td>Wed, 15 Oct 2025</td> <th>  Pseudo R-squ.:     </th>  <td>0.4009</td>  \n",
       "</tr>\n",
       "<tr>\n",
       "  <th>Time:</th>                <td>10:33:32</td>     <th>  Log-Likelihood:    </th> <td> -295.71</td> \n",
       "</tr>\n",
       "<tr>\n",
       "  <th>converged:</th>             <td>True</td>       <th>  LL-Null:           </th> <td> -493.55</td> \n",
       "</tr>\n",
       "<tr>\n",
       "  <th>Covariance Type:</th>     <td>nonrobust</td>    <th>  LLR p-value:       </th> <td>1.902e-85</td>\n",
       "</tr>\n",
       "</table>\n",
       "<table class=\"simpletable\">\n",
       "<tr>\n",
       "      <td></td>         <th>coef</th>     <th>std err</th>      <th>z</th>      <th>P>|z|</th>  <th>[0.025</th>    <th>0.975]</th>  \n",
       "</tr>\n",
       "<tr>\n",
       "  <th>const</th>     <td>   -3.4069</td> <td>    0.267</td> <td>  -12.756</td> <td> 0.000</td> <td>   -3.930</td> <td>   -2.883</td>\n",
       "</tr>\n",
       "<tr>\n",
       "  <th>LoyalCH</th>   <td>    6.3847</td> <td>    0.456</td> <td>   14.009</td> <td> 0.000</td> <td>    5.491</td> <td>    7.278</td>\n",
       "</tr>\n",
       "<tr>\n",
       "  <th>SpecialCH</th> <td>   -0.1841</td> <td>    0.447</td> <td>   -0.412</td> <td> 0.680</td> <td>   -1.060</td> <td>    0.691</td>\n",
       "</tr>\n",
       "<tr>\n",
       "  <th>PriceDiff</th> <td>    2.5697</td> <td>    0.426</td> <td>    6.038</td> <td> 0.000</td> <td>    1.736</td> <td>    3.404</td>\n",
       "</tr>\n",
       "</table>"
      ],
      "text/latex": [
       "\\begin{center}\n",
       "\\begin{tabular}{lclc}\n",
       "\\toprule\n",
       "\\textbf{Dep. Variable:}   & Purchase\\_binary & \\textbf{  No. Observations:  } &      714    \\\\\n",
       "\\textbf{Model:}           &      Logit       & \\textbf{  Df Residuals:      } &      710    \\\\\n",
       "\\textbf{Method:}          &       MLE        & \\textbf{  Df Model:          } &        3    \\\\\n",
       "\\textbf{Date:}            & Wed, 15 Oct 2025 & \\textbf{  Pseudo R-squ.:     } &   0.4009    \\\\\n",
       "\\textbf{Time:}            &     10:33:32     & \\textbf{  Log-Likelihood:    } &   -295.71   \\\\\n",
       "\\textbf{converged:}       &       True       & \\textbf{  LL-Null:           } &   -493.55   \\\\\n",
       "\\textbf{Covariance Type:} &    nonrobust     & \\textbf{  LLR p-value:       } & 1.902e-85   \\\\\n",
       "\\bottomrule\n",
       "\\end{tabular}\n",
       "\\begin{tabular}{lcccccc}\n",
       "                   & \\textbf{coef} & \\textbf{std err} & \\textbf{z} & \\textbf{P$> |$z$|$} & \\textbf{[0.025} & \\textbf{0.975]}  \\\\\n",
       "\\midrule\n",
       "\\textbf{const}     &      -3.4069  &        0.267     &   -12.756  &         0.000        &       -3.930    &       -2.883     \\\\\n",
       "\\textbf{LoyalCH}   &       6.3847  &        0.456     &    14.009  &         0.000        &        5.491    &        7.278     \\\\\n",
       "\\textbf{SpecialCH} &      -0.1841  &        0.447     &    -0.412  &         0.680        &       -1.060    &        0.691     \\\\\n",
       "\\textbf{PriceDiff} &       2.5697  &        0.426     &     6.038  &         0.000        &        1.736    &        3.404     \\\\\n",
       "\\bottomrule\n",
       "\\end{tabular}\n",
       "%\\caption{Logit Regression Results}\n",
       "\\end{center}"
      ],
      "text/plain": [
       "<class 'statsmodels.iolib.summary.Summary'>\n",
       "\"\"\"\n",
       "                           Logit Regression Results                           \n",
       "==============================================================================\n",
       "Dep. Variable:        Purchase_binary   No. Observations:                  714\n",
       "Model:                          Logit   Df Residuals:                      710\n",
       "Method:                           MLE   Df Model:                            3\n",
       "Date:                Wed, 15 Oct 2025   Pseudo R-squ.:                  0.4009\n",
       "Time:                        10:33:32   Log-Likelihood:                -295.71\n",
       "converged:                       True   LL-Null:                       -493.55\n",
       "Covariance Type:            nonrobust   LLR p-value:                 1.902e-85\n",
       "==============================================================================\n",
       "                 coef    std err          z      P>|z|      [0.025      0.975]\n",
       "------------------------------------------------------------------------------\n",
       "const         -3.4069      0.267    -12.756      0.000      -3.930      -2.883\n",
       "LoyalCH        6.3847      0.456     14.009      0.000       5.491       7.278\n",
       "SpecialCH     -0.1841      0.447     -0.412      0.680      -1.060       0.691\n",
       "PriceDiff      2.5697      0.426      6.038      0.000       1.736       3.404\n",
       "==============================================================================\n",
       "\"\"\""
      ]
     },
     "execution_count": 11,
     "metadata": {},
     "output_type": "execute_result"
    }
   ],
   "source": [
    "Train['Purchase_binary'] = (Train['Purchase'] == 'CH').astype(int)\n",
    "X = Train[['LoyalCH', 'SpecialCH', 'PriceDiff']]\n",
    "X = sm.add_constant(X)\n",
    "y = Train['Purchase_binary']\n",
    "model = sm.Logit(y,X)\n",
    "result = model.fit()\n",
    "result.summary()"
   ]
  },
  {
   "cell_type": "markdown",
   "id": "0af04da4",
   "metadata": {},
   "source": [
    "According to this logistic regression model, both the loyalty for CH and price difference are statistically significant. I can tell they are significant by looking at the p values and seeing that both of them are 0. On the oher hand, the existence of a special on CH is not statistically significant in this model since the p value is 0.680."
   ]
  },
  {
   "cell_type": "markdown",
   "id": "2d98430a",
   "metadata": {},
   "source": [
    "d."
   ]
  },
  {
   "cell_type": "code",
   "execution_count": 14,
   "id": "99090864",
   "metadata": {},
   "outputs": [
    {
     "data": {
      "text/plain": [
       "array([[269,  66],\n",
       "       [ 62, 317]])"
      ]
     },
     "execution_count": 14,
     "metadata": {},
     "output_type": "execute_result"
    }
   ],
   "source": [
    "y_pred_prob = result.predict(X)\n",
    "y_pred = (y_pred_prob >= 0.5).astype(int)\n",
    "cm = confusion_matrix(y, y_pred)\n",
    "cm\n"
   ]
  },
  {
   "cell_type": "code",
   "execution_count": 16,
   "id": "25e780ba",
   "metadata": {},
   "outputs": [
    {
     "name": "stdout",
     "output_type": "stream",
     "text": [
      "Accuracy 0.8207282913165266\n",
      "False positive rate 0.19701492537313434\n",
      "False negative rate 0.16358839050131926\n"
     ]
    }
   ],
   "source": [
    "TN, FP, FN, TP = cm.ravel()\n",
    "\n",
    "accuracy = (TP + TN) / (TP + TN + FP + FN)\n",
    "false_positive_rate = FP / (FP + TN)\n",
    "false_negative_rate = FN / (FN + TP)\n",
    "print(f\"Accuracy {accuracy}\")\n",
    "print(f\"False positive rate {false_positive_rate}\")\n",
    "print(f\"False negative rate {false_negative_rate}\")"
   ]
  },
  {
   "cell_type": "markdown",
   "id": "3f167f74",
   "metadata": {},
   "source": [
    "e."
   ]
  },
  {
   "cell_type": "code",
   "execution_count": 17,
   "id": "04652490",
   "metadata": {},
   "outputs": [
    {
     "name": "stdout",
     "output_type": "stream",
     "text": [
      "Optimization terminated successfully.\n",
      "         Current function value: 0.414274\n",
      "         Iterations 7\n"
     ]
    },
    {
     "data": {
      "text/html": [
       "<table class=\"simpletable\">\n",
       "<caption>Logit Regression Results</caption>\n",
       "<tr>\n",
       "  <th>Dep. Variable:</th>    <td>Purchase_binary</td> <th>  No. Observations:  </th>  <td>   714</td>  \n",
       "</tr>\n",
       "<tr>\n",
       "  <th>Model:</th>                 <td>Logit</td>      <th>  Df Residuals:      </th>  <td>   711</td>  \n",
       "</tr>\n",
       "<tr>\n",
       "  <th>Method:</th>                 <td>MLE</td>       <th>  Df Model:          </th>  <td>     2</td>  \n",
       "</tr>\n",
       "<tr>\n",
       "  <th>Date:</th>            <td>Wed, 15 Oct 2025</td> <th>  Pseudo R-squ.:     </th>  <td>0.4007</td>  \n",
       "</tr>\n",
       "<tr>\n",
       "  <th>Time:</th>                <td>10:51:25</td>     <th>  Log-Likelihood:    </th> <td> -295.79</td> \n",
       "</tr>\n",
       "<tr>\n",
       "  <th>converged:</th>             <td>True</td>       <th>  LL-Null:           </th> <td> -493.55</td> \n",
       "</tr>\n",
       "<tr>\n",
       "  <th>Covariance Type:</th>     <td>nonrobust</td>    <th>  LLR p-value:       </th> <td>1.301e-86</td>\n",
       "</tr>\n",
       "</table>\n",
       "<table class=\"simpletable\">\n",
       "<tr>\n",
       "      <td></td>         <th>coef</th>     <th>std err</th>      <th>z</th>      <th>P>|z|</th>  <th>[0.025</th>    <th>0.975]</th>  \n",
       "</tr>\n",
       "<tr>\n",
       "  <th>const</th>     <td>   -3.4159</td> <td>    0.266</td> <td>  -12.820</td> <td> 0.000</td> <td>   -3.938</td> <td>   -2.894</td>\n",
       "</tr>\n",
       "<tr>\n",
       "  <th>LoyalCH</th>   <td>    6.3811</td> <td>    0.456</td> <td>   14.008</td> <td> 0.000</td> <td>    5.488</td> <td>    7.274</td>\n",
       "</tr>\n",
       "<tr>\n",
       "  <th>PriceDiff</th> <td>    2.5729</td> <td>    0.426</td> <td>    6.043</td> <td> 0.000</td> <td>    1.739</td> <td>    3.407</td>\n",
       "</tr>\n",
       "</table>"
      ],
      "text/latex": [
       "\\begin{center}\n",
       "\\begin{tabular}{lclc}\n",
       "\\toprule\n",
       "\\textbf{Dep. Variable:}   & Purchase\\_binary & \\textbf{  No. Observations:  } &      714    \\\\\n",
       "\\textbf{Model:}           &      Logit       & \\textbf{  Df Residuals:      } &      711    \\\\\n",
       "\\textbf{Method:}          &       MLE        & \\textbf{  Df Model:          } &        2    \\\\\n",
       "\\textbf{Date:}            & Wed, 15 Oct 2025 & \\textbf{  Pseudo R-squ.:     } &   0.4007    \\\\\n",
       "\\textbf{Time:}            &     10:51:25     & \\textbf{  Log-Likelihood:    } &   -295.79   \\\\\n",
       "\\textbf{converged:}       &       True       & \\textbf{  LL-Null:           } &   -493.55   \\\\\n",
       "\\textbf{Covariance Type:} &    nonrobust     & \\textbf{  LLR p-value:       } & 1.301e-86   \\\\\n",
       "\\bottomrule\n",
       "\\end{tabular}\n",
       "\\begin{tabular}{lcccccc}\n",
       "                   & \\textbf{coef} & \\textbf{std err} & \\textbf{z} & \\textbf{P$> |$z$|$} & \\textbf{[0.025} & \\textbf{0.975]}  \\\\\n",
       "\\midrule\n",
       "\\textbf{const}     &      -3.4159  &        0.266     &   -12.820  &         0.000        &       -3.938    &       -2.894     \\\\\n",
       "\\textbf{LoyalCH}   &       6.3811  &        0.456     &    14.008  &         0.000        &        5.488    &        7.274     \\\\\n",
       "\\textbf{PriceDiff} &       2.5729  &        0.426     &     6.043  &         0.000        &        1.739    &        3.407     \\\\\n",
       "\\bottomrule\n",
       "\\end{tabular}\n",
       "%\\caption{Logit Regression Results}\n",
       "\\end{center}"
      ],
      "text/plain": [
       "<class 'statsmodels.iolib.summary.Summary'>\n",
       "\"\"\"\n",
       "                           Logit Regression Results                           \n",
       "==============================================================================\n",
       "Dep. Variable:        Purchase_binary   No. Observations:                  714\n",
       "Model:                          Logit   Df Residuals:                      711\n",
       "Method:                           MLE   Df Model:                            2\n",
       "Date:                Wed, 15 Oct 2025   Pseudo R-squ.:                  0.4007\n",
       "Time:                        10:51:25   Log-Likelihood:                -295.79\n",
       "converged:                       True   LL-Null:                       -493.55\n",
       "Covariance Type:            nonrobust   LLR p-value:                 1.301e-86\n",
       "==============================================================================\n",
       "                 coef    std err          z      P>|z|      [0.025      0.975]\n",
       "------------------------------------------------------------------------------\n",
       "const         -3.4159      0.266    -12.820      0.000      -3.938      -2.894\n",
       "LoyalCH        6.3811      0.456     14.008      0.000       5.488       7.274\n",
       "PriceDiff      2.5729      0.426      6.043      0.000       1.739       3.407\n",
       "==============================================================================\n",
       "\"\"\""
      ]
     },
     "execution_count": 17,
     "metadata": {},
     "output_type": "execute_result"
    }
   ],
   "source": [
    "X_train2 = Train[['LoyalCH', 'PriceDiff']]\n",
    "X_train2 = sm.add_constant(X_train2)\n",
    "y_train = Train[\"Purchase_binary\"]\n",
    "\n",
    "model2 = sm.Logit(y_train, X_train2)\n",
    "result2 = model2.fit()\n",
    "result2.summary()"
   ]
  },
  {
   "cell_type": "code",
   "execution_count": 22,
   "id": "c88822e6",
   "metadata": {},
   "outputs": [
    {
     "name": "stderr",
     "output_type": "stream",
     "text": [
      "C:\\Users\\kate\\AppData\\Local\\Temp\\ipykernel_1212\\2553722809.py:1: SettingWithCopyWarning: \n",
      "A value is trying to be set on a copy of a slice from a DataFrame.\n",
      "Try using .loc[row_indexer,col_indexer] = value instead\n",
      "\n",
      "See the caveats in the documentation: https://pandas.pydata.org/pandas-docs/stable/user_guide/indexing.html#returning-a-view-versus-a-copy\n",
      "  Test['Purchase_binary'] = (Test['Purchase'] == 'CH').astype(int)\n"
     ]
    },
    {
     "data": {
      "text/plain": [
       "array([[ 60,  22],\n",
       "       [ 34, 240]])"
      ]
     },
     "execution_count": 22,
     "metadata": {},
     "output_type": "execute_result"
    }
   ],
   "source": [
    "Test['Purchase_binary'] = (Test['Purchase'] == 'CH').astype(int)\n",
    "X_test2 = Test[['LoyalCH', 'PriceDiff']]\n",
    "X_test2 = sm.add_constant(X_test2)\n",
    "y_test = Test['Purchase_binary']\n",
    "\n",
    "y_pred_prob_test = result2.predict(X_test2)\n",
    "y_pred_test = (y_pred_prob_test >= 0.5).astype(int)\n",
    "\n",
    "cm_test = confusion_matrix(y_test, y_pred_test)\n",
    "cm_test"
   ]
  },
  {
   "cell_type": "code",
   "execution_count": 23,
   "id": "3633daa8",
   "metadata": {},
   "outputs": [
    {
     "name": "stdout",
     "output_type": "stream",
     "text": [
      "Accuracy 0.8426966292134831\n",
      "False positive rate 0.2682926829268293\n",
      "False negative rate 0.12408759124087591\n"
     ]
    }
   ],
   "source": [
    "TN, FP, FN, TP = cm_test.ravel()\n",
    "\n",
    "accuracy = (TP + TN) / (TP + TN + FP + FN)\n",
    "false_positive_rate = FP / (FP + TN)\n",
    "false_negative_rate = FN / (FN + TP)\n",
    "print(f\"Accuracy {accuracy}\")\n",
    "print(f\"False positive rate {false_positive_rate}\")\n",
    "print(f\"False negative rate {false_negative_rate}\")\n"
   ]
  },
  {
   "cell_type": "markdown",
   "id": "0b47f1ef",
   "metadata": {},
   "source": []
  }
 ],
 "metadata": {
  "kernelspec": {
   "display_name": "islp",
   "language": "python",
   "name": "python3"
  },
  "language_info": {
   "codemirror_mode": {
    "name": "ipython",
    "version": 3
   },
   "file_extension": ".py",
   "mimetype": "text/x-python",
   "name": "python",
   "nbconvert_exporter": "python",
   "pygments_lexer": "ipython3",
   "version": "3.13.5"
  }
 },
 "nbformat": 4,
 "nbformat_minor": 5
}
