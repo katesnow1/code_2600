{
 "cells": [
  {
   "cell_type": "code",
   "execution_count": null,
   "id": "cd484f9b",
   "metadata": {},
   "outputs": [],
   "source": [
    "import numpy as np\n",
    "import pandas as pd\n",
    "from matplotlib.pyplot import subplots\n",
    "import statsmodels.api as sm\n",
    "from ISLP import load_data\n",
    "from ISLP.models import (ModelSpec as MS,\n",
    "                         summarize)"
   ]
  },
  {
   "cell_type": "code",
   "execution_count": null,
   "id": "28fa7a83",
   "metadata": {},
   "outputs": [],
   "source": [
    "from ISLP import confusion_table\n",
    "from ISLP.models import contrast\n",
    "from sklearn.discriminant_analysis import \\\n",
    "     (LinearDiscriminantAnalysis as LDA,\n",
    "      QuadraticDiscriminantAnalysis as QDA)\n",
    "from sklearn.naive_bayes import GaussianNB\n",
    "from sklearn.neighbors import KNeighborsClassifier\n",
    "from sklearn.preprocessing import StandardScaler\n",
    "from sklearn.model_selection import train_test_split\n",
    "from sklearn.linear_model import LogisticRegression\n",
    "\n",
    "from sklearn.metrics import RocCurveDisplay\n",
    "roc_curve_est = RocCurveDisplay.from_estimator \n",
    "roc_curve_pred = RocCurveDisplay.from_predictions "
   ]
  },
  {
   "cell_type": "code",
   "execution_count": null,
   "id": "642e263e",
   "metadata": {},
   "outputs": [],
   "source": [
    "# Load the data\n",
    "\n",
    "Default = load_data('Default')\n",
    "Default"
   ]
  },
  {
   "cell_type": "code",
   "execution_count": null,
   "id": "f559b5fa",
   "metadata": {},
   "outputs": [],
   "source": [
    "# Do some preliminary feature engineering prior to any modeling\n",
    "X=Default[['balance','income','student']]\n",
    "\n",
    "X.loc[X['student']==\"Yes\", 'student_yes'] = 1\n",
    "X.loc[X['student']==\"No\", 'student_yes'] = 0\n",
    "X.drop(columns='student', axis=1, inplace=True)\n",
    "X"
   ]
  },
  {
   "cell_type": "code",
   "execution_count": null,
   "id": "7571f7b8",
   "metadata": {},
   "outputs": [],
   "source": [
    "# Create the target\n",
    "\n",
    "y = Default.default == 'Yes'"
   ]
  },
  {
   "cell_type": "code",
   "execution_count": null,
   "id": "482710a3",
   "metadata": {},
   "outputs": [],
   "source": [
    "# Create train and test split\n",
    "\n",
    "X_train, X_test, y_train, y_test = train_test_split(X,\n",
    "                                                    y,\n",
    "                                                    random_state=314,\n",
    "                                                    test_size=0.25,\n",
    "                                                    shuffle=True) \n",
    "Train = pd.merge_ordered(X_train,y_train,left_on=X_train.index,right_on=y_train.index).drop(columns=['key_0'])\n",
    "Test = pd.merge_ordered(X_test,y_test,left_on=X_test.index,right_on=y_test.index).drop(columns=['key_0'])"
   ]
  },
  {
   "cell_type": "markdown",
   "id": "01500a40",
   "metadata": {},
   "source": [
    "## $k$-Nearest Neighbors"
   ]
  },
  {
   "cell_type": "code",
   "execution_count": null,
   "id": "85d5d180",
   "metadata": {},
   "outputs": [],
   "source": [
    "# kNN requires an array as input, so we'll make copies of the train and test X's\n",
    "\n",
    "X_train_knn, X_test_knn = [np.asarray(X) for X in [X_train, X_test]]"
   ]
  },
  {
   "cell_type": "code",
   "execution_count": null,
   "id": "0dfc36da",
   "metadata": {},
   "outputs": [],
   "source": [
    "# First we'll try using only the nearest neighbor (k=1)\n",
    "knn1 = KNeighborsClassifier(n_neighbors=1)\n",
    "knn1.fit(X_train_knn, y_train)\n",
    "\n",
    "knn1_test = knn1.predict(X_test_knn)"
   ]
  },
  {
   "cell_type": "code",
   "execution_count": null,
   "id": "7751dba8",
   "metadata": {},
   "outputs": [],
   "source": [
    "confusion_table(knn1_test, y_test)"
   ]
  },
  {
   "cell_type": "code",
   "execution_count": null,
   "id": "bbb863f3",
   "metadata": {},
   "outputs": [],
   "source": [
    "# We'll create an ROC plot and keep adding curves from new models to it\n",
    "\n",
    "fig, ax = subplots(figsize=(8,8))\n",
    "roc_curve_est(knn1,\n",
    "              X_test_knn,\n",
    "              y_test,\n",
    "              name='kNN1 (Test)',\n",
    "              color='r',\n",
    "              ax=ax);"
   ]
  },
  {
   "cell_type": "code",
   "execution_count": null,
   "id": "ed0b3826",
   "metadata": {},
   "outputs": [],
   "source": [
    "# Now we'll try 10 nearest neighbors\n",
    "\n",
    "knn10 = KNeighborsClassifier(n_neighbors=10)\n",
    "knn10.fit(X_train_knn, y_train)\n",
    "knn10_test = knn10.predict(X_test_knn)"
   ]
  },
  {
   "cell_type": "code",
   "execution_count": null,
   "id": "213f95f1",
   "metadata": {},
   "outputs": [],
   "source": [
    "confusion_table(knn10_test, y_test)"
   ]
  },
  {
   "cell_type": "code",
   "execution_count": null,
   "id": "7956c33d",
   "metadata": {},
   "outputs": [],
   "source": [
    "# Wait, only 7 records were marked true?\n",
    "\n",
    "knn10_test_prob = knn10.predict_proba(X_test_knn)[:,1]\n",
    "knn10_test_prob"
   ]
  },
  {
   "cell_type": "code",
   "execution_count": null,
   "id": "1ce6d7b5",
   "metadata": {},
   "outputs": [],
   "source": [
    "# What if we change the threshold? \n",
    "# Try to get the number of false positives and false negatives to be about the same\n",
    "\n",
    "knn10_test_pred = np.array([True]*len(y_test))\n",
    "knn10_test_pred[knn10_test_prob<=0.2] = False"
   ]
  },
  {
   "cell_type": "code",
   "execution_count": null,
   "id": "d4b1115c",
   "metadata": {},
   "outputs": [],
   "source": [
    "confusion_table(knn10_test_pred, y_test)"
   ]
  },
  {
   "cell_type": "code",
   "execution_count": null,
   "id": "02323b11",
   "metadata": {},
   "outputs": [],
   "source": [
    "roc_curve_est(knn10,\n",
    "              X_test_knn,\n",
    "              y_test,\n",
    "              name='kNN10 (Test)',\n",
    "              color='y',\n",
    "              ax=ax);\n",
    "fig"
   ]
  },
  {
   "cell_type": "code",
   "execution_count": null,
   "id": "2016d2cb",
   "metadata": {},
   "outputs": [],
   "source": [
    "# How about 20 nearest neighbors?\n",
    "\n",
    "knn20 = KNeighborsClassifier(n_neighbors=20)\n",
    "knn20.fit(X_train_knn, y_train)\n",
    "knn20_test = knn20.predict(X_test_knn)"
   ]
  },
  {
   "cell_type": "code",
   "execution_count": null,
   "id": "cc76b4c0",
   "metadata": {},
   "outputs": [],
   "source": [
    "confusion_table(knn20_test, y_test)"
   ]
  },
  {
   "cell_type": "code",
   "execution_count": null,
   "id": "763c02f0",
   "metadata": {},
   "outputs": [],
   "source": [
    "knn20_test_prob = knn20.predict_proba(X_test_knn)[:,1]\n",
    "\n",
    "knn20_test_pred = np.array([True]*len(y_test))\n",
    "knn20_test_pred[knn20_test_prob<=0.15] = False\n",
    "\n",
    "confusion_table(knn20_test_pred, y_test)"
   ]
  },
  {
   "cell_type": "code",
   "execution_count": null,
   "id": "b7d5522f",
   "metadata": {},
   "outputs": [],
   "source": [
    "# How does the ROC curve look?\n",
    "\n",
    "roc_curve_est(knn20,\n",
    "              X_test_knn,\n",
    "              y_test,\n",
    "              name='kNN20 (Test)',\n",
    "              color='g',\n",
    "              ax=ax);\n",
    "fig"
   ]
  },
  {
   "cell_type": "code",
   "execution_count": null,
   "id": "53923dec",
   "metadata": {},
   "outputs": [],
   "source": [
    "# How about 100 nearest neighbors?\n",
    "\n",
    "knn100 = KNeighborsClassifier(n_neighbors=100)\n",
    "knn100.fit(X_train_knn, y_train)\n",
    "knn100_test = knn100.predict(X_test_knn)"
   ]
  },
  {
   "cell_type": "code",
   "execution_count": null,
   "id": "dec2f8ff",
   "metadata": {},
   "outputs": [],
   "source": [
    "confusion_table(knn100_test, y_test)"
   ]
  },
  {
   "cell_type": "code",
   "execution_count": null,
   "id": "fda365f3",
   "metadata": {},
   "outputs": [],
   "source": [
    "knn100_test_prob = knn100.predict_proba(X_test_knn)[:,1]\n",
    "\n",
    "knn100_test_pred = np.array([True]*len(y_test))\n",
    "knn100_test_pred[knn100_test_prob<=0.09] = False\n",
    "\n",
    "confusion_table(knn100_test_pred, y_test)"
   ]
  },
  {
   "cell_type": "code",
   "execution_count": null,
   "id": "3b947b5c",
   "metadata": {},
   "outputs": [],
   "source": [
    "roc_curve_est(knn100,\n",
    "              X_test_knn,\n",
    "              y_test,\n",
    "              name='kNN100 (Test)',\n",
    "              color='c',\n",
    "              ax=ax);\n",
    "fig"
   ]
  },
  {
   "cell_type": "markdown",
   "id": "0b3000b8",
   "metadata": {},
   "source": [
    "## Naive Bayes"
   ]
  },
  {
   "cell_type": "code",
   "execution_count": null,
   "id": "6bc3dbf0",
   "metadata": {},
   "outputs": [],
   "source": [
    "# Build the model\n",
    "\n",
    "nb = GaussianNB()\n",
    "nb.fit(X_train_knn, y_train)"
   ]
  },
  {
   "cell_type": "code",
   "execution_count": null,
   "id": "86d3269b",
   "metadata": {},
   "outputs": [],
   "source": [
    "# get predictions and construct confusion matrix on test data\n",
    "\n",
    "nb_test = nb.predict(X_test_knn)\n",
    "confusion_table(nb_test, y_test)"
   ]
  },
  {
   "cell_type": "code",
   "execution_count": null,
   "id": "a4a94026",
   "metadata": {},
   "outputs": [],
   "source": [
    "roc_curve_est(nb,\n",
    "              X_test_knn,\n",
    "              y_test,\n",
    "              name='Naive Bayes (Test)',\n",
    "              color='m',\n",
    "              ax=ax);\n",
    "fig"
   ]
  },
  {
   "cell_type": "markdown",
   "id": "636ec40b",
   "metadata": {},
   "source": [
    "## Logistic Regression"
   ]
  },
  {
   "cell_type": "code",
   "execution_count": null,
   "id": "35a41ab1",
   "metadata": {},
   "outputs": [],
   "source": [
    "# We'll need to add an intercept column to our X dataframes\n",
    "\n",
    "X_train['intercept'] = np.ones(X_train.shape[0])\n",
    "X_test['intercept'] = np.ones(X_test.shape[0])"
   ]
  },
  {
   "cell_type": "code",
   "execution_count": null,
   "id": "0952ea9f",
   "metadata": {},
   "outputs": [],
   "source": [
    "# Run the logistic regression model\n",
    "\n",
    "glm = sm.GLM(y_train,\n",
    "             X_train,\n",
    "             family=sm.families.Binomial())\n",
    "results = glm.fit()\n",
    "summarize(results)"
   ]
  },
  {
   "cell_type": "code",
   "execution_count": null,
   "id": "3e23c47c",
   "metadata": {},
   "outputs": [],
   "source": [
    "def predict(X, model):\n",
    "    # the built-in get_prediction tool returns an array, so we need to convert to a dataframe\n",
    "    predictions_df = pd.DataFrame(model.get_prediction(X).predicted, columns=['y_hat'], index=X.index)\n",
    "    return predictions_df['y_hat']"
   ]
  },
  {
   "cell_type": "code",
   "execution_count": null,
   "id": "31c0c3c9",
   "metadata": {},
   "outputs": [],
   "source": [
    "# Get the predicted probabilities\n",
    "\n",
    "probs_train=predict(X_train,results)\n",
    "probs_test=predict(X_test,results)"
   ]
  },
  {
   "cell_type": "code",
   "execution_count": null,
   "id": "cdac1f4e",
   "metadata": {},
   "outputs": [],
   "source": [
    "# We'll use 0.3 as the threshold for True vs. False\n",
    "\n",
    "predictions_train = np.array([True]*len(y_train))\n",
    "predictions_train[probs_train<0.3] = False\n",
    "\n",
    "predictions_test = np.array([True]*len(y_test))\n",
    "predictions_test[probs_test<0.3] = False\n"
   ]
  },
  {
   "cell_type": "code",
   "execution_count": null,
   "id": "8a564578",
   "metadata": {},
   "outputs": [],
   "source": [
    "confusion_table(predictions_test, y_test)"
   ]
  },
  {
   "cell_type": "code",
   "execution_count": null,
   "id": "19d9e11f",
   "metadata": {},
   "outputs": [],
   "source": [
    "# Let's look at the ROC curve\n",
    "\n",
    "roc_curve_pred(y_test,\n",
    "               probs_test,\n",
    "               name='Logistic:Prob (Test)',\n",
    "               color='b',\n",
    "               ax=ax);\n",
    "fig"
   ]
  },
  {
   "cell_type": "markdown",
   "id": "5f437a48",
   "metadata": {},
   "source": [
    "## LDA (optional)"
   ]
  },
  {
   "cell_type": "code",
   "execution_count": null,
   "id": "38cb5f86",
   "metadata": {},
   "outputs": [],
   "source": [
    "# We'll initialize it here\n",
    "\n",
    "lda = LDA(store_covariance=True)\n"
   ]
  },
  {
   "cell_type": "code",
   "execution_count": null,
   "id": "45f7791b",
   "metadata": {},
   "outputs": [],
   "source": [
    "# Let's remove the intercept column that we needed for logistic regression\n",
    "\n",
    "X_train.drop(columns='intercept', axis=1, inplace=True)\n",
    "X_test.drop(columns='intercept', axis=1, inplace=True)"
   ]
  },
  {
   "cell_type": "code",
   "execution_count": null,
   "id": "d15218b0",
   "metadata": {},
   "outputs": [],
   "source": [
    "lda.fit(X_train, y_train)"
   ]
  },
  {
   "cell_type": "code",
   "execution_count": null,
   "id": "ed86fa8e",
   "metadata": {},
   "outputs": [],
   "source": [
    "# Here are the centroids for each class on the training set\n",
    "\n",
    "lda.means_"
   ]
  },
  {
   "cell_type": "code",
   "execution_count": null,
   "id": "ac4ac50a",
   "metadata": {},
   "outputs": [],
   "source": [
    "# Here are the class names\n",
    "\n",
    "lda.classes_"
   ]
  },
  {
   "cell_type": "code",
   "execution_count": null,
   "id": "d26921db",
   "metadata": {},
   "outputs": [],
   "source": [
    "# Here is the order of the column names\n",
    "\n",
    "X_train.columns"
   ]
  },
  {
   "cell_type": "code",
   "execution_count": null,
   "id": "a650d38a",
   "metadata": {},
   "outputs": [],
   "source": [
    "# Here are the expected probabilities of the classes\n",
    "\n",
    "lda.priors_"
   ]
  },
  {
   "cell_type": "code",
   "execution_count": null,
   "id": "adb9faba",
   "metadata": {},
   "outputs": [],
   "source": [
    "# This is the linear combination used to decide which class to assign\n",
    "\n",
    "lda.scalings_"
   ]
  },
  {
   "cell_type": "code",
   "execution_count": null,
   "id": "812d2171",
   "metadata": {},
   "outputs": [],
   "source": [
    "# Calculate predictions on test set (we chose 0.26 in this case)\n",
    "\n",
    "lda_probs = lda.predict_proba(X_test)[:,1]\n",
    "\n",
    "lda_test = np.array([True]*len(y_test))\n",
    "lda_test[lda_probs<0.26] = False\n",
    "lda_test"
   ]
  },
  {
   "cell_type": "code",
   "execution_count": null,
   "id": "4fa7c64f",
   "metadata": {},
   "outputs": [],
   "source": [
    "confusion_table(lda_test, y_test)"
   ]
  },
  {
   "cell_type": "code",
   "execution_count": null,
   "id": "74814978",
   "metadata": {},
   "outputs": [],
   "source": [
    "roc_curve = RocCurveDisplay.from_estimator \n",
    "\n",
    "roc_curve(lda,\n",
    "          X_test,\n",
    "          y_test,\n",
    "          name='LDA Test',\n",
    "          color='m',\n",
    "          ax=ax);\n",
    "fig"
   ]
  },
  {
   "cell_type": "markdown",
   "id": "9f77b870",
   "metadata": {},
   "source": [
    "## Likelihood"
   ]
  },
  {
   "cell_type": "code",
   "execution_count": null,
   "id": "22d4b769",
   "metadata": {},
   "outputs": [],
   "source": [
    "# Create helper functions for computing the likelihood\n",
    "\n",
    "def predict(X, model):\n",
    "    # the built-in get_prediction tool returns an array, so we need to convert to a dataframe\n",
    "    predictions_df = pd.DataFrame(model.get_prediction(X).predicted, columns=['y_hat'], index=X.index)\n",
    "    return predictions_df['y_hat']\n",
    "\n",
    "def like(y, y_hat):\n",
    "    # create a columns of ones\n",
    "    ones = np.ones(X_test.shape[0])\n",
    "    # calculate the likelihood for each individual record\n",
    "    like_indiv = y*(y_hat)+(ones-y)*(ones-y_hat)\n",
    "    # calculate the product across records\n",
    "    likelihood = np.prod(like_indiv)\n",
    "    return likelihood"
   ]
  },
  {
   "cell_type": "code",
   "execution_count": null,
   "id": "5c41e800",
   "metadata": {},
   "outputs": [],
   "source": [
    "likelihood_test = like(y_test,probs_test)"
   ]
  },
  {
   "cell_type": "code",
   "execution_count": null,
   "id": "9ba87646",
   "metadata": {},
   "outputs": [],
   "source": [
    "print(likelihood_test)"
   ]
  },
  {
   "cell_type": "code",
   "execution_count": null,
   "id": "d4d70bd6",
   "metadata": {},
   "outputs": [],
   "source": []
  }
 ],
 "metadata": {
  "kernelspec": {
   "display_name": "base",
   "language": "python",
   "name": "python3"
  },
  "language_info": {
   "codemirror_mode": {
    "name": "ipython",
    "version": 3
   },
   "file_extension": ".py",
   "mimetype": "text/x-python",
   "name": "python",
   "nbconvert_exporter": "python",
   "pygments_lexer": "ipython3",
   "version": "3.11.5"
  }
 },
 "nbformat": 4,
 "nbformat_minor": 5
}
