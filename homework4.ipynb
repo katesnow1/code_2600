{
 "cells": [
  {
   "cell_type": "code",
   "execution_count": null,
   "id": "28c5ecdb",
   "metadata": {},
   "outputs": [],
   "source": [
    "#imports"
   ]
  },
  {
   "cell_type": "markdown",
   "id": "ec7fe1ba",
   "metadata": {},
   "source": [
    "Question 1"
   ]
  }
 ],
 "metadata": {
  "kernelspec": {
   "display_name": "islp",
   "language": "python",
   "name": "python3"
  },
  "language_info": {
   "name": "python",
   "version": "3.13.5"
  }
 },
 "nbformat": 4,
 "nbformat_minor": 5
}
